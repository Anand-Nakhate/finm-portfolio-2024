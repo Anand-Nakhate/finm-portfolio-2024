{
 "cells": [
  {
   "cell_type": "markdown",
   "id": "559895d2",
   "metadata": {},
   "source": [
    "# Final Exam - Open\n",
    "\n",
    "## FINM 36700 - 2024\n",
    "\n",
    "### UChicago Financial Mathematics\n",
    "\n",
    "* Mark Hendricks\n",
    "* hendricks@uchicago.edu"
   ]
  },
  {
   "cell_type": "markdown",
   "id": "9e0a3816-d8c0-4317-8a45-7047edf45f11",
   "metadata": {},
   "source": [
    "***"
   ]
  },
  {
   "cell_type": "markdown",
   "id": "01cde8d3",
   "metadata": {},
   "source": [
    "# Instructions"
   ]
  },
  {
   "cell_type": "markdown",
   "id": "cc273c1a",
   "metadata": {},
   "source": [
    "## Please note the following:\n",
    "\n",
    "Points\n",
    "* The exam is `85` points.\n",
    "* You have `85` minutes to complete the exam.\n",
    "* For every minute late you submit the exam, you will lose one point.\n",
    "\n",
    "\n",
    "Submission\n",
    "* You will upload your solution to the `Final - Open` assignment on Canvas, where you downloaded this. \n",
    "* Be sure to **submit** on Canvas, not just **save** on Canvas.\n",
    "* Your submission should be readable, (the graders can understand your answers.)\n",
    "* Your submission should **include all code used in your analysis in a file format that the code can be executed.** \n",
    "\n",
    "Rules\n",
    "* The exam is open-material, closed-communication.\n",
    "* You do not need to cite material from the course github repo - you are welcome to use the code posted there without citation.\n",
    "\n",
    "Advice\n",
    "* If you find any question to be unclear, state your interpretation and proceed. We will only answer questions of interpretation if there is a typo, error, etc.\n",
    "* The exam will be graded for partial credit."
   ]
  },
  {
   "cell_type": "markdown",
   "id": "624f27b1",
   "metadata": {},
   "source": [
    "## Data\n",
    "\n",
    "**All data files are found in the class github repo, in the `data` folder.**\n",
    "\n",
    "- For Section 1:\n",
    "    * `data/final_exam_data.xlsx`\n",
    "- for Section 2:\n",
    "    * `data/fx_rf_data.xlsx`"
   ]
  },
  {
   "cell_type": "code",
   "execution_count": null,
   "id": "99fa7a52-1fe0-4f95-8c41-4f2140683277",
   "metadata": {},
   "outputs": [],
   "source": []
  },
  {
   "cell_type": "markdown",
   "id": "ebf6e066",
   "metadata": {},
   "source": [
    "## Scoring\n",
    "\n",
    "| Problem | Points |\n",
    "|---------|--------|\n",
    "| 1       | 40     |\n",
    "| 2       | 45     |"
   ]
  },
  {
   "cell_type": "code",
   "execution_count": 1,
   "id": "15527de8-3dc3-4926-9174-12168af8789d",
   "metadata": {},
   "outputs": [],
   "source": [
    "import pandas as pd\n",
    "import numpy as np\n",
    "from tabulate import tabulate\n",
    "import seaborn as sns\n",
    "import matplotlib.pyplot as plt\n",
    "import statsmodels.api as sm\n",
    "\n",
    "import warnings\n",
    "warnings.filterwarnings('ignore')"
   ]
  },
  {
   "cell_type": "markdown",
   "id": "7fb2fc26",
   "metadata": {},
   "source": [
    "### Each numbered question is worth 5 points unless otherwise specified."
   ]
  },
  {
   "cell_type": "markdown",
   "id": "632ce7d4",
   "metadata": {},
   "source": [
    "***"
   ]
  },
  {
   "cell_type": "markdown",
   "id": "9a676293-3a91-4162-823e-4afb44c164e2",
   "metadata": {
    "vscode": {
     "languageId": "plaintext"
    }
   },
   "source": [
    "# 1. Cross-Sectional Factor Pricing\n",
    "\n",
    "Use the data found in the file `final_data.xlsx`. The sheet named `Asset Returns` contains daily excess returns data for various assets; the sheet named `Factor Returns` contains daily excess returns data for some unknown factor; and the sheet named `Asset Betas` contains the betas of each asset with respect to the given factor.\n",
    "\n",
    "Consider the data to have an annualization factor of `252` days per year.\n",
    "\n",
    "### 1.\n",
    "(10pts)\n",
    "\n",
    "Using linear regression, estimate the factor risk premium for __each point in time__, using the following model: $\\phantom{Brian Hood}$ \n",
    "\n",
    "$$\n",
    "\\tilde{r}^{(i)}_t = \\beta^{(i)}\\lambda_t + \\epsilon^{(i)}_t\n",
    "$$\n",
    "\n",
    "Using your estimated series $\\lambda_t$, report...\n",
    "\n",
    "* the last 3 values. \n",
    "\n",
    "* the annualized mean.\n",
    "\n",
    "* the annualized vol."
   ]
  },
  {
   "cell_type": "code",
   "execution_count": 2,
   "id": "7589da07-4bb1-4f40-90a7-80cddda872c5",
   "metadata": {},
   "outputs": [
    {
     "data": {
      "text/html": [
       "<div>\n",
       "<style scoped>\n",
       "    .dataframe tbody tr th:only-of-type {\n",
       "        vertical-align: middle;\n",
       "    }\n",
       "\n",
       "    .dataframe tbody tr th {\n",
       "        vertical-align: top;\n",
       "    }\n",
       "\n",
       "    .dataframe thead th {\n",
       "        text-align: right;\n",
       "    }\n",
       "</style>\n",
       "<table border=\"1\" class=\"dataframe\">\n",
       "  <thead>\n",
       "    <tr style=\"text-align: right;\">\n",
       "      <th></th>\n",
       "      <th>A</th>\n",
       "      <th>AAL</th>\n",
       "      <th>AAPL</th>\n",
       "      <th>ABBV</th>\n",
       "      <th>ABNB</th>\n",
       "      <th>ABT</th>\n",
       "      <th>ACGL</th>\n",
       "      <th>ACN</th>\n",
       "      <th>ADBE</th>\n",
       "      <th>ADI</th>\n",
       "      <th>...</th>\n",
       "      <th>WTW</th>\n",
       "      <th>WY</th>\n",
       "      <th>WYNN</th>\n",
       "      <th>XEL</th>\n",
       "      <th>XOM</th>\n",
       "      <th>XYL</th>\n",
       "      <th>YUM</th>\n",
       "      <th>ZBH</th>\n",
       "      <th>ZBRA</th>\n",
       "      <th>ZTS</th>\n",
       "    </tr>\n",
       "    <tr>\n",
       "      <th>Date</th>\n",
       "      <th></th>\n",
       "      <th></th>\n",
       "      <th></th>\n",
       "      <th></th>\n",
       "      <th></th>\n",
       "      <th></th>\n",
       "      <th></th>\n",
       "      <th></th>\n",
       "      <th></th>\n",
       "      <th></th>\n",
       "      <th></th>\n",
       "      <th></th>\n",
       "      <th></th>\n",
       "      <th></th>\n",
       "      <th></th>\n",
       "      <th></th>\n",
       "      <th></th>\n",
       "      <th></th>\n",
       "      <th></th>\n",
       "      <th></th>\n",
       "      <th></th>\n",
       "    </tr>\n",
       "  </thead>\n",
       "  <tbody>\n",
       "    <tr>\n",
       "      <th>2024-01-03</th>\n",
       "      <td>-0.054703</td>\n",
       "      <td>-0.036458</td>\n",
       "      <td>-0.007488</td>\n",
       "      <td>0.004005</td>\n",
       "      <td>-0.007882</td>\n",
       "      <td>-0.003004</td>\n",
       "      <td>0.018398</td>\n",
       "      <td>-0.025943</td>\n",
       "      <td>-0.014274</td>\n",
       "      <td>-0.023866</td>\n",
       "      <td>...</td>\n",
       "      <td>0.002834</td>\n",
       "      <td>-0.020983</td>\n",
       "      <td>-0.006025</td>\n",
       "      <td>0.001733</td>\n",
       "      <td>0.008402</td>\n",
       "      <td>-0.018563</td>\n",
       "      <td>0.000543</td>\n",
       "      <td>-0.007579</td>\n",
       "      <td>-0.057691</td>\n",
       "      <td>-0.018518</td>\n",
       "    </tr>\n",
       "    <tr>\n",
       "      <th>2024-01-04</th>\n",
       "      <td>-0.001220</td>\n",
       "      <td>0.010811</td>\n",
       "      <td>-0.012700</td>\n",
       "      <td>0.006232</td>\n",
       "      <td>0.002249</td>\n",
       "      <td>0.013331</td>\n",
       "      <td>0.006888</td>\n",
       "      <td>-0.002456</td>\n",
       "      <td>-0.008290</td>\n",
       "      <td>-0.015294</td>\n",
       "      <td>...</td>\n",
       "      <td>-0.004738</td>\n",
       "      <td>-0.013799</td>\n",
       "      <td>0.001914</td>\n",
       "      <td>0.002359</td>\n",
       "      <td>-0.008719</td>\n",
       "      <td>0.006902</td>\n",
       "      <td>-0.003176</td>\n",
       "      <td>-0.002241</td>\n",
       "      <td>0.001782</td>\n",
       "      <td>0.005753</td>\n",
       "    </tr>\n",
       "    <tr>\n",
       "      <th>2024-01-05</th>\n",
       "      <td>-0.003359</td>\n",
       "      <td>0.038961</td>\n",
       "      <td>-0.004013</td>\n",
       "      <td>0.004211</td>\n",
       "      <td>0.016901</td>\n",
       "      <td>-0.001622</td>\n",
       "      <td>-0.008519</td>\n",
       "      <td>-0.001394</td>\n",
       "      <td>-0.004321</td>\n",
       "      <td>0.002580</td>\n",
       "      <td>...</td>\n",
       "      <td>-0.002589</td>\n",
       "      <td>0.002679</td>\n",
       "      <td>0.015285</td>\n",
       "      <td>0.000000</td>\n",
       "      <td>0.003030</td>\n",
       "      <td>-0.001602</td>\n",
       "      <td>-0.002720</td>\n",
       "      <td>-0.001830</td>\n",
       "      <td>-0.001107</td>\n",
       "      <td>0.004174</td>\n",
       "    </tr>\n",
       "    <tr>\n",
       "      <th>2024-01-08</th>\n",
       "      <td>0.021599</td>\n",
       "      <td>0.072059</td>\n",
       "      <td>0.024175</td>\n",
       "      <td>-0.004379</td>\n",
       "      <td>0.030152</td>\n",
       "      <td>0.014440</td>\n",
       "      <td>0.004036</td>\n",
       "      <td>0.011081</td>\n",
       "      <td>0.028250</td>\n",
       "      <td>0.013026</td>\n",
       "      <td>...</td>\n",
       "      <td>0.013815</td>\n",
       "      <td>0.010986</td>\n",
       "      <td>0.014637</td>\n",
       "      <td>-0.002354</td>\n",
       "      <td>-0.016662</td>\n",
       "      <td>0.006242</td>\n",
       "      <td>0.002338</td>\n",
       "      <td>0.016586</td>\n",
       "      <td>0.033242</td>\n",
       "      <td>0.006672</td>\n",
       "    </tr>\n",
       "    <tr>\n",
       "      <th>2024-01-09</th>\n",
       "      <td>-0.020243</td>\n",
       "      <td>-0.013717</td>\n",
       "      <td>-0.002263</td>\n",
       "      <td>0.005451</td>\n",
       "      <td>-0.003926</td>\n",
       "      <td>0.002936</td>\n",
       "      <td>-0.012578</td>\n",
       "      <td>0.007052</td>\n",
       "      <td>0.009732</td>\n",
       "      <td>0.004127</td>\n",
       "      <td>...</td>\n",
       "      <td>-0.009498</td>\n",
       "      <td>-0.009104</td>\n",
       "      <td>-0.018444</td>\n",
       "      <td>-0.004876</td>\n",
       "      <td>-0.012386</td>\n",
       "      <td>-0.006557</td>\n",
       "      <td>-0.003265</td>\n",
       "      <td>-0.000820</td>\n",
       "      <td>-0.017810</td>\n",
       "      <td>-0.001071</td>\n",
       "    </tr>\n",
       "  </tbody>\n",
       "</table>\n",
       "<p>5 rows × 498 columns</p>\n",
       "</div>"
      ],
      "text/plain": [
       "                   A       AAL      AAPL      ABBV      ABNB       ABT  \\\n",
       "Date                                                                     \n",
       "2024-01-03 -0.054703 -0.036458 -0.007488  0.004005 -0.007882 -0.003004   \n",
       "2024-01-04 -0.001220  0.010811 -0.012700  0.006232  0.002249  0.013331   \n",
       "2024-01-05 -0.003359  0.038961 -0.004013  0.004211  0.016901 -0.001622   \n",
       "2024-01-08  0.021599  0.072059  0.024175 -0.004379  0.030152  0.014440   \n",
       "2024-01-09 -0.020243 -0.013717 -0.002263  0.005451 -0.003926  0.002936   \n",
       "\n",
       "                ACGL       ACN      ADBE       ADI  ...       WTW        WY  \\\n",
       "Date                                                ...                       \n",
       "2024-01-03  0.018398 -0.025943 -0.014274 -0.023866  ...  0.002834 -0.020983   \n",
       "2024-01-04  0.006888 -0.002456 -0.008290 -0.015294  ... -0.004738 -0.013799   \n",
       "2024-01-05 -0.008519 -0.001394 -0.004321  0.002580  ... -0.002589  0.002679   \n",
       "2024-01-08  0.004036  0.011081  0.028250  0.013026  ...  0.013815  0.010986   \n",
       "2024-01-09 -0.012578  0.007052  0.009732  0.004127  ... -0.009498 -0.009104   \n",
       "\n",
       "                WYNN       XEL       XOM       XYL       YUM       ZBH  \\\n",
       "Date                                                                     \n",
       "2024-01-03 -0.006025  0.001733  0.008402 -0.018563  0.000543 -0.007579   \n",
       "2024-01-04  0.001914  0.002359 -0.008719  0.006902 -0.003176 -0.002241   \n",
       "2024-01-05  0.015285  0.000000  0.003030 -0.001602 -0.002720 -0.001830   \n",
       "2024-01-08  0.014637 -0.002354 -0.016662  0.006242  0.002338  0.016586   \n",
       "2024-01-09 -0.018444 -0.004876 -0.012386 -0.006557 -0.003265 -0.000820   \n",
       "\n",
       "                ZBRA       ZTS  \n",
       "Date                            \n",
       "2024-01-03 -0.057691 -0.018518  \n",
       "2024-01-04  0.001782  0.005753  \n",
       "2024-01-05 -0.001107  0.004174  \n",
       "2024-01-08  0.033242  0.006672  \n",
       "2024-01-09 -0.017810 -0.001071  \n",
       "\n",
       "[5 rows x 498 columns]"
      ]
     },
     "execution_count": 2,
     "metadata": {},
     "output_type": "execute_result"
    }
   ],
   "source": [
    "df_asset_returns = pd.read_excel('../data/final_exam_data.xlsx', sheet_name='Asset Returns').set_index('Date')\n",
    "df_asset_returns.head()"
   ]
  },
  {
   "cell_type": "code",
   "execution_count": 3,
   "id": "582d9e5f-5d5f-4e07-800a-dc8609728e2c",
   "metadata": {},
   "outputs": [
    {
     "data": {
      "text/html": [
       "<div>\n",
       "<style scoped>\n",
       "    .dataframe tbody tr th:only-of-type {\n",
       "        vertical-align: middle;\n",
       "    }\n",
       "\n",
       "    .dataframe tbody tr th {\n",
       "        vertical-align: top;\n",
       "    }\n",
       "\n",
       "    .dataframe thead th {\n",
       "        text-align: right;\n",
       "    }\n",
       "</style>\n",
       "<table border=\"1\" class=\"dataframe\">\n",
       "  <thead>\n",
       "    <tr style=\"text-align: right;\">\n",
       "      <th></th>\n",
       "      <th>factor</th>\n",
       "    </tr>\n",
       "    <tr>\n",
       "      <th>Date</th>\n",
       "      <th></th>\n",
       "    </tr>\n",
       "  </thead>\n",
       "  <tbody>\n",
       "    <tr>\n",
       "      <th>2024-01-03</th>\n",
       "      <td>-0.013855</td>\n",
       "    </tr>\n",
       "    <tr>\n",
       "      <th>2024-01-04</th>\n",
       "      <td>-0.001325</td>\n",
       "    </tr>\n",
       "    <tr>\n",
       "      <th>2024-01-05</th>\n",
       "      <td>0.002717</td>\n",
       "    </tr>\n",
       "    <tr>\n",
       "      <th>2024-01-08</th>\n",
       "      <td>0.011078</td>\n",
       "    </tr>\n",
       "    <tr>\n",
       "      <th>2024-01-09</th>\n",
       "      <td>-0.004448</td>\n",
       "    </tr>\n",
       "  </tbody>\n",
       "</table>\n",
       "</div>"
      ],
      "text/plain": [
       "              factor\n",
       "Date                \n",
       "2024-01-03 -0.013855\n",
       "2024-01-04 -0.001325\n",
       "2024-01-05  0.002717\n",
       "2024-01-08  0.011078\n",
       "2024-01-09 -0.004448"
      ]
     },
     "execution_count": 3,
     "metadata": {},
     "output_type": "execute_result"
    }
   ],
   "source": [
    "df_factor_returns = pd.read_excel('../data/final_exam_data.xlsx', sheet_name='Factor Returns').set_index('Date')\n",
    "df_factor_returns.head()"
   ]
  },
  {
   "cell_type": "code",
   "execution_count": 4,
   "id": "18635fb2-cfe1-4ca7-b6f1-789d0ce528ce",
   "metadata": {},
   "outputs": [
    {
     "data": {
      "text/html": [
       "<div>\n",
       "<style scoped>\n",
       "    .dataframe tbody tr th:only-of-type {\n",
       "        vertical-align: middle;\n",
       "    }\n",
       "\n",
       "    .dataframe tbody tr th {\n",
       "        vertical-align: top;\n",
       "    }\n",
       "\n",
       "    .dataframe thead th {\n",
       "        text-align: right;\n",
       "    }\n",
       "</style>\n",
       "<table border=\"1\" class=\"dataframe\">\n",
       "  <thead>\n",
       "    <tr style=\"text-align: right;\">\n",
       "      <th></th>\n",
       "      <th>Ticker</th>\n",
       "      <th>betas</th>\n",
       "    </tr>\n",
       "  </thead>\n",
       "  <tbody>\n",
       "    <tr>\n",
       "      <th>0</th>\n",
       "      <td>A</td>\n",
       "      <td>1.180943</td>\n",
       "    </tr>\n",
       "    <tr>\n",
       "      <th>1</th>\n",
       "      <td>AAL</td>\n",
       "      <td>1.986505</td>\n",
       "    </tr>\n",
       "    <tr>\n",
       "      <th>2</th>\n",
       "      <td>AAPL</td>\n",
       "      <td>0.670563</td>\n",
       "    </tr>\n",
       "    <tr>\n",
       "      <th>3</th>\n",
       "      <td>ABBV</td>\n",
       "      <td>0.424427</td>\n",
       "    </tr>\n",
       "    <tr>\n",
       "      <th>4</th>\n",
       "      <td>ABNB</td>\n",
       "      <td>1.243492</td>\n",
       "    </tr>\n",
       "  </tbody>\n",
       "</table>\n",
       "</div>"
      ],
      "text/plain": [
       "  Ticker     betas\n",
       "0      A  1.180943\n",
       "1    AAL  1.986505\n",
       "2   AAPL  0.670563\n",
       "3   ABBV  0.424427\n",
       "4   ABNB  1.243492"
      ]
     },
     "execution_count": 4,
     "metadata": {},
     "output_type": "execute_result"
    }
   ],
   "source": [
    "df_asset_betas = pd.read_excel('../data/final_exam_data.xlsx', sheet_name='Asset Betas')\n",
    "df_asset_betas.head()"
   ]
  },
  {
   "cell_type": "code",
   "execution_count": 5,
   "id": "0e6515d0-e9ca-4c42-94d5-85d0666e48a9",
   "metadata": {},
   "outputs": [
    {
     "name": "stdout",
     "output_type": "stream",
     "text": [
      "Last 3 λ values:\n",
      "Date\n",
      "2024-11-06    0.022971\n",
      "2024-11-07    0.001064\n",
      "2024-11-08    0.001768\n",
      "dtype: float64\n",
      "Annualized mean of λ: 0.1754874142533425\n",
      "Annualized volatility of λ: 0.11688953313031768\n"
     ]
    }
   ],
   "source": [
    "# Note: Since the given models has no intercept, I am running an OLS regression without intercept.\n",
    "df_asset_betas = df_asset_betas.set_index('Ticker')\n",
    "df_asset_returns = df_asset_returns[df_asset_betas.index]\n",
    "\n",
    "betas_2d = df_asset_betas['betas'].values.reshape(-1, 1)\n",
    "\n",
    "lambda_values = []\n",
    "\n",
    "for date, row in df_asset_returns.iterrows():\n",
    "    y = row.values  \n",
    "    X = betas_2d     \n",
    "    \n",
    "    model = sm.OLS(y, X)\n",
    "    results = model.fit()\n",
    "    \n",
    "    lambda_t = results.params[0]\n",
    "    lambda_values.append(lambda_t)\n",
    "\n",
    "lambda_series = pd.Series(lambda_values, index=df_asset_returns.index)\n",
    "\n",
    "last_3_values = lambda_series.iloc[-3:]\n",
    "annual_factor = 252\n",
    "annualized_mean = lambda_series.mean() * annual_factor\n",
    "annualized_vol = lambda_series.std() * np.sqrt(annual_factor)\n",
    "\n",
    "print(\"Last 3 λ values:\")\n",
    "print(last_3_values)\n",
    "print(\"Annualized mean of λ:\", annualized_mean)\n",
    "print(\"Annualized volatility of λ:\", annualized_vol)"
   ]
  },
  {
   "cell_type": "markdown",
   "id": "be8b8543-cf9f-4aa6-b703-7af7a9dc6872",
   "metadata": {
    "vscode": {
     "languageId": "plaintext"
    }
   },
   "source": [
    "### 2.\n",
    "\n",
    "(10pts)\n",
    "\n",
    "Compare $\\lambda_t$ to the realized factor returns, $\\tilde{f}_t$.\n",
    "\n",
    "* Plot the cumulative (excess) returns of $\\lambda_t$ and $\\tilde{f}_t$.\n",
    "* Report the correlation between these two series.\n",
    "* Report the serial correlation of each series.\n",
    "\n",
    "Should we expect the serial correlation of $\\tilde{f}$ to be near zero? What about $\\lambda_t$?"
   ]
  },
  {
   "cell_type": "code",
   "execution_count": 6,
   "id": "987ba163-6489-4cfc-91c9-211942d2dfa0",
   "metadata": {},
   "outputs": [
    {
     "data": {
      "image/png": "[encoded data removed]",
      "text/plain": [
       "<Figure size 1000x600 with 1 Axes>"
      ]
     },
     "metadata": {},
     "output_type": "display_data"
    },
    {
     "name": "stdout",
     "output_type": "stream",
     "text": [
      "Correlation between λ_t and f_t: 0.9851319641635836\n",
      "Serial Correlation of λ_t: 0.0015639909104251644\n",
      "Serial Correlation  of f_t: 0.018437949835348754\n"
     ]
    }
   ],
   "source": [
    "factor_returns = df_factor_returns['factor']\n",
    "\n",
    "lambda_cum = lambda_series.cumsum()\n",
    "factor_cum = factor_returns.cumsum()\n",
    "\n",
    "plt.figure(figsize=(10,6))\n",
    "plt.plot(lambda_cum, label='Cumulative λ_t')\n",
    "plt.plot(factor_cum, label='Cumulative f_t')\n",
    "plt.title('Cumulative Excess Returns of λ and f')\n",
    "plt.xlabel('Date')\n",
    "plt.ylabel('Cumulative Returns')\n",
    "plt.legend()\n",
    "plt.tight_layout()\n",
    "plt.show()\n",
    "\n",
    "correlation = lambda_series.corr(factor_returns)\n",
    "print(\"Correlation between λ_t and f_t:\", correlation)\n",
    "\n",
    "lambda_autocorr = lambda_series.autocorr(lag=1)\n",
    "factor_autocorr = factor_returns.autocorr(lag=1)\n",
    "\n",
    "print(\"Serial Correlation of λ_t:\", lambda_autocorr)\n",
    "print(\"Serial Correlation  of f_t:\", factor_autocorr)"
   ]
  },
  {
   "cell_type": "markdown",
   "id": "235ad8d3-652f-4bf7-a24d-be0856bf7cdc",
   "metadata": {},
   "source": [
    "We typically expect factor returns f_t to have near-zero serial correlation (i.e., white noise). \n",
    "λ_t, as a risk premium estimate, may exhibit some persistence and thus may have a nonzero serial correlation."
   ]
  },
  {
   "cell_type": "markdown",
   "id": "dea9adfd-c561-4210-9846-9ae679fdb277",
   "metadata": {
    "vscode": {
     "languageId": "plaintext"
    }
   },
   "source": [
    "### 3.\n",
    "\n",
    "We estimated our factor premium in a regression that excluded an intercept term. Why might we have done this? In what circumstance would we prefer to include an intercept term?"
   ]
  },
  {
   "cell_type": "markdown",
   "id": "00ff50d7-4025-4670-8779-2adcc63163c8",
   "metadata": {},
   "source": [
    "For Excluding the Intercept:\n",
    "- In a single-factor model (like CAPM), a zero-beta asset should earn no excess return, making an intercept theoretically unnecessary.\n",
    "- The absence of an intercept forces the cross-sectional regression line through the origin, directly linking returns to factor exposures as theory dictates.\n",
    "  \n",
    "When to Include an Intercept:\n",
    "-  If zero-beta portfolios persistently earn nonzero returns, an intercept can reveal missing variables or structural biases in the model.\n",
    "- Adding an intercept can help identify and measure average performance components not explained by the factor, guiding more comprehensive factor modeling."
   ]
  },
  {
   "cell_type": "markdown",
   "id": "8b21d34d-296c-4c05-ae54-6aefb6863531",
   "metadata": {
    "vscode": {
     "languageId": "plaintext"
    }
   },
   "source": [
    "### 4.\n",
    "\n",
    "(10pts)\n",
    "\n",
    "Now, use the actual factor returns, $\\tilde{f}_t$to analyze the fit of this pricing model using a __single__ cross-sectional regression to estimate  $\\phantom{Brian Hood}$\n",
    "\n",
    "$$\n",
    "E[r^{(i)}] = \\eta + \\beta^{(i)} E[\\tilde{f}] + \\epsilon^{(i)}\n",
    "$$\n",
    "\n",
    "How well does this factor work for pricing? Provide supporting evidence for your answer."
   ]
  },
  {
   "cell_type": "code",
   "execution_count": 7,
   "id": "a8130c50-3b75-4b1e-992b-5db389ae911f",
   "metadata": {},
   "outputs": [
    {
     "name": "stdout",
     "output_type": "stream",
     "text": [
      "Intercept (η): 0.0007940771564678899\n",
      "Slope coefficient (should approximate E[f]): 4.3985253866359134e-05\n",
      "Mean factor return (E[f]): 0.000838062410334249\n",
      "R-squared: 0.0003091645363348938\n"
     ]
    }
   ],
   "source": [
    "mean_asset_returns = df_asset_returns.mean()\n",
    "mean_factor = df_factor_returns['factor'].mean()  \n",
    "\n",
    "betas = df_asset_betas['betas']  \n",
    "\n",
    "X = sm.add_constant(betas.values)  \n",
    "y = mean_asset_returns.values\n",
    "\n",
    "model = sm.OLS(y, X)\n",
    "results = model.fit()\n",
    "\n",
    "intercept = results.params[0]\n",
    "slope = results.params[1]\n",
    "r_squared = results.rsquared\n",
    "\n",
    "print(\"Intercept (η):\", intercept)\n",
    "print(\"Slope coefficient (should approximate E[f]):\", slope)\n",
    "print(\"Mean factor return (E[f]):\", mean_factor)\n",
    "print(\"R-squared:\", r_squared)\n",
    "# print(results.summary())"
   ]
  },
  {
   "cell_type": "markdown",
   "id": "09ec00bc-c5a0-4801-808d-4ddaee978373",
   "metadata": {},
   "source": [
    "These results imply the factor pricing model, as specified, provides almost no explanatory power for the cross-section of asset returns. The intercept is small but not negligible, the slope is far from the expected mean factor return, and the R-squared is extremely low. In summary, this factor alone does not work well for pricing these assets.\n",
    "\n",
    "- Although theoretically, we might want the intercept close to zero, this intercept suggests a small positive average return even for a zero-beta asset. While not extremely large, it’s noticeably different from zero and thus may indicate that the factor alone does not fully explain the average returns.\n",
    "\n",
    "- The slope coefficient should ideally mirror the mean factor return if the model is correct. Here, the slope is nearly 20 times smaller than the average factor return. This indicates that the factor’s influence on cross-sectional returns is far weaker than expected.\n",
    "\n",
    "- An R-squared near zero means the model explains virtually none of the cross-sectional variation in average returns. In other words, knowing the beta and the factor’s average return does not help much in predicting the asset’s average return.\n"
   ]
  },
  {
   "cell_type": "markdown",
   "id": "7191a92c-6f82-46a5-b1df-23a2c4ff8b59",
   "metadata": {},
   "source": [
    "### 5.\n",
    "\n",
    "The factor we've used, $\\tilde{f}$ is actually the **equally**-weighted portfolio of equities. Suppose the CAPM holds exactly, with the **value**-weighted market equity portfolio. In that case, what would we expect, theoretically, from the previous section?"
   ]
  },
  {
   "cell_type": "markdown",
   "id": "fca93260-d786-475c-bf25-aea00bbdcda2",
   "metadata": {},
   "source": [
    "- Intercept close to zero: Under a perfect CAPM, the expected excess return on a zero-beta asset is zero. Using the correct value-weighted market portfolio factor, the model would perfectly align, leaving no  intercept.\n",
    "\n",
    "- Slope approximates the mean market factor return: If the CAPM holds exactly, the slope from the cross-sectional regression should match the mean of the true (value-weighted) market factor’s excess returns, providing a direct link between beta exposures and average asset returns.\n",
    "\n",
    "- High R-squared: With the right factor, nearly all the cross-sectional variation in average returns is captured, leading to a very high R-squared. This indicates that simply knowing each asset’s beta to the true market factor would be sufficient to accurately predict its expected excess return."
   ]
  },
  {
   "cell_type": "markdown",
   "id": "0a8eda25",
   "metadata": {},
   "source": [
    "***"
   ]
  },
  {
   "cell_type": "markdown",
   "id": "51ff849e",
   "metadata": {
    "vscode": {
     "languageId": "plaintext"
    }
   },
   "source": [
    "# 2. Currency Trades\n",
    "\n",
    "For this question, use the data set from `data/fx_rf_data.xlsx`."
   ]
  },
  {
   "cell_type": "code",
   "execution_count": 8,
   "id": "2436b463-c2fa-4985-af5d-9778c45afe47",
   "metadata": {},
   "outputs": [
    {
     "data": {
      "text/html": [
       "<div>\n",
       "<style scoped>\n",
       "    .dataframe tbody tr th:only-of-type {\n",
       "        vertical-align: middle;\n",
       "    }\n",
       "\n",
       "    .dataframe tbody tr th {\n",
       "        vertical-align: top;\n",
       "    }\n",
       "\n",
       "    .dataframe thead th {\n",
       "        text-align: right;\n",
       "    }\n",
       "</style>\n",
       "<table border=\"1\" class=\"dataframe\">\n",
       "  <thead>\n",
       "    <tr style=\"text-align: right;\">\n",
       "      <th></th>\n",
       "      <th>USD</th>\n",
       "      <th>JPY</th>\n",
       "      <th>EUR</th>\n",
       "      <th>GBP</th>\n",
       "      <th>MXN</th>\n",
       "      <th>CHF</th>\n",
       "    </tr>\n",
       "    <tr>\n",
       "      <th>date</th>\n",
       "      <th></th>\n",
       "      <th></th>\n",
       "      <th></th>\n",
       "      <th></th>\n",
       "      <th></th>\n",
       "      <th></th>\n",
       "    </tr>\n",
       "  </thead>\n",
       "  <tbody>\n",
       "    <tr>\n",
       "      <th>2008-01-01</th>\n",
       "      <td>0.044000</td>\n",
       "      <td>0.00478</td>\n",
       "      <td>0.04250</td>\n",
       "      <td>0.05700</td>\n",
       "      <td>0.075</td>\n",
       "      <td>0.020645</td>\n",
       "    </tr>\n",
       "    <tr>\n",
       "      <th>2008-01-02</th>\n",
       "      <td>0.041563</td>\n",
       "      <td>0.00478</td>\n",
       "      <td>0.03600</td>\n",
       "      <td>0.05475</td>\n",
       "      <td>0.075</td>\n",
       "      <td>0.020645</td>\n",
       "    </tr>\n",
       "    <tr>\n",
       "      <th>2008-01-03</th>\n",
       "      <td>0.043463</td>\n",
       "      <td>0.00478</td>\n",
       "      <td>0.03940</td>\n",
       "      <td>0.05600</td>\n",
       "      <td>0.075</td>\n",
       "      <td>0.021500</td>\n",
       "    </tr>\n",
       "    <tr>\n",
       "      <th>2008-01-04</th>\n",
       "      <td>0.042188</td>\n",
       "      <td>0.00478</td>\n",
       "      <td>0.04065</td>\n",
       "      <td>0.05500</td>\n",
       "      <td>0.075</td>\n",
       "      <td>0.020950</td>\n",
       "    </tr>\n",
       "    <tr>\n",
       "      <th>2008-01-07</th>\n",
       "      <td>0.042188</td>\n",
       "      <td>0.00493</td>\n",
       "      <td>0.04100</td>\n",
       "      <td>0.05460</td>\n",
       "      <td>0.075</td>\n",
       "      <td>0.020200</td>\n",
       "    </tr>\n",
       "  </tbody>\n",
       "</table>\n",
       "</div>"
      ],
      "text/plain": [
       "                 USD      JPY      EUR      GBP    MXN       CHF\n",
       "date                                                            \n",
       "2008-01-01  0.044000  0.00478  0.04250  0.05700  0.075  0.020645\n",
       "2008-01-02  0.041563  0.00478  0.03600  0.05475  0.075  0.020645\n",
       "2008-01-03  0.043463  0.00478  0.03940  0.05600  0.075  0.021500\n",
       "2008-01-04  0.042188  0.00478  0.04065  0.05500  0.075  0.020950\n",
       "2008-01-07  0.042188  0.00493  0.04100  0.05460  0.075  0.020200"
      ]
     },
     "execution_count": 8,
     "metadata": {},
     "output_type": "execute_result"
    }
   ],
   "source": [
    "df_rfrs = pd.read_excel('../data/fx_rf_data.xlsx', sheet_name='risk-free rates').set_index('date')\n",
    "df_rfrs.head()"
   ]
  },
  {
   "cell_type": "code",
   "execution_count": 9,
   "id": "aa7ce7a0-19e7-4f53-95c1-b09392a10b00",
   "metadata": {},
   "outputs": [
    {
     "data": {
      "text/html": [
       "<div>\n",
       "<style scoped>\n",
       "    .dataframe tbody tr th:only-of-type {\n",
       "        vertical-align: middle;\n",
       "    }\n",
       "\n",
       "    .dataframe tbody tr th {\n",
       "        vertical-align: top;\n",
       "    }\n",
       "\n",
       "    .dataframe thead th {\n",
       "        text-align: right;\n",
       "    }\n",
       "</style>\n",
       "<table border=\"1\" class=\"dataframe\">\n",
       "  <thead>\n",
       "    <tr style=\"text-align: right;\">\n",
       "      <th></th>\n",
       "      <th>JPY</th>\n",
       "      <th>EUR</th>\n",
       "      <th>GBP</th>\n",
       "      <th>MXN</th>\n",
       "      <th>CHF</th>\n",
       "    </tr>\n",
       "    <tr>\n",
       "      <th>date</th>\n",
       "      <th></th>\n",
       "      <th></th>\n",
       "      <th></th>\n",
       "      <th></th>\n",
       "      <th></th>\n",
       "    </tr>\n",
       "  </thead>\n",
       "  <tbody>\n",
       "    <tr>\n",
       "      <th>2008-01-01</th>\n",
       "      <td>0.008957</td>\n",
       "      <td>1.4592</td>\n",
       "      <td>1.9864</td>\n",
       "      <td>0.09183</td>\n",
       "      <td>0.8824</td>\n",
       "    </tr>\n",
       "    <tr>\n",
       "      <th>2008-01-02</th>\n",
       "      <td>0.009119</td>\n",
       "      <td>1.4715</td>\n",
       "      <td>1.9808</td>\n",
       "      <td>0.09162</td>\n",
       "      <td>0.8933</td>\n",
       "    </tr>\n",
       "    <tr>\n",
       "      <th>2008-01-03</th>\n",
       "      <td>0.009148</td>\n",
       "      <td>1.4750</td>\n",
       "      <td>1.9710</td>\n",
       "      <td>0.09187</td>\n",
       "      <td>0.9002</td>\n",
       "    </tr>\n",
       "    <tr>\n",
       "      <th>2008-01-04</th>\n",
       "      <td>0.009209</td>\n",
       "      <td>1.4743</td>\n",
       "      <td>1.9740</td>\n",
       "      <td>0.09154</td>\n",
       "      <td>0.9022</td>\n",
       "    </tr>\n",
       "    <tr>\n",
       "      <th>2008-01-07</th>\n",
       "      <td>0.009159</td>\n",
       "      <td>1.4696</td>\n",
       "      <td>1.9704</td>\n",
       "      <td>0.09176</td>\n",
       "      <td>0.8957</td>\n",
       "    </tr>\n",
       "  </tbody>\n",
       "</table>\n",
       "</div>"
      ],
      "text/plain": [
       "                 JPY     EUR     GBP      MXN     CHF\n",
       "date                                                 \n",
       "2008-01-01  0.008957  1.4592  1.9864  0.09183  0.8824\n",
       "2008-01-02  0.009119  1.4715  1.9808  0.09162  0.8933\n",
       "2008-01-03  0.009148  1.4750  1.9710  0.09187  0.9002\n",
       "2008-01-04  0.009209  1.4743  1.9740  0.09154  0.9022\n",
       "2008-01-07  0.009159  1.4696  1.9704  0.09176  0.8957"
      ]
     },
     "execution_count": 9,
     "metadata": {},
     "output_type": "execute_result"
    }
   ],
   "source": [
    "df_exchange_rates = pd.read_excel('../data/fx_rf_data.xlsx', sheet_name='exchange rates').set_index('date')\n",
    "df_exchange_rates.head()"
   ]
  },
  {
   "cell_type": "markdown",
   "id": "0c366b80-4382-48eb-b626-7b498675ade9",
   "metadata": {},
   "source": [
    "Calculate the **arithmetic** (not log) excess return to holding each foreign currency.\n",
    "\n",
    "Data Note:\n",
    "* Consider the risk-free rate data as being quoted as an annualized value, where this annualization is a scaling of `252`.\n",
    "\n",
    "Throughout this problem, we only consider returns generated between `Jan 2018` and `Aug 2024`."
   ]
  },
  {
   "cell_type": "markdown",
   "id": "9ae32f03-33ab-4b4d-ba58-9818a5cd6efc",
   "metadata": {},
   "source": [
    "### 1.\n",
    "\n",
    "Report the first and final three values of each of these excess return series."
   ]
  },
  {
   "cell_type": "code",
   "execution_count": 10,
   "id": "e63ee446-b300-4252-a5e2-df2209d110ac",
   "metadata": {},
   "outputs": [
    {
     "name": "stdout",
     "output_type": "stream",
     "text": [
      "JPY Excess Returns (First 3):\n",
      "                 JPY\n",
      "date                \n",
      "2018-01-01  0.003318\n",
      "2018-01-02 -0.002080\n",
      "2018-01-03 -0.002197\n",
      "JPY Excess Returns (Last 3):\n",
      "                 JPY\n",
      "date                \n",
      "2024-08-28 -0.002950\n",
      "2024-08-29 -0.008323\n",
      "2024-08-30 -0.005173\n",
      "--------------------------------\n",
      "EUR Excess Returns (First 3):\n",
      "                 EUR\n",
      "date                \n",
      "2018-01-01  0.003833\n",
      "2018-01-02 -0.003723\n",
      "2018-01-03  0.004338\n",
      "EUR Excess Returns (Last 3):\n",
      "                 EUR\n",
      "date                \n",
      "2024-08-28 -0.003933\n",
      "2024-08-29 -0.002684\n",
      "2024-08-30  0.002107\n",
      "--------------------------------\n",
      "GBP Excess Returns (First 3):\n",
      "                 GBP\n",
      "date                \n",
      "2018-01-01  0.006399\n",
      "2018-01-02 -0.005475\n",
      "2018-01-03  0.002560\n",
      "GBP Excess Returns (Last 3):\n",
      "                 GBP\n",
      "date                \n",
      "2024-08-28 -0.001755\n",
      "2024-08-29 -0.003126\n",
      "2024-08-30  0.001434\n",
      "--------------------------------\n",
      "MXN Excess Returns (First 3):\n",
      "                 MXN\n",
      "date                \n",
      "2018-01-01  0.006125\n",
      "2018-01-02  0.009806\n",
      "2018-01-03  0.003328\n",
      "MXN Excess Returns (Last 3):\n",
      "                 MXN\n",
      "date                \n",
      "2024-08-28 -0.010201\n",
      "2024-08-29  0.006370\n",
      "2024-08-30 -0.004720\n",
      "--------------------------------\n",
      "CHF Excess Returns (First 3):\n",
      "                 CHF\n",
      "date                \n",
      "2018-01-01  0.003221\n",
      "2018-01-02 -0.005435\n",
      "2018-01-03  0.002254\n",
      "CHF Excess Returns (Last 3):\n",
      "                 CHF\n",
      "date                \n",
      "2024-08-28 -0.006230\n",
      "2024-08-29 -0.002795\n",
      "2024-08-30 -0.002632\n",
      "--------------------------------\n",
      "USD Excess Returns (First 3):\n",
      "            USD\n",
      "date           \n",
      "2018-01-01  0.0\n",
      "2018-01-02  0.0\n",
      "2018-01-03  0.0\n",
      "USD Excess Returns (Last 3):\n",
      "            USD\n",
      "date           \n",
      "2024-08-28  0.0\n",
      "2024-08-29  0.0\n",
      "2024-08-30  0.0\n",
      "--------------------------------\n"
     ]
    }
   ],
   "source": [
    "df_rfrs_daily = df_rfrs / 252.0\n",
    "df_exchange_rates['USD'] = 1.0\n",
    "all_currencies = df_exchange_rates.columns.tolist()\n",
    "df_exchange_rates_shifted = df_exchange_rates.shift(-1)\n",
    "excess_returns = pd.DataFrame(index=df_rfrs.index, columns=all_currencies, dtype=float)\n",
    "\n",
    "for c in all_currencies:\n",
    "    excess_returns[c] = ((df_exchange_rates_shifted[c] / df_exchange_rates[c]) * (1 + df_rfrs_daily[c])) - (1 + df_rfrs_daily['USD'])\n",
    "\n",
    "excess_returns = excess_returns.iloc[:-1]\n",
    "\n",
    "excess_returns = excess_returns.loc['2018-01-01':'2024-08-31']\n",
    "\n",
    "for c in all_currencies:\n",
    "    print(f\"{c} Excess Returns (First 3):\")\n",
    "    print(excess_returns[[c]].head(3))\n",
    "    print(f\"{c} Excess Returns (Last 3):\")\n",
    "    print(excess_returns[[c]].tail(3))\n",
    "    print(\"--------------------------------\")\n"
   ]
  },
  {
   "cell_type": "code",
   "execution_count": 11,
   "id": "3bde80ee-4a2a-440f-aa0b-61f92bff6ec2",
   "metadata": {},
   "outputs": [],
   "source": [
    "# GPT Prompt: Share the formula to calculate the arithmetic excess return"
   ]
  },
  {
   "cell_type": "markdown",
   "id": "e1d841fa-782c-4613-9a87-925233741f5a",
   "metadata": {},
   "source": [
    "### 2.\n",
    "\n",
    "Report the following performance metrics. Annualize the mean and volatility using an assumption of `252` days per year.\n",
    "\n",
    "* mean\n",
    "* volatility\n",
    "* skewness\n",
    "* (excess) kurtosis\n",
    "* max drawdown\n",
    "\n",
    "Also report the correlation matrix."
   ]
  },
  {
   "cell_type": "code",
   "execution_count": 12,
   "id": "3301e7d3-272b-40a4-b02d-75e87a266400",
   "metadata": {},
   "outputs": [
    {
     "name": "stdout",
     "output_type": "stream",
     "text": [
      "Annualized Mean:\n",
      "JPY   -0.057519\n",
      "EUR   -0.025746\n",
      "GBP   -0.005486\n",
      "MXN    0.062175\n",
      "CHF   -0.001828\n",
      "USD    0.000000\n",
      "dtype: float64\n",
      "\n",
      "Annualized Volatility:\n",
      "JPY    0.084738\n",
      "EUR    0.070596\n",
      "GBP    0.089076\n",
      "MXN    0.125129\n",
      "CHF    0.071565\n",
      "USD    0.000000\n",
      "dtype: float64\n",
      "\n",
      "Skewness:\n",
      "JPY    0.522182\n",
      "EUR    0.033019\n",
      "GBP   -0.100642\n",
      "MXN   -0.487009\n",
      "CHF    0.335513\n",
      "USD    0.000000\n",
      "dtype: float64\n",
      "\n",
      "Excess Kurtosis:\n",
      "JPY    6.523721\n",
      "EUR    1.486540\n",
      "GBP    3.868688\n",
      "MXN    2.987529\n",
      "CHF    2.363515\n",
      "USD    0.000000\n",
      "dtype: float64\n",
      "\n",
      "Max Drawdown:\n",
      "JPY   -0.439713\n",
      "EUR   -0.289516\n",
      "GBP   -0.275525\n",
      "MXN   -0.264507\n",
      "CHF   -0.168443\n",
      "USD    0.000000\n",
      "dtype: float64\n",
      "\n",
      "Correlation Matrix:\n",
      "          JPY       EUR       GBP       MXN       CHF  USD\n",
      "JPY  1.000000  0.438849  0.371651  0.077116  0.551166  NaN\n",
      "EUR  0.438849  1.000000  0.689152  0.332891  0.751731  NaN\n",
      "GBP  0.371651  0.689152  1.000000  0.359793  0.552186  NaN\n",
      "MXN  0.077116  0.332891  0.359793  1.000000  0.192197  NaN\n",
      "CHF  0.551166  0.751731  0.552186  0.192197  1.000000  NaN\n",
      "USD       NaN       NaN       NaN       NaN       NaN  NaN\n"
     ]
    }
   ],
   "source": [
    "import pandas as pd\n",
    "import numpy as np\n",
    "\n",
    "\n",
    "daily_mean = excess_returns.mean()\n",
    "annualized_mean = daily_mean * 252\n",
    "\n",
    "daily_vol = excess_returns.std()\n",
    "annualized_vol = daily_vol * np.sqrt(252)\n",
    "\n",
    "skewness = excess_returns.skew()\n",
    "\n",
    "excess_kurtosis = excess_returns.kurt()  \n",
    "\n",
    "cumulative_returns = (1 + excess_returns).cumprod()\n",
    "running_max = cumulative_returns.cummax()\n",
    "drawdowns = (cumulative_returns - running_max) / running_max\n",
    "max_drawdown = drawdowns.min()  # the most negative value\n",
    "\n",
    "correlation_matrix = excess_returns.corr()\n",
    "\n",
    "# Print all the results\n",
    "print(\"Annualized Mean:\")\n",
    "print(annualized_mean)\n",
    "print(\"\\nAnnualized Volatility:\")\n",
    "print(annualized_vol)\n",
    "print(\"\\nSkewness:\")\n",
    "print(skewness)\n",
    "print(\"\\nExcess Kurtosis:\")\n",
    "print(excess_kurtosis)\n",
    "print(\"\\nMax Drawdown:\")\n",
    "print(max_drawdown)\n",
    "print(\"\\nCorrelation Matrix:\")\n",
    "print(correlation_matrix)"
   ]
  },
  {
   "cell_type": "markdown",
   "id": "b6f08180-6ac3-4d42-bfa0-bb35cc71776e",
   "metadata": {},
   "source": [
    "### 3.\n",
    "\n",
    "As of `Dec 2017`, which of these currency trades has the most **carry**? \n",
    "\n",
    "Does this indicate high or low reeturns, assuming UIP?"
   ]
  },
  {
   "cell_type": "code",
   "execution_count": 13,
   "id": "0a4484c1-597c-443b-b124-38c96877d1ab",
   "metadata": {},
   "outputs": [
    {
     "name": "stdout",
     "output_type": "stream",
     "text": [
      "As of Dec 2017, the currency with the most carry is MXN, with a differential of 0.058350.\n"
     ]
    }
   ],
   "source": [
    "last_2017_date = df_rfrs.loc[:'2017-12-31'].index.max()\n",
    "rates_on_last_2017_date = df_rfrs.loc[last_2017_date]\n",
    "\n",
    "usd_rate_2017 = rates_on_last_2017_date['USD']\n",
    "foreign_currencies = [c for c in df_rfrs.columns if c != 'USD']\n",
    "\n",
    "carry_diffs_2017 = rates_on_last_2017_date[foreign_currencies] - usd_rate_2017\n",
    "\n",
    "highest_carry_currency_2017 = carry_diffs_2017.idxmax()\n",
    "highest_carry_value_2017 = carry_diffs_2017.max()\n",
    "\n",
    "print(f\"As of Dec 2017, the currency with the most carry is {highest_carry_currency_2017}, \"\n",
    "      f\"with a differential of {highest_carry_value_2017:.6f}.\")\n"
   ]
  },
  {
   "cell_type": "markdown",
   "id": "0e65d8ed-a79f-435f-b15a-d80fcb7f1a09",
   "metadata": {},
   "source": [
    "Under UIP, this does not necessarily imply high expected returns, as the MXN is expected to depreciate to offset the interest advantage."
   ]
  },
  {
   "cell_type": "markdown",
   "id": "899a222c-3a39-4fc8-826b-f732ebd0a9d6",
   "metadata": {},
   "source": [
    "### 4."
   ]
  },
  {
   "cell_type": "markdown",
   "id": "5985d281-f88f-487d-9f74-383b524ac00b",
   "metadata": {},
   "source": [
    "Calculate an **average currency factor** which is the equal-weighted average of the currency return series already calculated. Call this factor, $Z$.\n",
    "\n",
    "Estimate the Linear Factor Decomposition of each of the currency trades on this factor, $\\tilde{r}^z_t$. Report,\n",
    "* annualized alphas\n",
    "* betas\n",
    "* r-squared values"
   ]
  },
  {
   "cell_type": "code",
   "execution_count": 14,
   "id": "47bfa688-6e5c-452a-b764-5ae49bbe31c7",
   "metadata": {},
   "outputs": [
    {
     "data": {
      "text/html": [
       "<div>\n",
       "<style scoped>\n",
       "    .dataframe tbody tr th:only-of-type {\n",
       "        vertical-align: middle;\n",
       "    }\n",
       "\n",
       "    .dataframe tbody tr th {\n",
       "        vertical-align: top;\n",
       "    }\n",
       "\n",
       "    .dataframe thead th {\n",
       "        text-align: right;\n",
       "    }\n",
       "</style>\n",
       "<table border=\"1\" class=\"dataframe\">\n",
       "  <thead>\n",
       "    <tr style=\"text-align: right;\">\n",
       "      <th></th>\n",
       "      <th>Annualized_Alpha</th>\n",
       "      <th>Beta</th>\n",
       "      <th>R_squared</th>\n",
       "    </tr>\n",
       "  </thead>\n",
       "  <tbody>\n",
       "    <tr>\n",
       "      <th>JPY</th>\n",
       "      <td>-0.052604</td>\n",
       "      <td>0.999249</td>\n",
       "      <td>0.389162</td>\n",
       "    </tr>\n",
       "    <tr>\n",
       "      <th>EUR</th>\n",
       "      <td>-0.020272</td>\n",
       "      <td>1.112846</td>\n",
       "      <td>0.695418</td>\n",
       "    </tr>\n",
       "    <tr>\n",
       "      <th>GBP</th>\n",
       "      <td>0.001137</td>\n",
       "      <td>1.346410</td>\n",
       "      <td>0.639406</td>\n",
       "    </tr>\n",
       "    <tr>\n",
       "      <th>MXN</th>\n",
       "      <td>0.068005</td>\n",
       "      <td>1.499958</td>\n",
       "      <td>0.401435</td>\n",
       "    </tr>\n",
       "    <tr>\n",
       "      <th>CHF</th>\n",
       "      <td>0.003302</td>\n",
       "      <td>1.042898</td>\n",
       "      <td>0.594316</td>\n",
       "    </tr>\n",
       "    <tr>\n",
       "      <th>USD</th>\n",
       "      <td>0.000000</td>\n",
       "      <td>0.000000</td>\n",
       "      <td>NaN</td>\n",
       "    </tr>\n",
       "  </tbody>\n",
       "</table>\n",
       "</div>"
      ],
      "text/plain": [
       "     Annualized_Alpha      Beta  R_squared\n",
       "JPY         -0.052604  0.999249   0.389162\n",
       "EUR         -0.020272  1.112846   0.695418\n",
       "GBP          0.001137  1.346410   0.639406\n",
       "MXN          0.068005  1.499958   0.401435\n",
       "CHF          0.003302  1.042898   0.594316\n",
       "USD          0.000000  0.000000        NaN"
      ]
     },
     "execution_count": 14,
     "metadata": {},
     "output_type": "execute_result"
    }
   ],
   "source": [
    "Z = excess_returns.mean(axis=1) \n",
    "\n",
    "results = pd.DataFrame(columns=['Annualized_Alpha', 'Beta', 'R_squared'])\n",
    "\n",
    "for currency in excess_returns.columns:\n",
    "    y = excess_returns[[currency]]\n",
    "    X = sm.add_constant(Z)\n",
    "    model = sm.OLS(y, X, missing='drop').fit()\n",
    "    \n",
    "    alpha = model.params['const']\n",
    "    beta = model.params[0]\n",
    "    \n",
    "    annualized_alpha = alpha * 252\n",
    "    r_squared = model.rsquared\n",
    "\n",
    "    results.loc[currency] = [annualized_alpha, beta, r_squared]\n",
    "results"
   ]
  },
  {
   "cell_type": "markdown",
   "id": "05d0692c-7325-496f-8008-ae6578402156",
   "metadata": {},
   "source": [
    "### 5."
   ]
  },
  {
   "cell_type": "code",
   "execution_count": null,
   "id": "563ca579-7548-4f27-abd6-f3998a08fd64",
   "metadata": {},
   "outputs": [],
   "source": []
  },
  {
   "cell_type": "markdown",
   "id": "d7d716c3-eb48-4c87-8ab6-8e4ea8759a87",
   "metadata": {},
   "source": [
    "Do your estimates seem in line with a factor pricing model for these trades where $\\tilde{r}^z$ is the single factor? \n",
    "\n",
    "Explain your conclusion. Don't worry about small sample sizes."
   ]
  },
  {
   "cell_type": "markdown",
   "id": "5670ccb8-2a5d-4f5a-be3b-5da836d507a2",
   "metadata": {},
   "source": [
    "- The estimates provide some evidence of a common factor driving these currency returns, as indicated by betas near one and moderate R² values. - However, the presence of non-zero alphas suggests that the single factor alone does not fully explain the cross-sectional or time-series variation in these returns.\n",
    "- In a pure factor pricing framework, we would expect alphas to be close to zero, indicating no unexplained excess returns, and for the factor loadings to fully capture the return differentials.\n",
    "- Here, the mixed alphas and less-than-perfect R² values imply that while the factor is relevant, additional sources of risk or other factors may be needed to provide a more complete explanation."
   ]
  },
  {
   "cell_type": "markdown",
   "id": "46c22dfe-d203-49b1-9776-eafc764d064d",
   "metadata": {},
   "source": [
    "### 6. \n",
    "\n",
    "From the performance metrics of these currency trades, \n",
    "* Do you expect diversification is particularly useful or not? Be specific.\n",
    "* Do you expect mean-variance optimization will do relatively well out of sample? Be specific."
   ]
  },
  {
   "cell_type": "markdown",
   "id": "afd2708f-452d-4b47-9572-2615388baa3c",
   "metadata": {},
   "source": [
    "Diversification:\n",
    "- The performance metrics—particularly moderate correlations and varying volatility across currencies—suggest that diversification can be useful. - Because not all currencies move in perfect sync and their risk profiles differ, spreading exposure across multiple currencies can help smooth return volatility and reduce portfolio drawdowns.\n",
    "- Since the factor does not explain all return variation and the currencies retain some idiosyncratic elements, holding a diversified basket should lower overall portfolio risk relative to a concentrated position.\n",
    "\n",
    "Mean-Variance Optimization OOS:\n",
    "- While MVO might look attractive with historical data, its out-of-sample performance tends to be less robust.\n",
    "- Small estimation errors in expected returns or volatilities and correlations can lead to significant shifts in the optimal weights.\n",
    "- Given that currency returns are notoriously challenging to forecast and can change regime over time, the parameter instability likely diminishes the practical effectiveness of MVO out-of-sample.\n",
    "- Although MVO may fit historical data well, its predictive accuracy and stability in real-world, forward-looking scenarios are often limited."
   ]
  },
  {
   "cell_type": "markdown",
   "id": "c2137495-5add-4af7-b992-7377c6b7103b",
   "metadata": {},
   "source": [
    "### 7.\n",
    "\n",
    "Calculate the tangency weights for a portfolio of these currency trades. \n",
    "\n",
    "Report the performance metrics of `2.2` for this tangency portfolio."
   ]
  },
  {
   "cell_type": "code",
   "execution_count": 15,
   "id": "bda3381c-49f5-45fb-9b68-84fb38f5cfe4",
   "metadata": {},
   "outputs": [
    {
     "name": "stdout",
     "output_type": "stream",
     "text": [
      "Tangency Weights:\n",
      "JPY    2.650293\n",
      "EUR    4.140987\n",
      "GBP   -0.679990\n",
      "MXN   -1.304015\n",
      "CHF   -3.807276\n",
      "dtype: float64\n",
      "\n",
      "Tangency Portfolio Performance Metrics (2018–2024):\n",
      "Annualized Mean: -0.32857470135813677\n",
      "Annualized Volatility: 0.2853248288774802\n",
      "Skewness: 0.6838941217933501\n",
      "Excess Kurtosis: 3.896783097520074\n",
      "Max Drawdown: -0.94424415571236\n"
     ]
    }
   ],
   "source": [
    "excess_returns_non_usd = excess_returns.drop(columns='USD', errors='ignore')\n",
    "mu = excess_returns_non_usd.mean()\n",
    "Sigma = excess_returns_non_usd.cov()\n",
    "Sigma_inv = np.linalg.inv(Sigma.values)\n",
    "\n",
    "ones = np.ones(len(mu))\n",
    "num = Sigma_inv @ mu.values\n",
    "den = ones @ num\n",
    "w_tangency = num / den\n",
    "\n",
    "tangency_weights = pd.Series(w_tangency, index=mu.index)\n",
    "print(\"Tangency Weights:\")\n",
    "print(tangency_weights)\n",
    "\n",
    "tangency_returns = excess_returns_non_usd @ tangency_weights\n",
    "\n",
    "daily_mean = tangency_returns.mean()\n",
    "annualized_mean = daily_mean * 252\n",
    "\n",
    "daily_vol = tangency_returns.std()\n",
    "annualized_vol = daily_vol * np.sqrt(252)\n",
    "\n",
    "skewness = tangency_returns.skew()\n",
    "excess_kurtosis = tangency_returns.kurt()\n",
    "\n",
    "cumulative = (1 + tangency_returns).cumprod()\n",
    "running_max = cumulative.cummax()\n",
    "drawdowns = (cumulative - running_max) / running_max\n",
    "max_drawdown = drawdowns.min()\n",
    "print(\"\\nTangency Portfolio Performance Metrics (2018–2024):\")\n",
    "print(\"Annualized Mean:\", annualized_mean)\n",
    "print(\"Annualized Volatility:\", annualized_vol)\n",
    "print(\"Skewness:\", skewness)\n",
    "print(\"Excess Kurtosis:\", excess_kurtosis)\n",
    "print(\"Max Drawdown:\", max_drawdown)"
   ]
  },
  {
   "cell_type": "markdown",
   "id": "293e65e5-2b25-4f83-9575-79e3f1b808c6",
   "metadata": {},
   "source": [
    "### 8.\n",
    "\n",
    "Suppose you are a USD-based investor, but you want to short `1 JPY`, and use it to go long the equivalent amount of USD.\n",
    "\n",
    "Calculate the excess return to this short-yen (SY) trade, denoted $\\tilde{r}_{t+1}^{SY}$.\n",
    "\n",
    "We're still examining `January 2018` through `August 2024`.\n",
    "\n",
    "Report the first and last three values of the timeseries of excess returns."
   ]
  },
  {
   "cell_type": "code",
   "execution_count": 16,
   "id": "05fcd779-8e6b-446c-91cd-ae9e83268e52",
   "metadata": {},
   "outputs": [
    {
     "name": "stdout",
     "output_type": "stream",
     "text": [
      "Short-Yen Excess Returns (First 3):\n",
      "date\n",
      "2018-01-01   -1.003318\n",
      "2018-01-02   -0.997920\n",
      "2018-01-03   -0.997803\n",
      "dtype: float64\n",
      "\n",
      "Short-Yen Excess Returns (Last 3):\n",
      "date\n",
      "2024-08-27   -0.995478\n",
      "2024-08-28   -0.997050\n",
      "2024-08-29   -0.991677\n",
      "dtype: float64\n"
     ]
    }
   ],
   "source": [
    "start_date = '2018-01-01'\n",
    "end_date = '2024-08-31'\n",
    "\n",
    "df_rfrs_filtered = df_rfrs.loc[start_date:end_date]\n",
    "df_ex_filtered = df_exchange_rates.loc[start_date:end_date]\n",
    "\n",
    "df_rfrs_daily = df_rfrs_filtered / 252.0\n",
    "\n",
    "df_ex_shifted = df_ex_filtered.shift(-1)\n",
    "\n",
    "SY_excess_returns = ((df_ex_filtered['JPY'] * (1 + df_rfrs_daily['USD']) \n",
    "                     - (1 + df_rfrs_daily['JPY']) * df_ex_shifted['JPY']) \n",
    "                     / df_ex_filtered['JPY']) - 1\n",
    "\n",
    "SY_excess_returns = SY_excess_returns.iloc[:-1]\n",
    "\n",
    "print(\"Short-Yen Excess Returns (First 3):\")\n",
    "print(SY_excess_returns.head(3))\n",
    "print(\"\\nShort-Yen Excess Returns (Last 3):\")\n",
    "print(SY_excess_returns.tail(3))"
   ]
  },
  {
   "cell_type": "markdown",
   "id": "60cb4edc-bbe0-4a81-b87f-61dfa53f2f20",
   "metadata": {},
   "source": [
    "### 9.\n",
    "\n",
    "Report the performance statistics requested in `2.2` for this short-yen trade. \n",
    "\n",
    "Also, what date is the min and max return for this trade?"
   ]
  },
  {
   "cell_type": "code",
   "execution_count": 17,
   "id": "97a58f8b-4cab-4fd4-b604-62dfc5e7e57e",
   "metadata": {},
   "outputs": [
    {
     "name": "stdout",
     "output_type": "stream",
     "text": [
      "Short-Yen Trade Performance Metrics (Jan 2018 - Aug 2024):\n",
      "Annualized Mean: -251.94319731714228\n",
      "Annualized Volatility: 0.08474149023610687\n",
      "Skewness: -0.5212772366748648\n",
      "Excess Kurtosis: 6.5261294586844425\n",
      "Max Drawdown: -1.010869042983383\n",
      "\n",
      "Date of Minimum Return: 2022-12-19 00:00:00, Value: -1.0391191691430222\n",
      "Date of Maximum Return: 2020-03-09 00:00:00, Value: -0.9690365625365625\n"
     ]
    }
   ],
   "source": [
    "daily_mean = SY_excess_returns.mean()\n",
    "annualized_mean = daily_mean * 252\n",
    "\n",
    "daily_vol = SY_excess_returns.std()\n",
    "annualized_vol = daily_vol * np.sqrt(252)\n",
    "\n",
    "skewness = SY_excess_returns.skew()\n",
    "excess_kurtosis = SY_excess_returns.kurt()\n",
    "\n",
    "cumulative_returns = (1 + SY_excess_returns).cumprod()\n",
    "running_max = cumulative_returns.cummax()\n",
    "drawdowns = (cumulative_returns - running_max) / running_max\n",
    "max_drawdown = drawdowns.min()\n",
    "\n",
    "min_return_date = SY_excess_returns.idxmin()\n",
    "max_return_date = SY_excess_returns.idxmax()\n",
    "\n",
    "print(\"Short-Yen Trade Performance Metrics (Jan 2018 - Aug 2024):\")\n",
    "print(\"Annualized Mean:\", annualized_mean)\n",
    "print(\"Annualized Volatility:\", annualized_vol)\n",
    "print(\"Skewness:\", skewness)\n",
    "print(\"Excess Kurtosis:\", excess_kurtosis)\n",
    "print(\"Max Drawdown:\", max_drawdown)\n",
    "print(f\"\\nDate of Minimum Return: {min_return_date}, Value: {SY_excess_returns.min()}\")\n",
    "print(f\"Date of Maximum Return: {max_return_date}, Value: {SY_excess_returns.max()}\")"
   ]
  },
  {
   "cell_type": "markdown",
   "id": "d6cf51ec",
   "metadata": {
    "vscode": {
     "languageId": "plaintext"
    }
   },
   "source": [
    "***"
   ]
  }
 ],
 "metadata": {
  "hide_input": false,
  "kernelspec": {
   "display_name": "Python 3 (ipykernel)",
   "language": "python",
   "name": "python3"
  },
  "language_info": {
   "codemirror_mode": {
    "name": "ipython",
    "version": 3
   },
   "file_extension": ".py",
   "mimetype": "text/x-python",
   "name": "python",
   "nbconvert_exporter": "python",
   "pygments_lexer": "ipython3",
   "version": "3.12.4"
  }
 },
 "nbformat": 4,
 "nbformat_minor": 5
}
