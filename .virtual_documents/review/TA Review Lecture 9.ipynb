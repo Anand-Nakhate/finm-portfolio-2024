


import pandas as pd
import numpy as np
import matplotlib.pyplot as plt
import seaborn as sns
import statsmodels.api as sm
import sys 

sys.path.append('../cmds/')
import TA_utils as ta 


plt.style.use('ggplot')

# Read ltcm_exhibits_data.xlsx and get sheet Exhibit 2
ltcm = pd.read_excel('../data/ltcm_exhibits_data.xlsx', sheet_name='Exhibit 2', skiprows=2, index_col=0, parse_dates=[0]).iloc[:-4, :]
ltcm.index.name = 'Date'

# Get SPY returns from returns (total) in gmo_analysis_data.xlsx
spy = pd.read_excel('../data/gmo_analysis_data.xlsx', sheet_name='total returns', index_col=0, parse_dates=[0])[['SPY']]
us3m = pd.read_excel('../data/gmo_analysis_data.xlsx', sheet_name='risk-free rate', index_col=0, parse_dates=[0])[['TBill 3M']]

# Make index a dateindex not a timestamp for ltcm
ltcm.index = pd.to_datetime(ltcm.index, format='%Y-%m-%d') + pd.tseries.offsets.MonthEnd(0)

ltcm = ltcm[['Net Monthly Performanceb']].dropna()
ltcm = ltcm.rename(columns={'Net Monthly Performanceb': 'LTCM'})

# Join on month and year of the index
df = ltcm.join(spy, how='inner').join(us3m, how='inner')





# Make our portfolio follow the -market^2 when market is down, and market when market is up
ex = spy.copy()
ex['Port'] = spy ** 2
# Add noise
ex['Port'] = ex['Port'] + np.random.normal(0, 0.001, size=len(ex))

# Make 2x1 subplots
fig, axes = plt.subplots(ncols=2, nrows=1, figsize=(15, 5))
axes[0].scatter(ex['SPY'], ex['Port'], alpha=0.5)

# Take fit linear regression (quadratic)
sns.regplot(x='SPY', y='Port', data=ex, ax=axes[1], order=2, scatter_kws={'alpha': 0.5}, line_kws={'color': 'black'})

axes[0].set_ylabel('Port')
axes[0].set_xlabel('SPY')





# That was pretty easy, but what if our payoff function is more complicated? Let's
# say we're long a straddle at 0.00 returns (ie. ATM). 

ex['Straddle'] = np.abs(spy)
ex['Straddle'] = ex['Straddle'] + np.random.normal(0, 0.005, size=len(ex))

fig, axes = plt.subplots(ncols=2, nrows=1, figsize=(15, 5))

sns.scatterplot(x='SPY', y='Straddle', data=ex, alpha=0.5, ax=axes[0])

# Then we can decompose the payoff into a linear combination of basis functions.
# Plot where spy < 0 red and spy > 0 blue
sns.scatterplot(x='SPY', y='Straddle', data=ex[ex['SPY'] < 0], alpha=0.5, ax=axes[1], color='red')
sns.scatterplot(x='SPY', y='Straddle', data=ex[ex['SPY'] > 0], alpha=0.5, ax=axes[1], color='blue');


# We can fit a linear model to this data, by dividing it into a "put like" factor, and a "call like" factor
ex['Put'] = ex['SPY'].copy()
ex['Put'][ex['SPY'] > 0] = 0
ex['Put'] = np.abs(ex['Put'])
ex['Call'] = ex['SPY'].copy()
ex['Call'][ex['SPY'] < 0] = 0
ex['Call'] = np.abs(ex['Call'])

# Fit linear regression
model = sm.OLS(ex['Straddle'], ex[['Put', 'Call', 'SPY']])
results = model.fit()
results.summary()


# Actually, suppose we are long a strangle at -0.03 and 0.03 returns (ie. OTM). 
# And, we are also long SPY.
ex['Strangle'] = np.maximum(spy - 0.03, 0) + np.maximum(-0.03 - spy, 0)
ex['Strangle'] = ex['Strangle'] + np.random.normal(0, 0.005, size=len(ex))

sns.scatterplot(x='SPY', y='Strangle', data=ex, alpha=0.5);


# And now linearly decompose the payoff into a linear combination of basis functions.
ex['STG_Put'] = np.maximum(-0.03 - spy, 0)
ex['STG_Call'] = np.maximum(spy - 0.03, 0)
ex['STG_Spy'] = spy
ex['STG_Spy2'] = spy**2

# Fit linear regression
model = sm.OLS(ex['Strangle'], ex[['STG_Put', 'STG_Call', 'STG_Spy', 'STG_Spy2']])
results = model.fit()
results.summary()


# One potential application is so-called "downside protection" or "PnL smoothing". This is very popular in hedge funds and 
# other asset managers. The idea is that you want to protect your portfolio from large losses, but you don't want to give up
# too much upside.

# So, you buy a put option. The problem with this is that it might be expensive to buy a put option.
# Why don't we give up some upside to pay for the put option and make it cheaper? We do this by selling a call option.

# Eg. Put options might cost $10, and call options might cost $5. So we enter into long put, short call position, and pay $5.
# this lets us buy *double* the number of put options. Also, note that selling a call also somewhat helps our downside protection,
# since we are short more deltas!

# Let's see how this works in practice. Let's say we are long SPY, and we want to protect against a 10% drop in SPY.
ex['Hedge'] = spy.copy() - np.maximum(spy - 0.03, 0) + np.maximum(-0.03 - spy, 0)

# Plot cumulative returns
((1 + ex[['SPY', 'Hedge']]).cumprod() - 1).plot(figsize=(8, 5));


ta.calc_performance_metrics(ex[['SPY', 'Hedge']], adj=12).T


ta.calc_univariate_regression(ex['Hedge'], ex['SPY']).T


# Is this too good to be true? Well, yes. This is one of the reasons why the volatility surface is asymmetric!

# Plot -0.1 to 0.1 vs. constant vol of 5%
xx = np.arange(-0.1, 0.1, 0.001)
plt.plot(xx, np.full(len(xx), 0.1), label='BS Vol')
yy = 0.1 -0.5 * xx + (xx) **2
plt.plot(xx, yy, label='Skewed Vol')
plt.legend()
plt.xlabel('Strike')
plt.ylabel('Vol')
plt.show()


ex['Hedge'] = spy.copy() - np.maximum(spy - 0.03, 0) + np.maximum(-0.05 - spy, 0)

# Plot cumulative returns
((1 + ex[['SPY', 'Hedge']]).cumprod() - 1).plot(figsize=(8, 5));


ta.calc_performance_metrics(ex[['SPY', 'Hedge']], adj=12).T



