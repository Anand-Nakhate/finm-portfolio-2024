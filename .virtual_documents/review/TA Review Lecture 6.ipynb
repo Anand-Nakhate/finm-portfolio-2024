


import pandas as pd
import numpy as np
import matplotlib.pyplot as plt
from sklearn.decomposition import PCA
import seaborn as sns

plt.style.use('seaborn')

factors = pd.read_excel(
    '../data/factor_pricing_data.xlsx', sheet_name='factors (excess returns)', index_col=0, parse_dates=[0]
)
portfolios = pd.read_excel(
    '../data/factor_pricing_data.xlsx', sheet_name='portfolios (excess returns)', index_col=0, parse_dates=[0]
)





# Make upper triangle of correlation matrix NaN
factors_corr = factors.corr()
mask = np.triu(np.ones(factors_corr.shape), k=1).astype(bool)
factors_corr = factors_corr.where(mask)

plt.figure()
sns.heatmap(factors_corr, annot=True, cmap='coolwarm', center=0)
plt.title('Correlation matrix of factors')
plt.show()








# Do PCA on portfolios 
pca = PCA()
pca.fit(portfolios)
portfolios_pca = pca.transform(portfolios)

# Plot explained variance ratio
plt.figure()
plt.plot([0] + list(np.cumsum(pca.explained_variance_ratio_[:20])))
plt.xticks(np.arange(0, 20, 1))
plt.xticks(rotation=45)
plt.xticks(ticks=np.arange(0, 21, 1), labels=["0"] + [f'PC{i+1}' for i in range(20)])
plt.ylim(0, 1)
plt.title('Explained variance ratio of portfolios')
plt.show()





# Plot the loadings of the first two principal components
plt.figure(figsize=(15, 5))
plt.plot(pca.components_[0], label='PC1', marker='o')
plt.plot(pca.components_[1], label='PC2', marker='o')
plt.plot(pca.components_[2], label='PC3', marker='o')
plt.xticks(np.arange(len(portfolios.columns)), portfolios.columns, rotation=45);
plt.legend()
plt.title('Loadings of PCs')
plt.show()





raw_data = pd.read_excel('../data/momentum_data.xlsx', sheet_name=None)
sheets = list(raw_data.keys())

ff_factors = raw_data[sheets[1]].set_index('Date')
momentum = raw_data[sheets[2]].set_index('Date')
ff_factors['UMD'] = momentum['UMD']

mom_deciles = raw_data[sheets[3]].set_index('Date')
tercile_port = raw_data[sheets[4]].set_index('Date')
rf = raw_data[sheets[5]].set_index('Date')





ff_umd = 0.5 * (tercile_port['BIG HiPRIOR'] + tercile_port['SMALL HiPRIOR']) - 0.5 * (tercile_port['BIG LoPRIOR'] + tercile_port['SMALL LoPRIOR'])

fig, ax = plt.subplots(1, 2, figsize=(12, 5))

sns.regplot(x=ff_umd, y=ff_factors['UMD'], ax=ax[0], line_kws={'color': 'red'})
ax[0].set_xlabel('Fama-French UMD')
ax[1].plot(ff_factors['UMD'] - ff_umd)
ax[1].set_title('Difference between Fama-French UMD and UMD')
fig.tight_layout()
plt.show()





mom_long = 0.5 * (tercile_port['BIG HiPRIOR'] + tercile_port['SMALL HiPRIOR'])

sns.regplot(x=mom_long.to_frame("Long Only UMD"), y=ff_factors['UMD'], line_kws={'color': 'red'})





# Make upper triangle of correlation matrix NaN
ff_factors['UMD_LO'] = mom_long

factors_corr = ff_factors.corr()
mask = np.triu(np.ones(factors_corr.shape), k=1).astype(bool)
factors_corr = factors_corr.where(mask)

plt.figure()
sns.heatmap(factors_corr, annot=True, cmap='coolwarm', center=0)
plt.title('Correlation matrix of factors')
plt.show()



