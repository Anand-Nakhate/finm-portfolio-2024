import pandas as pd
import numpy as np
import midterm1_helper as mh


hf_series = pd.read_excel('data/proshares_analysis_data.xlsx',sheet_name='hedge_fund_series',index_col=0)
merrill_factors = pd.read_excel('data/proshares_analysis_data.xlsx',sheet_name='merrill_factors',index_col=0)
other_data = pd.read_excel('data/proshares_analysis_data.xlsx',sheet_name='other_data',index_col=0)


mh.return_stats(hf_series)



