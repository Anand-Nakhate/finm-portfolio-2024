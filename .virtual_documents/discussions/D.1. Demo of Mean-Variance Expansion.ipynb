


import numpy as np
import pandas as pd
pd.options.display.float_format = "{:,.4f}".format

import matplotlib.pyplot as plt
import seaborn as sns

import statsmodels.api as sm
from sklearn.linear_model import LinearRegression


filepath_data = '../data/spx_returns_weekly.xlsx'


SHEET = 's&p500 rets'
rets_raw = pd.read_excel(filepath_data,sheet_name=SHEET).set_index('date')





N = 10

np.random.seed(99)
idx = np.random.choice(rets_raw.columns,size=N,replace=False)

rets = rets_raw[idx]


FREQ = 52

mu = rets.mean() * FREQ
covmat = rets.cov() * FREQ
vec_ones = np.ones(mu.shape)

mets = pd.DataFrame(index=rets.columns,columns=['mean','vol'],dtype=float)
mets['mean'] = mu
mets['vol'] = rets.std()*np.sqrt(FREQ)


w_gmv = np.linalg.solve(covmat,vec_ones)
w_tan = np.linalg.solve(covmat,mu)

w_gmv /= w_gmv.sum()
w_tan /= w_tan.sum()


def delta_parameter(target_mean):
    delta = (target_mean - mu.T@w_gmv)/(mu.T@w_tan - mu.T@w_gmv)
    return delta


MAX = (N+5) * .0005 * FREQ
MIN = - MAX/1.6

grid = np.linspace(MIN,MAX,250)
df = pd.DataFrame(index=grid,columns=['delta','mu','vol'],dtype=float)
df.index.name = 'mean'

for mu_target in grid:
    delta = delta_parameter(mu_target)
    w = delta * w_tan + (1-delta) * w_gmv
    df.loc[mu_target,'delta'] = delta
    df.loc[mu_target,'mu'] = w.T @ mu
    df.loc[mu_target,'vol'] = np.sqrt(w.T @ covmat @ w)


ax = df.reset_index().plot.scatter(x='vol',y='mu')
mets.plot.scatter(ax=ax, x='vol', y='mean',color='r')
plt.ylim(-(N+10)/50,(N+10)/50)
plt.title('mean-variance frontier')
plt.show()


sr = (mets['mean'] / mets['vol'])
sr.loc['max'] = sr.max()
sr.loc['tangency'] = (mu.T @ w_tan)/np.sqrt(w_tan.T @ covmat @ w_tan)
ax = sr.loc[['max','tangency']].plot.bar()
plt.title('Sharpe ratios')
plt.show()


wts = pd.DataFrame({'gmv':w_gmv, 'tan':w_tan})
wts.abs().sum().plot.bar()
plt.title('gross market value')
plt.show()
