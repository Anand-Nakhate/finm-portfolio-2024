













































































import numpy as np
import pandas as pd
pd.options.display.float_format = "{:,.4f}".format

import matplotlib.pyplot as plt
import seaborn as sns

import statsmodels.api as sm
from sklearn.linear_model import LinearRegression


import matplotlib.pyplot as plt
%matplotlib inline
plt.rcParams['figure.figsize'] = (12,6)
plt.rcParams['font.size'] = 15
plt.rcParams['legend.fontsize'] = 13





import sys
sys.path.insert(0, '../cmds')
from portfolio import *





filepath_data = '../data/proshares_analysis_data.xlsx'
info = pd.read_excel(filepath_data,sheet_name='descriptions')
info.rename(columns={'Unnamed: 0':'Symbol'},inplace=True)
info.set_index('Symbol',inplace=True)

hf = pd.read_excel(filepath_data,sheet_name='hedge_fund_series')
hf = hf.rename(columns={'Unnamed: 0':'date'}).set_index('date')

ml = pd.read_excel(filepath_data,sheet_name='merrill_factors')
ml = ml.rename(columns={'Unnamed: 0':'date'}).set_index('date')


info.loc[list(hf.columns) + list(ml.columns)]


mlx = ml.subtract(ml['USGG3M Index'], axis=0)
mlx = mlx.drop(columns=['USGG3M Index'])





performanceMetrics(ml,annualization=12)


corrmat = ml.corr()
corrmat[corrmat==1] = None
sns.heatmap(corrmat,annot=True,fmt='.0%');





performanceMetrics(hf,annualization=12)


tailMetrics(hf)





corrmat = hf.corr()
corrmat[corrmat==1] = None
sns.heatmap(corrmat,annot=True,fmt='.0%');





get_ols_metrics(ml['SPY US Equity'],hf,annualization=12)





hfri = hf['HFRIFWI Index']
spy = ml['SPY US Equity']

cumrets = (1+pd.concat([hfri,spy],axis=1)).cumprod()
cumrets.plot();





fig, ax1 = plt.subplots(figsize=(10,5))

ax1.set_xlabel('Date')
ax1.set_ylabel(hfri.name)
ax1.plot(hfri.index, (1+hfri).cumprod(), color='r', label=hfri.name)

ax2 = ax1.twinx()  
ax2.set_ylabel(spy.name)  
ax2.plot(spy.index, (1+spy).cumprod(), color='g', label=spy.name)

ax1.legend(loc='upper left')
ax2.legend(loc='center left')
plt.show()





y = hf['HFRIFWI Index']
X = sm.add_constant(ml)
static_model = sm.OLS(y,X).fit()
static_model.summary()





from statsmodels.regression.rolling import RollingOLS
model = RollingOLS(y,X,window=60)
rolling_betas = model.fit().params.copy()


rep_IS = (rolling_betas * X).sum(axis=1,skipna=False)
rep_OOS = (rolling_betas.shift() * X).sum(axis=1,skipna=False)


replication = hf[['HFRIFWI Index']].copy()
replication['Static-IS-Int'] = static_model.fittedvalues

replication['Rolling-IS-Int'] = rep_IS
replication['Rolling-OOS-Int'] = rep_OOS


corrmat = replication.corr()
corrmat[corrmat==1] = None
sns.heatmap(corrmat,annot=True,fmt='.0%');





Xnoint = ml
static_model_noint = sm.OLS(y,Xnoint).fit()
betas = pd.DataFrame(static_model.params,columns=['Yes Intercept']).T
betas.loc['No Intercept'] = static_model_noint.params
betas





model = RollingOLS(y,Xnoint,window=60,)
rolling_betas = model.fit().params.copy()
rep_IS_noint = (rolling_betas * Xnoint).sum(axis=1,skipna=False)
rep_OOS_noint = (rolling_betas.shift() * Xnoint).sum(axis=1,skipna=False)


replication['Static-IS-NoInt'] = static_model_noint.fittedvalues
replication['Rolling-IS-NoInt'] = rep_IS_noint
replication['Rolling-OOS-NoInt'] = rep_OOS_noint


performanceMetrics(replication,annualization=12)


tailMetrics(replication)


corrmat = replication.corr()
corrmat[corrmat==1] = None
sns.heatmap(corrmat,annot=True,fmt='.0%');





rep_spy = ml[['SPY US Equity']].copy()

model = sm.OLS(ml['SPY US Equity'],sm.add_constant(ml.drop(columns=['SPY US Equity'])))
rep_spy['Static-IS-Int'] = model.fit().fittedvalues
model = sm.OLS(ml['SPY US Equity'],ml.drop(columns=['SPY US Equity']))
rep_spy['Static-IS-NoInt'] = model.fit().fittedvalues
performanceMetrics(rep_spy,annualization=12)





























reg_nnls = LinearRegression(positive=True,fit_intercept=True)
mod = reg_nnls.fit(Xnoint, y)
betas.loc['Yes intercept: NNLS',Xnoint.columns] =  + mod.coef_
betas.loc['Yes intercept: NNLS','const'] = mod.intercept_
betas





replication['Static-IS-Int-NNLS'] = mod.predict(Xnoint)
corr_nnls = replication.corr().loc['Static-IS-Int-NNLS','Static-IS-Int']
print(f'Correlation between unconstrained and constrained is {corr_nnls:0.4f}')





data = pd.read_excel(filepath_data,sheet_name='other_data')
data = data.rename(columns={'Unnamed: 0':'date'}).set_index('date')
data.drop(columns=['SPXU US Equity','UPRO US Equity'],inplace=True)

info.loc[data.columns]


performanceMetrics(data,annualization=12)


import warnings
warnings.filterwarnings('ignore')
tailMetrics(data)


temp = data.join(ml['SPY US Equity'])
corrmat = temp.corr()
corrmat[corrmat==1] = None
sns.heatmap(corrmat,annot=True,fmt='.0%');


get_ols_metrics(ml,data,annualization=12)
