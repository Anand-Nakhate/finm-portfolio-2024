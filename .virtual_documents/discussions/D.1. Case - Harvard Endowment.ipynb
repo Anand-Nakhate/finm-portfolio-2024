






































import numpy as np
import pandas as pd
pd.options.display.float_format = "{:,.4f}".format

import matplotlib.pyplot as plt
import seaborn as sns

import statsmodels.api as sm
from sklearn.linear_model import LinearRegression


%matplotlib inline
plt.rcParams['figure.figsize'] = (12,6)
plt.rcParams['font.size'] = 15
plt.rcParams['legend.fontsize'] = 13





filepath_data = '../data/multi_asset_etf_data.xlsx'
info = pd.read_excel(filepath_data,sheet_name='descriptions')
info.set_index('ticker',inplace=True)


rets = pd.read_excel(filepath_data,sheet_name='total returns')
rets.set_index('Date',inplace=True)
rets.drop(columns=['SHV'])

retsx = pd.read_excel(filepath_data,sheet_name='excess returns')
retsx.set_index('Date',inplace=True)

# sort columns by order of descriptions in Info tab
symbol_list = info.index.drop('SHV')
rets = rets[symbol_list]
retsx = retsx[symbol_list]


info


retsx





def performanceMetrics(returns,annualization=1):
    metrics = pd.DataFrame(index=returns.columns)
    metrics['Mean'] = returns.mean() * annualization
    metrics['Vol'] = returns.std() * np.sqrt(annualization)
    metrics['Sharpe'] = (returns.mean() / returns.std()) * np.sqrt(annualization)

    metrics['Min'] = returns.min()
    metrics['Max'] = returns.max()

    return metrics





def tangency_weights(returns,dropna=True,scale_cov=1):
    if dropna:
        returns = returns.dropna()

    covmat_full = returns.cov()
    covmat_diag = np.diag(np.diag(covmat_full))
    covmat = scale_cov * covmat_full + (1-scale_cov) * covmat_diag

    weights = np.linalg.solve(covmat,returns.mean())
    weights = weights / weights.sum()

    return pd.DataFrame(weights, index=returns.columns)





mets = performanceMetrics(retsx,annualization=12)
mets.sort_values('Sharpe',ascending=False)








corrmat = retsx.corr()
corrmat[corrmat==1] = None
sns.heatmap(corrmat,annot=True,fmt='.0%');


corr_rank = corrmat.unstack().sort_values().dropna()
pair_max = corr_rank.index[-1]
pair_min = corr_rank.index[0]

print(f'MIN Correlation pair is {pair_min}')
print(f'MAX Correlation pair is {pair_max}')








wts = pd.DataFrame(index=retsx.columns)
wts['tangency'] = tangency_weights(retsx)

port = pd.DataFrame(retsx @ wts['tangency'],columns=['tangency'])
performanceMetrics(port,annualization=12)


wts.plot.bar();








pd.concat([wts['tangency'],mets['Sharpe']],axis=1).sort_values('tangency',ascending=False)











wts['tangency ex tips'] = tangency_weights(retsx.drop(columns=['TIP']))
wts.loc['TIP','tangency ex tips'] = 0





TIPS_ADJ = .0012
retsx_adj = retsx.copy()
retsx_adj['TIP'] += TIPS_ADJ

wts['tan tips adj'] = tangency_weights(retsx_adj)


wts.plot.bar();


port['tan extips'] = pd.DataFrame(retsx @ wts['tangency ex tips'],columns=['tangency ex tips'])
port['tips adj'] = retsx_adj @ wts['tan tips adj']
performanceMetrics(port,annualization=12)





tips_se = retsx['TIP'].std()/np.sqrt(retsx.shape[0])
print(f'Standard error of mean of TIPS is equal to {tips_se:0.4f}')























TARG_MEAN = .015


wts['equal weights'] = 1/len(retsx.columns)
wts['risk parity'] = 1/retsx.var()
wts['regularized'] = tangency_weights(retsx,scale_cov=.5)

# rescale these to hit the target mean
wts *= TARG_MEAN / (retsx.mean()@wts)


performanceMetrics(retsx @ wts,annualization=12)























SPLIT0 = '2022'
SPLIT1 = '2023'

retsxIS = retsx.loc[:SPLIT0]
retsxOOS = retsx.loc[SPLIT1:]

retsxIS_adj = retsxIS.copy()
retsxIS_adj['TIP'] += TIPS_ADJ

wtsIS = pd.DataFrame(index=wts.index, columns=wts.columns, dtype=float)
wtsIS['tangency'] = tangency_weights(retsxIS)

tangency_ex_tips = tangency_weights(retsxIS.drop(columns=['TIP'])).values[:, 0]
wtsIS.loc[wtsIS.index[:-1], 'tangency ex tips'] = tangency_ex_tips
wtsIS.loc['TIP','tangency ex tips'] = 0

wtsIS['tan tips adj'] = tangency_weights(retsxIS_adj)
wtsIS['equal weights'] = 1/len(retsxIS.columns)
wtsIS['risk parity'] = 1/retsxIS.var()
wtsIS['regularized'] = tangency_weights(retsxIS,scale_cov=.5)

# rescale these to hit the target mean
wtsIS *= TARG_MEAN / (retsxIS.mean()@wtsIS)

performanceMetrics(retsxIS @ wtsIS,annualization=12)


performanceMetrics(retsxOOS @ wtsIS,annualization=12)








portOOS = pd.DataFrame(index=retsx.index,columns=wts.columns,dtype=float)
for yr in range(2015,2024):
    yr0 = f'{yr}'
    yr1 = f'{yr+1}'
    retsxIS = retsx.loc[:yr0]
    retsxOOS = retsx.loc[yr1]

    retsxIS_adj = retsxIS.copy()
    retsxIS_adj['TIP'] += TIPS_ADJ

    wtsIS = pd.DataFrame(index=wts.index, columns=wts.columns, dtype=float)
    wtsIS['tangency'] = tangency_weights(retsxIS)

    tangency_ex_tips = tangency_weights(retsxIS.drop(columns=['TIP'])).values[:, 0]
    wtsIS.loc[wtsIS.index[:-1], 'tangency ex tips'] = tangency_ex_tips
    wtsIS.loc['TIP','tangency ex tips'] = 0

    wtsIS['tan tips adj'] = tangency_weights(retsxIS_adj)
    wtsIS['equal weights'] = 1/len(retsxIS.columns)
    wtsIS['risk parity'] = 1/retsxIS.var()
    wtsIS['regularized'] = tangency_weights(retsxIS,scale_cov=.5)

    # rescale these to hit the target mean
    wtsIS *= TARG_MEAN / (retsxIS.mean()@wtsIS)
    
    portOOS.loc[yr1] = retsxOOS @ wtsIS





portOOS = pd.DataFrame(index=retsx.index,columns=wts.columns,dtype=float)
for i, month in enumerate(portOOS.index):
    if i > 60:
        retsxIS = retsx.iloc[:i]
        retsxOOS = retsx.iloc[i]

        retsxIS_adj = retsxIS.copy()
        retsxIS_adj['TIP'] += TIPS_ADJ

        wtsIS = pd.DataFrame(index=wts.index, columns=wts.columns, dtype=float)
        wtsIS['tangency'] = tangency_weights(retsxIS)

        tangency_ex_tips = tangency_weights(retsxIS.drop(columns=['TIP'])).values[:, 0]
        wtsIS.loc[wtsIS.index[:-1], 'tangency ex tips'] = tangency_ex_tips
        wtsIS.loc['TIP','tangency ex tips'] = 0

        wtsIS['tan tips adj'] = tangency_weights(retsxIS_adj)
        wtsIS['equal weights'] = 1/len(retsxIS.columns)
        wtsIS['risk parity'] = 1/retsxIS.var()
        wtsIS['regularized'] = tangency_weights(retsxIS,scale_cov=.5)

        # rescale these to hit the target mean
        wtsIS *= TARG_MEAN / (retsxIS.mean()@wtsIS)

        portOOS.iloc[i,:] = retsxOOS @ wtsIS


performanceMetrics(portOOS,annualization=12)























import warnings
warnings.filterwarnings('ignore')

rtemp = retsx + (rets-retsx).mean()
rtemp = rets

omega_tan = tangency_weights(rtemp)
# reuse tangency function by creating ones
vec_one_realized = rtemp - rtemp.mean() + 1
omega_gmv = tangency_weights(vec_one_realized)

omega = pd.concat([omega_tan,omega_gmv],axis=1)
omega.columns = ['tangency','gmv']

delta_grid = np.linspace(-3,3,150)
mv_frame = pd.DataFrame(columns=['mean','vol'],index=delta_grid)
for i, delta in enumerate(delta_grid):
    omega_mv = delta * omega_tan + (1-delta) * omega_gmv
    rets_p = rtemp @ omega_mv
    mv_frame['mean'].iloc[i] = rets_p.mean().values[0] * 12
    mv_frame['vol'].iloc[i] = rets_p.std().values[0] * np.sqrt(12)
    
rets_special = pd.DataFrame(index=rets.index)
rets_special['tan'] = rtemp @ omega_tan.values
rets_special['gmv'] = rtemp @ omega_gmv.values

mv_assets = pd.concat([rtemp.mean() * 12,rtemp.std() * np.sqrt(12)],axis=1)
mv_special = pd.concat([rets_special.mean() * 12, rets_special.std() * np.sqrt(12)],axis=1)
mv_assets.columns = ['mean','vol']
mv_special.columns = ['mean','vol']


ax = mv_frame.plot.scatter(x='vol',y='mean', c='k', figsize=(10,10), title='MV Frontier')
mv_assets.plot.scatter(x='vol',y='mean',ax=ax, c='b', marker='^', linewidth=8)
mv_special.plot.scatter(x='vol',y='mean',ax=ax, c='r', marker='s', linewidth=12)

for i in range(mv_assets.shape[0]):
    plt.text(x=mv_assets['vol'][i]+.0005, y=mv_assets['mean'][i]+.0005, s=mv_assets.index[i])


plt.show()


omega_tan = tangency_weights(retsx)
# reuse tangency function by creating ones
vec_one_realized = retsx - retsx.mean() + 1
omega_gmv = tangency_weights(vec_one_realized)

omega = pd.concat([omega_tan,omega_gmv],axis=1)
omega.columns = ['tangency','gmv']

delta_grid = np.linspace(-2,2,150)
mv_frame = pd.DataFrame(columns=['mean','vol'],index=delta_grid)
for i, delta in enumerate(delta_grid):
    omega_mv = delta * omega_tan + (1-delta) * omega_gmv
    rets_p = retsx @ omega_mv
    mv_frame['mean'].iloc[i] = rets_p.mean().values[0] * 12
    mv_frame['vol'].iloc[i] = rets_p.std().values[0] * np.sqrt(12)
    
rets_special = pd.DataFrame(index=retsx.index)
rets_special['tan'] = retsx @ omega_tan.values
rets_special['gmv'] = retsx @ omega_gmv.values

mv_assets = pd.concat([retsx.mean() * 12,retsx.std() * np.sqrt(12)],axis=1)
mv_special = pd.concat([rets_special.mean() * 12, rets_special.std() * np.sqrt(12)],axis=1)
mv_assets.columns = ['mean','vol']
mv_special.columns = ['mean','vol']

ax = mv_frame.plot.scatter(x='vol',y='mean', c='k', figsize=(10,10), title='MV Frontier')
mv_assets.plot.scatter(x='vol',y='mean',ax=ax, c='b', marker='^', linewidth=8)
mv_special.plot.scatter(x='vol',y='mean',ax=ax, c='r', marker='s', linewidth=12)

for i in range(mv_assets.shape[0]):
    plt.text(x=mv_assets['vol'][i]+.0005, y=mv_assets['mean'][i]+.0005, s=mv_assets.index[i])

rtan_temp = retsx @ tangency_weights(retsx)
pdtemp = pd.DataFrame([rtan_temp.mean().values * 12,rtan_temp.std().values * np.sqrt(12)] ).T
pdtemp.index = ['tangency']
pdtemp.columns = ['mean','vol']

pdtemp.plot.scatter(x='vol',y='mean',ax=ax,c='g',marker='d',linewidth=10)

x_green = pdtemp.loc['tangency','vol']
y_green = pdtemp.loc['tangency','mean']
plt.plot([0, x_green], [0, y_green], color='green', linestyle='-', linewidth=5)
plt.plot([0, x_green], [0, -y_green], color='green', linestyle='-', linewidth=5)

plt.show()
