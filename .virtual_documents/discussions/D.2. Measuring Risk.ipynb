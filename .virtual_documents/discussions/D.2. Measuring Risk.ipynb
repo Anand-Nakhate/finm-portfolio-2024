


import pandas as pd
import numpy as np
import datetime
import warnings

import matplotlib.pyplot as plt
%matplotlib inline
plt.rcParams['figure.figsize'] = (12,6)
plt.rcParams['font.size'] = 15
plt.rcParams['legend.fontsize'] = 13

from matplotlib.ticker import (MultipleLocator,
                               FormatStrFormatter,
                               AutoMinorLocator)

from sklearn.linear_model import LinearRegression
import sys
sys.path.insert(0,'../cmds')
from portfolio import *
from risk import *


LOADFILE = '../data/risk_etf_data.xlsx'
info = pd.read_excel(LOADFILE,sheet_name='descriptions').set_index('ticker')
rets = pd.read_excel(LOADFILE,sheet_name='total returns').set_index('Date')
prices = pd.read_excel(LOADFILE,sheet_name='prices').set_index('Date')

FREQ = 252














TICK = 'IEF'
fig, ax = plt.subplots(2,1,figsize=(10,10))
desc = info.loc[TICK,'shortName']
prices[TICK].plot(ax=ax[0],title=f'Prices: {desc}')
rets[TICK].plot(ax=ax[1],title=f'Returns: {desc}')
plt.tight_layout()
plt.show()




















info








pd.concat([prices.mean(),rets.mean()*FREQ],axis=1,keys=['price','return']).style.format({'price':'{:.2f}','return':'{:.2%}'})








vol = (rets.std().to_frame('vol')*np.sqrt(FREQ))
vol['variance'] = vol['vol']**2
vol.style.format('{:.2%}')








get_moments(rets,FREQ)











quantiles = rets.quantile(q=[.01,.05,.25,.5,.75,.95,.99])
quantiles.index.name = 'quantile'

quantiles.reset_index(inplace=True)
quantiles['quantile'] = quantiles['quantile'].astype(str)
quantiles.set_index('quantile',inplace=True)
quantiles.style.format('{:.2%}')

sns.heatmap(quantiles,annot=True,fmt='.1%')
plt.show()





data = rets['SPY']
fig = plot_normal_histogram(data,bins=250);
plt.title('Histogram of Returns');
plt.show()





outlier_normal(rets).set_caption('Daily')





retsM = prices.resample('ME').last().pct_change()
outlier_normal(retsM).set_caption('Monthly')











TICK = 'BTC'
prices[TICK].plot(title=f'Prices: {TICK}');





def mdd_timeseries(rets):
    cum_rets = (1 + rets).cumprod()
    rolling_max = cum_rets.cummax()
    drawdown = (cum_rets - rolling_max) / rolling_max
    return drawdown


drawdown = mdd_timeseries(rets)
drawdown[TICK].plot(title=f'Max Drawdown {TICK}');
plt.show()


fig, ax = plt.subplots(2,2,figsize=(10,6))
for i in range(4):
    lab = drawdown.columns[i*3]
    drawdown.iloc[:,2*i].plot(ax=ax[i%2,int(np.floor(i/2))],title=lab)

plt.suptitle('Maximum Drawdown')
plt.tight_layout()
plt.show()


def format_date(x):
    if isinstance(x, pd.Timestamp):
        return x.date()
    return x

def format_timedelta(x):
    if isinstance(x, pd.Timedelta):
        return f"{x.days} days"
    return x

styled_df = maximumDrawdown(rets).style.format({
    'Recover': format_date,
    'Duration (to Recover)': format_timedelta,
    'Max Drawdown':'{:.2%}',
    'Peak':'{:%Y-%m-%d}',
    'Bottom':'{:%Y-%m-%d}'
})

styled_df

















rets.cov().style.format('{:.4%}')





sns.heatmap(rets.corr(),annot=True);





COMP = 'SPY'
birisk = pd.DataFrame(dtype=float, columns=['corr','cov','beta'], index=rets.columns)
birisk['corr'] = rets.corr()[COMP]
birisk['cov'] = rets.cov()[COMP] * FREQ
for sec in rets.columns:
    birisk.loc[sec,'beta'] = LinearRegression().fit(rets[[COMP]],rets[[sec]]).coef_[0]

birisk.columns = [f'{COMP} {col}' for col in birisk.columns]
birisk.style.format({birisk.columns[0]:'{:.2%}',birisk.columns[1]:'{:.4%}',birisk.columns[2]:'{:.4f}'})





COMPS = ['SPY','VEA']
betas = pd.DataFrame(dtype=float, columns=COMPS, index=rets.columns)
for sec in rets.columns:
    betas.loc[sec] = LinearRegression().fit(rets[COMPS],rets[[sec]]).coef_

betas.join(birisk['SPY beta']).rename(columns={'SPY beta': 'SPY (univariate)'}).style.format('{:.4f}')
































keys = ['SPY','UPRO']

comp = pd.concat([rets[keys],rets[keys].sum(axis=1)],axis=1).rename(columns={0:'Portfolio'})

mdd = mdd_timeseries(comp)
QUANT = .05

tabcomp = pd.concat([comp.std(), comp.var(), comp.quantile(QUANT), mdd.min()],axis=1,keys=['std','variance',f'quantile {QUANT}','MDD'])
tabcomp.loc['sum of parts'] = tabcomp.iloc[0:-1,:].sum()
tabcomp.loc['sum of parts','variance'] = tabcomp.loc['sum of parts','std']**2
tabcomp.style.format('{:.4%}')









