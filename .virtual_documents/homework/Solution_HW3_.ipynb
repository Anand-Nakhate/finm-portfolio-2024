



































# 1 Modeling Volatility and VaR
# Imports
import pandas as pd 
import numpy as np 
import matplotlib.pyplot as plt
from scipy.stats import norm


# Data
FILEPATH = '../data/spy_data.xlsx'
data = pd.read_excel(FILEPATH, sheet_name='total returns')
data['date'] = pd.to_datetime(data['date'])
data['Excess Returns'] = data['SPY'] - data['^IRX']
data.set_index('date', inplace = True)
data.head()


# 1.1 Historic VaR
VaR = pd.DataFrame()
VaR['Historic VaR'] = (data['Excess Returns'].shift().expanding().quantile(.05))
VaR.loc['2001-01-02':]['Historic VaR'].plot(title='Historic VaR', ylabel='VaR', xlabel='Date')
VaR.head()


# Report
violations = (data['Excess Returns'] < VaR['Historic VaR'])
print(violations.head())
violation_frequency = violations.mean()
expected_frequency = 0.05
print(f"Observed frequency of violations: {violation_frequency:.4f}")
print(f"Expected frequency of violations: {expected_frequency:.4f}")





# 1.2 Volatility
# Report
expanding_series = np.sqrt((data['Excess Returns']**2).expanding().mean().shift())

rolling_window = np.sqrt((data['Excess Returns']**2).rolling(252).mean().shift())

theta = 0.94 
ewma = np.zeros(len(data))
ewma[0] = 0.20 / np.sqrt(252)
for t in range(1, len(data)):
    ewma[t] = np.sqrt(theta * ewma[t-1]**2 + (1 - theta) * data['Excess Returns'].iloc[t-1]**2)


volatility = pd.DataFrame({
    'Expanding Series': expanding_series,
    'Rolling Window': rolling_window,
    'EWMA': ewma}, index=data.index)

print(volatility.loc['2001-01-02':].head())
volatility.loc['2001-01-02':].plot(title='Volatility Estimate', ylabel='Volatility', xlabel='Date')
plt.show()


z_score = -1.65
VaR_volatility = pd.DataFrame({
    'VaR Expanding Series': z_score * volatility['Expanding Series'],
    'VaR Rolling Window': z_score * volatility['Rolling Window'],
    'VaR EWMA': z_score * volatility['EWMA']}, index=volatility.index)

VaR_volatility.loc['2001-01-02':].plot(title='Volatility-Based VaR Estimates', ylabel='VaR', xlabel='Date')
plt.show()


excess_returns = data['Excess Returns']

violations_expanding = excess_returns < VaR_volatility['VaR Expanding Series']
violations_rolling = excess_returns < VaR_volatility['VaR Rolling Window']
violations_ewma = excess_returns < VaR_volatility['VaR EWMA']

freq_expanding = violations_expanding.mean()
freq_rolling = violations_rolling.mean()
freq_ewma = violations_ewma.mean()

print(f"Observed frequency of violations (Expanding): {freq_expanding:.4f}")
print(f"Observed frequency of violations (Rolling): {freq_rolling:.4f}")
print(f"Observed frequency of violations (EWMA): {freq_ewma:.4f}")
print(f"Observed frequency of violations (Historic: {violation_frequency:.4f}")





# 1.3 CVaR
CVaR = -norm.pdf(1.65) / 0.05 * vol
CVaR['Historic'] = data['Excess Returns'].expanding().apply(lambda x: x[x < x.quantile(.05)].mean())
CVaR.plot(title='CVaR Estimates', ylabel='5% CVaR', xlabel='Date')
plt.show()


CVaR['Expanding Series'] = data['Excess Returns']['Expanding Series'].expanding().apply(lambda x: calculate_cvar(x))
CVaR['Rolling Window'] = data['Excess Returns']['Rolling Window'].expanding().apply(lambda x: calculate_cvar(x))
CVaR['EWMA'] = data['Excess Returns']['EWMA'].expanding().apply(lambda x: calculate_cvar(x))








# EXTRA: 1.4 GARCH
from arch import arch_model

GARCH = arch_model(data['Excess Returns'], vol='Garch', p=1, o=0, q=1, dist='Normal')
GARCH_model = GARCH.fit()
GARCH_params = GARCH_model.params


theta = 0.97
sigma1 = 0.15

avail_dates = vol.dropna().index

garch = pd.Series(0, index=avail_dates, name='GARCH')
garch[0] = sigma1

ewma[0] = sigma1

for i, ind in enumerate(avail_dates[1:], 1):
    garch[i] = np.sqrt(GARCH_params['omega'] \
        + garch[i-1]**2 * GARCH_params['beta[1]'] \
            + data['Excess Returns'].loc[ind]**2 * GARCH_params['alpha[1]'])
    ewma[i] = np.sqrt(ewma[i-1]**2 * theta + (1-theta) * data['Excess Returns'].loc[ind]**2)

vol = pd.concat([vol, garch, ewma], axis=1)
vol.dropna()


VaR = -1.65*vol

VaR.plot(title = 'VaR Estimates', ylabel = '5% VaR', xlabel = 'Date')


var_temp = VaR.dropna()
frequency = VaR_temp.apply(lambda x: data['Excess Returns'][var_temp.index] < x).mean(numeric_only=True).to_frame('frequency')
frequency.style.format('{:,.2%}')









