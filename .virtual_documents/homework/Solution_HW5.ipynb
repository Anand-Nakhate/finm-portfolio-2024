import pandas as pd
import numpy as np
from tabulate import tabulate
import seaborn as sns
import matplotlib.pyplot as plt
import statsmodels.api as sm


df_desc = pd.read_excel('../data/factor_pricing_data.xlsx', sheet_name='descriptions')
df_factors = pd.read_excel('../data/factor_pricing_data.xlsx', sheet_name='factors (excess returns)').set_index('Date')
df_portfolios = pd.read_excel('../data/factor_pricing_data.xlsx', sheet_name='portfolios (excess returns)').set_index('Date')
df_rfr = pd.read_excel('../data/factor_pricing_data.xlsx', sheet_name='risk-free rate').set_index('Date')


df_factors.head()


df_portfolios.head()


df_rfr.head()


# 2.1
def calculate_univariate_performance_statistics(df, annualization_factor=1, quantile=0.05, periods=None):
    if periods is None:
        periods = [(df.index.min(), df.index.max())]
    
    summary_list = []

    for period in periods:
        start_date, end_date = period
        period_df = df.loc[start_date:end_date]
        
        summary_df = pd.DataFrame(index=period_df.columns)
        summary_df['Mean'] = period_df.mean() * annualization_factor
        summary_df['Volatility'] = period_df.std() * (annualization_factor ** 0.5)
        summary_df['Sharpe_ratio'] = summary_df['Mean'] / summary_df['Volatility']
        summary_df[f'VaR({quantile})'] = period_df.quantile(quantile, axis=0)
        
        start_year = pd.to_datetime(start_date).year
        end_year = pd.to_datetime(end_date).year
        summary_df['Period'] = f"{start_year}-{end_year}"
        
        summary_df = summary_df.reset_index().rename(columns={'index': 'Factor'}).set_index(['Period', 'Factor'])
        summary_list.append(summary_df)
    
    summary = pd.concat(summary_list)
    return summary

summary_statistics = calculate_univariate_performance_statistics(df_factors, 12)
# print(tabulate(summary_statistics, headers=summary_statistics.columns, tablefmt="heavy_grid"))
summary_statistics


periods = [(df_factors.index.min(), df_factors.index.max()),  (df_factors.index.min(), '2015-01-01'), ('2015-01-01', df_factors.index.max())]
summary_statistics = calculate_univariate_performance_statistics(df_factors, 12, periods=periods)
summary_statistics





# 2.3
def plot_correlation_matrix(df, title=None, max_min=False):
    fig, ax = plt.subplots(figsize=(8, 5))
    correlation_matrix = df.corr()
    sns.heatmap(correlation_matrix, 
                xticklabels=correlation_matrix.columns,
                yticklabels=correlation_matrix.columns, annot=True, ax=ax)
    if title:
        ax.set_title(title, fontsize=16)

    if max_min:
        corrs = correlation_matrix.unstack().sort_values().to_frame('Corr')
        corrs = corrs[corrs['Corr'] != 1]
        corrs_max = corrs.index[-1]
        corrs_min = corrs.index[0]
        print(f'Max Correlation pair is {corrs_max}')
        print(f'Min Correlation pair is {corrs_min}')

plot_correlation_matrix(df_factors, title="Correlation Matrix for Full Period")
plot_correlation_matrix(df_factors.loc[:'2015-01-01'], title="Correlation Matrix Till 2015")
plot_correlation_matrix(df_factors.loc['2015-01-01':], title="Correlation Matrix From 2015")





# 2.4
def calculate_tangency_weights(df_excess_returns, annualization_factor=12):
    mu = df_excess_returns.mean() * annualization_factor
    cov_matrix = df_excess_returns.cov() * annualization_factor
    inv_cov_matrix = np.linalg.inv(cov_matrix)
    ones = np.ones(len(mu))
    scaling_factor = 1 / (ones.T @ inv_cov_matrix @ mu)
    tangency_weights = scaling_factor * (inv_cov_matrix @ mu)
    tangency_df = pd.DataFrame({
        'Asset': df_excess_returns.columns,
        'Weights': tangency_weights
    })
    net_benchmark = df_excess_returns @ tangency_weights
    net_benchmark_df = pd.DataFrame(index = df_excess_returns.index)
    net_benchmark_df['Tangency'] = net_benchmark
    return tangency_df, net_benchmark_df

tangency_weights, tangency_returns = calculate_tangency_weights(df_factors, annualization_factor=12)
tangency_weights





calculate_univariate_performance_statistics(tangency_returns, 12)


tangency_weights, tangency_returns = calculate_tangency_weights(df_factors[["MKT", "SMB", "HML", "UMD"]], annualization_factor=12)
tangency_weights


calculate_univariate_performance_statistics(tangency_returns, 12)





# 3.1
import statsmodels.api as sm
import pandas as pd
import numpy as np

def factor_analysis(df_portfolios, df_market, annualization=1):
    alphas, treynor_ratios, information_ratios, r_squared, maes = [], [], [], [], []
    betas_dict = {factor: [] for factor in df_market.columns} 

    for col in df_portfolios.columns:
        y = df_portfolios[col]
        X = sm.add_constant(df_market)
        model = sm.OLS(y, X, missing='drop').fit()
        
        alpha = model.params['const'] * annualization
        
        for factor in df_market.columns:
            betas_dict[factor].append(model.params.get(factor, np.nan))
        
        mean_excess_return = y.mean()
        primary_beta = model.params[df_market.columns[0]]
        treynor_ratio = mean_excess_return * annualization / primary_beta if primary_beta != 0 else np.nan

        expected_return = alpha + sum(model.params[factor] * df_market[factor].mean() for factor in df_market.columns)
        residual_std_dev = model.resid.std()
        mae = model.resid.abs().mean()
        
        information_ratio = model.params['const'] * (annualization)**0.5 / residual_std_dev if residual_std_dev != 0 else np.nan

        alphas.append(alpha)
        treynor_ratios.append(treynor_ratio)
        information_ratios.append(information_ratio)
        r_squared.append(model.rsquared)
        maes.append(mae)

    results_df = pd.DataFrame({
        'Alpha': alphas,
        'Treynor Ratio': treynor_ratios,
        'Information Ratio': information_ratios,
        'R-Squared': r_squared,
        'MAE': mae
    }, index=df_portfolios.columns)

    for factor, beta_values in betas_dict.items():
        results_df[f'Beta_{factor}'] = beta_values
    
    return results_df


# 3.1.1
results_aqr = factor_analysis(df_portfolios, df_factors[["MKT", "HML", "RMW", "UMD"]], annualization=12)
results_aqr[['Alpha', 'R-Squared']]


# 3.1.2
mae_aqr = np.mean(np.abs(results_aqr['Alpha']))
print("\nMean Absolute Error (MAE) for AQR :", mae_aqr)








# 3.2
results_capm = factor_analysis(df_portfolios, df_factors[["MKT"]], annualization=12)
results_ff3 = factor_analysis(df_portfolios, df_factors[["MKT", "SMB", "HML"]], annualization=12)
results_ff5 = factor_analysis(df_portfolios, df_factors[["MKT", "SMB", "HML", "RMW", "CMA"]], annualization=12)


# 3.2.1
mae_capm = np.mean(np.abs(results_capm['Alpha']))
print("\nMean Absolute Error (MAE) for CAPM :", mae_capm)

mae_ff3 = np.mean(np.abs(results_ff3['Alpha']))
print("\nMean Absolute Error (MAE) for FF-3 :", mae_ff3)

mae_ff5 = np.mean(np.abs(results_ff5['Alpha']))
print("\nMean Absolute Error (MAE) for FF-5 :", mae_ff5)









# 3.4
r_squared = pd.DataFrame({
    'AQR': results_aqr['R-Squared'],
    'CAPM': results_capm['R-Squared'],
    'FF-3': results_ff3['R-Squared'],
    'FF5': results_ff5['R-Squared']
}, index=results_ff5.index)
r_squared


r_squared.mean().to_frame().rename(columns={0:'R^2 Mean'})





# 3.5
cs_aqr = factor_analysis(
    df_portfolios.mean().to_frame('AQR'), 
    results_aqr[[col for col in results_aqr.columns if col.startswith('Beta_')]],
    12
)
cs_capm = factor_analysis(
    df_portfolios.mean().to_frame('CAPM'), 
    results_capm[[col for col in results_capm.columns if col.startswith('Beta_')]],
    12
)
cs_ff3 = factor_analysis(
    df_portfolios.mean().to_frame('FF3'), 
    results_ff3[[col for col in results_ff3.columns if col.startswith('Beta_')]],
    12
)
cs_ff5 = factor_analysis(
    df_portfolios.mean().to_frame('FF5'), 
    results_ff5[[col for col in results_ff5.columns if col.startswith('Beta_')]],
    12
)


df_factors.mean().to_frame().rename(columns={0: 'TS Risk Premia'})*12


results_cs[[col for col in results_cs.columns if col.startswith('Beta_')]]*12





results_cs = pd.concat([cs_aqr, cs_capm, cs_ff3, cs_ff5])
results_cs[['MAE']].rename(columns = {'MAE':'MAE CS'})*12


pd.DataFrame({'MAE TS':[mae_aqr,mae_capm, mae_ff3, mae_ff5]}, index=results_cs.index)









