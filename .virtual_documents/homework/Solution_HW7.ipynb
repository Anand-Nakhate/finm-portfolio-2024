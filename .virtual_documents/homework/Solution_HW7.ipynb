import pandas as pd
import numpy as np
from tabulate import tabulate
import seaborn as sns
import matplotlib.pyplot as plt
import statsmodels.api as sm

import warnings
warnings.filterwarnings('ignore')














df_info = pd.read_excel('../data/gmo_data.xlsx', sheet_name='info')
df_signals = pd.read_excel('../data/gmo_data.xlsx', sheet_name='signals').set_index('date')
df_rfr = pd.read_excel('../data/gmo_data.xlsx', sheet_name='risk-free rate').set_index('date')
df_total_returns = pd.read_excel('../data/gmo_data.xlsx', sheet_name='total returns').set_index('date')


df_signals.head()


df_rfr.head()


df_total_returns.head()


cumulative_returns = df_total_returns.apply(lambda x: (1+x).cumprod() - 1)
plt.figure(figsize=(10, 6))
sns.lineplot(data=cumulative_returns)
plt.title('Cumulative Returns Over Time')
plt.ylabel('Cumulative Returns')
plt.show()


# 2
df_excess_returns = df_total_returns.subtract(df_rfr.iloc[:, 0], axis=0)
df_excess_returns.head()


# 2.1
def calculate_return_statistics(df, annualization_factor=1, periods=None):
    if periods is None:
        periods = [(df.index.min(), df.index.max())]
    
    summary_list = []

    for period in periods:
        start_date, end_date = period
        period_df = df.loc[start_date:end_date]
        
        summary_df = pd.DataFrame(index=period_df.columns)
        summary_df['Mean'] = period_df.mean() * annualization_factor
        summary_df['Volatility'] = period_df.std() * (annualization_factor ** 0.5)
        summary_df['Sharpe Ratio'] = summary_df['Mean'] / summary_df['Volatility']
        
        start_year = pd.to_datetime(start_date).year
        end_year = pd.to_datetime(end_date).year
        summary_df['Period'] = f"{start_year}-{end_year}"
        
        summary_df = summary_df.reset_index().rename(columns={'index': 'Factor'}).set_index(['Period', 'Factor'])
        summary_list.append(summary_df)
    
    summary = pd.concat(summary_list)
    return summary

periods = [(df_excess_returns.index.min(), '2011-12-31'), 
           ('2012-01-01', df_excess_returns.index.max()), 
           (df_excess_returns.index.min(), df_excess_returns.index.max())]
return_statistics = calculate_return_statistics(df_excess_returns[["GMWAX"]], 12, periods = periods)
return_statistics





# 2.2
def calculate_max_drawdown(df):
    drawdown_df = pd.DataFrame(index=df.columns)
    cumulative_returns = (1+df).cumprod()
    rolling_max = cumulative_returns.cummax()
    curr_drawdown = (cumulative_returns - rolling_max) / rolling_max
    max_drawdown = curr_drawdown.min()
    date_max_drawdown = curr_drawdown.idxmin()
    drawdown_df['Max Drawdown'] = max_drawdown
    return drawdown_df
    
def calculate_risk_statistics(df_excess, df_total, quantile=0.05, periods=None):
    if periods is None:
        periods = [(df.index.min(), df.index.max())]
    
    summary_list = []

    for period in periods:
        start_date, end_date = period
        excess_df = df_excess.loc[start_date:end_date]
        total_df =df_total.loc[start_date:end_date]
        summary_df = pd.DataFrame(index=excess_df.columns)
        summary_df['Min'] = excess_df.min()
        summary_df[f'VaR({quantile})'] = excess_df.quantile(0.05, axis=0)
        summary_df = summary_df.join(calculate_max_drawdown(total_df))

        start_year = pd.to_datetime(start_date).year
        end_year = pd.to_datetime(end_date).year
        summary_df['Period'] = f"{start_year}-{end_year}"
        
        summary_df = summary_df.reset_index().rename(columns={'index': 'Factor'}).set_index(['Period', 'Factor'])
        summary_list.append(summary_df)
    
    summary = pd.concat(summary_list)
    return summary

tail_risk_statistics = calculate_risk_statistics(df_excess_returns[['GMWAX']], df_total_returns[['GMWAX']], quantile=0.05, periods=periods)
tail_risk_statistics








# 2.3.a
def time_series_regression(df_portfolios, df_market, annualization=1, periods=None):
    if periods is None:
        periods = [(df_portfolios.index.min(), df_portfolios.index.max())]
    
    summary_list = []

    for period in periods:
        start_date, end_date = period
        portfolio_df = df_portfolios.loc[start_date:end_date]
        market_df = df_market.loc[start_date:end_date]
        alphas, treynor_ratios, information_ratios, r_squared = [], [], [], []
        betas_dict = {factor: [] for factor in market_df.columns} 
    
        for col in portfolio_df.columns:
            y = portfolio_df[col]
            X = sm.add_constant(market_df)
            model = sm.OLS(y, X, missing='drop').fit()
            
            alpha = model.params['const'] * annualization
            
            for factor in market_df.columns:
                betas_dict[factor].append(model.params.get(factor, np.nan))
            
            mean_excess_return = y.mean()
            primary_beta = model.params[df_market.columns[0]]
            treynor_ratio = mean_excess_return * annualization / primary_beta if primary_beta != 0 else np.nan
    
            expected_return = alpha + sum(model.params[factor] * market_df[factor].mean() for factor in market_df.columns)
            residual_std_dev = model.resid.std()
            
            information_ratio = model.params['const'] * (annualization)**0.5 / residual_std_dev if residual_std_dev != 0 else np.nan
    
            alphas.append(alpha)
            treynor_ratios.append(treynor_ratio)
            information_ratios.append(information_ratio)
            r_squared.append(model.rsquared)
    
        results_df = pd.DataFrame({
            'Alpha': alphas,
            'Treynor Ratio': treynor_ratios,
            'Information Ratio': information_ratios,
            'R-Squared': r_squared
        }, index=df_portfolios.columns)
    
        for factor, beta_values in betas_dict.items():
            results_df[f'Beta_{factor}'] = beta_values
        
        summary_list.append(results_df) 
    summary = pd.concat(summary_list)
    return summary

results_df = time_series_regression(df_excess_returns[['GMWAX']], 
                                    df_excess_returns[['SPY']], 
                                    annualization=12,
                                   periods=periods)
results_df








# 2.4

return_statistics = calculate_return_statistics(
    df_excess_returns[["GMGEX"]], 
    annualization_factor=12, 
    periods=periods
)
return_statistics


tail_risk_statistics = calculate_risk_statistics(
    df_excess_returns[['GMGEX']], 
    df_total_returns[['GMGEX']], 
    quantile=0.05, 
    periods=periods
)
tail_risk_statistics


results_df = time_series_regression(df_excess_returns[['GMGEX']], 
                                    df_excess_returns[['SPY']], 
                                    annualization=12,
                                   periods=periods)
results_df





# 3.1

results_df = time_series_regression(df_excess_returns[['SPY']].shift(-1).dropna(), 
                                    df_signals[['SPX DVD YLD']], 
                                    annualization=12,
                                   periods=None)
results_df[['R-Squared']]


results_df = time_series_regression(df_excess_returns[['SPY']].shift(-1).dropna(), 
                                    df_signals[['SPX P/E']], 
                                    annualization=12,
                                   periods=None)
results_df[['R-Squared']]


results_df = time_series_regression(df_excess_returns[['SPY']].shift(-1).dropna(), 
                                    df_signals, 
                                    annualization=12,
                                   periods=None)
results_df[['R-Squared']]


models = {
    'Dividend Price': df_signals[['SPX DVD YLD']],
    'Earnings Price': df_signals[['SPX P/E']],
    'D-P;P-E;10Y': df_signals[['SPX DVD YLD', 'SPX P/E', 'TNote 10YR']]
}

y = df_excess_returns[['SPY']]


def build_forecasted_returns(y, X, model_params):
    alpha = model_params['Alpha']
    betas = model_params['Betas']
    X_current = X.loc[y.index]  

    r_hat_t_plus1 = alpha + X_current @ betas
    return r_hat_t_plus1


def calculate_strategy_returns(y, forecasted_returns, scaling_factor=1):
    weights = scaling_factor * forecasted_returns
    r_SPY_t_plus1 = y.shift(-1).loc[weights.index]
    strat_data = pd.concat([weights, r_SPY_t_plus1], axis=1).dropna()
    w_t = strat_data.iloc[:, 0]
    r_SPY_t_plus1 = strat_data['SPY']
    strat_returns = w_t * r_SPY_t_plus1
    return strat_returns


def compute_performance_statistics(strat_returns, market_returns):
    strat_returns_df = pd.DataFrame(strat_returns, columns=['Strategy Return'])
    
    return_stats = calculate_return_statistics(strat_returns_df, annualization_factor=12)
    max_dd = calculate_max_drawdown(strat_returns.to_frame())

    market_returns_aligned = market_returns.loc[strat_returns.index]
    regression_results = time_series_regression(strat_returns_df, market_returns_aligned, annualization=12)

    mean_return = return_stats.iloc[0]['Mean']
    volatility = return_stats.iloc[0]['Volatility']
    sharpe_ratio = return_stats.iloc[0]['Sharpe Ratio']
    max_drawdown = max_dd.iloc[0]['Max Drawdown']
    market_alpha = regression_results.iloc[0]['Alpha']
    market_beta = regression_results.iloc[0][[col for col in regression_results.columns if 'Beta' in col][0]]
    information_ratio = regression_results.iloc[0]['Information Ratio']
    stats = {
        'Mean Return': mean_return,
        'Volatility': volatility,
        'Sharpe Ratio': sharpe_ratio,
        'Max Drawdown': max_drawdown,
        'Market Alpha': market_alpha,
        'Market Beta': market_beta,
        'Information Ratio': information_ratio
    }
    return stats


r_squared = {}
model_params = {}
forecasted_returns = {}
strategy_returns = {}
strategy_performance = {}

for model_name, X_vars in models.items():
    X_shifted = X_vars.shift(1)
    data = pd.concat([y, X_shifted], axis=1).dropna()
    y_aligned = data[['SPY']]
    X_aligned = data[X_vars.columns]
    
    results_df = time_series_regression(y_aligned, X_aligned, annualization=12, periods=None)

    r_squared[model_name] = results_df.loc['SPY', 'R-Squared']
    alpha = results_df.loc['SPY', 'Alpha']
    betas = results_df.loc['SPY', [col for col in results_df.columns if col.startswith('Beta_')]]
    betas.index = [col.replace('Beta_', '') for col in betas.index]
    model_params[model_name] = {'Alpha': alpha, 'Betas': betas}
    
    print(f"Regression Results for {model_name}:")
    display(results_df[['Alpha', 'R-Squared'] + [col for col in results_df.columns if col.startswith('Beta_')]])
    
    r_hat_t_plus1 = build_forecasted_returns(y_aligned, X_vars, model_params[model_name])
    forecasted_returns[model_name] = r_hat_t_plus1
    
    strat_returns = calculate_strategy_returns(y_aligned, r_hat_t_plus1)
    strategy_returns[model_name] = strat_returns
    
    stats = compute_performance_statistics(strat_returns, y)
    strategy_performance[model_name] = stats

r_squared_df = pd.DataFrame.from_dict(r_squared, orient='index', columns=['R-Squared'])
print("R-squared for each model:")
display(r_squared_df)

strategy_stats_df = pd.DataFrame(strategy_performance).T
print("Trading Strategy Performance:")
display(strategy_stats_df)






VaR_returns = pd.concat([df_excess_returns] + [returns for _, returns in strategy_returns.items()],axis=1).dropna().rename(columns={0: "Dividend-Price", 1:"Earnings-Price", 2:"Full Model"})
VaR_returns.quantile(0.05, axis=0).to_frame()











forecast_returns = []
naive_forecast_errors = []
forecast_errors = []
for i in range(59, (len(df_excess_returns) - 2)):
    train_x = df_signals[['SPX DVD YLD', 'SPX P/E']].iloc[:i]
    train_x['constant'] = 1
    train_y = df_excess_returns['SPY'].shift(-1).dropna()[:i]

    model = sm.OLS(train_y, train_x).fit()

    test_x =df_signals[['SPX DVD YLD', 'SPX P/E']].iloc[[i+1]]
    test_x['const'] = 1
    predicted_y = model.predict(test_x)
    forecast_returns.append(predicted_y) 

    actual_y = df_excess_returns['SPY'].shift(-1).dropna().iloc[i+1]
    tmp_error = actual_y - predicted_y
    forecast_errors.append(tmp_error) 
    naive_prediction = train_y.mean()
    naive_prediction_error = actual_y - naive_prediction    
    naive_forecast_errors.append(naive_prediction_error) 

forecast_errors_series = pd.concat(forecast_errors)
naive_forecast_errors_series = pd.Series(naive_forecast_errors, index = forecast_errors_series.index)
oos_rsq = 1 - ((forecast_errors_series ** 2).sum()) / ((naive_forecast_errors_series ** 2).sum())
print(f'Out-of-sample R-squared:', round(oos_rsq, 4))

df = pd.DataFrame({ 'Forecast Errors': forecast_errors_series, 'Naive Forecast Errors': naive_forecast_errors_series})
plt.figure(figsize=(8, 5)); sns.lineplot(data=df); plt.title('OOS R-squared Decomposition')
plt.legend(labels=["Forecast Errors", "Naive Forecast Errors"]); plt.show()


forecast_returns_df = pd.concat(forecast_returns)
forecast_returns_comp = pd.concat([forecast_returns_df,  df_excess_returns['SPY'].shift(-1).dropna()], axis = 1).dropna()

print("The predicted returns do not match actual return volatility because the signals are highly autocorrelated and slow-moving.\n"
      "Forecast errors (see above graph) are essentially SPX - 0.")
plt.figure(figsize=(8, 5)); sns.lineplot(data=forecast_returns_comp); plt.title('Predicted vs. Actual SPX Returns')
plt.legend(labels=["Predicted", "Actual"]); plt.show()






