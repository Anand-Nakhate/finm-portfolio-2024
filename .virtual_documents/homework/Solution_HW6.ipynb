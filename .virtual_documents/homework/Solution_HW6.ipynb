import pandas as pd
import numpy as np
from tabulate import tabulate
import seaborn as sns
import matplotlib.pyplot as plt
import statsmodels.api as sm


df_desc = pd.read_excel('../data/momentum_data.xlsx', sheet_name='descriptions')
df_factors = pd.read_excel('../data/momentum_data.xlsx', sheet_name='factors (excess returns)').set_index('Date')
df_momentum = pd.read_excel('../data/momentum_data.xlsx', sheet_name='momentum (excess returns)').set_index('Date')
df_deciles = pd.read_excel('../data/momentum_data.xlsx', sheet_name='deciles (total returns)').set_index('Date')
df_size_sorts = pd.read_excel('../data/momentum_data.xlsx', sheet_name='size_sorts (total returns)').set_index('Date')
df_rfr = pd.read_excel('../data/momentum_data.xlsx', sheet_name='risk-free rate').set_index('Date')


# 2
df_factors['UMD'] = df_momentum
df_factors.tail()


df_momentum.tail()


df_deciles.head()


df_size_sorts.head()


df_rfr.head()


# 2.1
def calculate_univariate_performance_statistics(df, annualization_factor=1, quantile=0.05, periods=None):
    if periods is None:
        periods = [(df.index.min(), df.index.max())]
    
    summary_list = []

    for period in periods:
        start_date, end_date = period
        period_df = df.loc[start_date:end_date]
        
        summary_df = pd.DataFrame(index=period_df.columns)
        summary_df['mean'] = period_df.mean() * annualization_factor
        summary_df['vol'] = period_df.std() * (annualization_factor ** 0.5)
        summary_df['sharpe'] = summary_df['mean'] / summary_df['vol']
        summary_df['sharpe'] = summary_df['mean'] / summary_df['vol']
        summary_df['skewness'] =  period_df.skew()
        summary_df['corr to market'] =  df_factors.loc[start_date:end_date:].corr().loc['MKT',['UMD']]
        summary_df['corr to val'] =  df_factors.loc[start_date:end_date:].corr().loc['HML',['UMD']]
        start_year = pd.to_datetime(start_date).year
        end_year = pd.to_datetime(end_date).year
        summary_df['Period'] = f"{start_year}-{end_year}"
        summary_df = summary_df.reset_index().rename(columns={'index': 'Factor'}).set_index(['Period', 'Factor'])
        summary_list.append(summary_df)
    
    summary = pd.concat(summary_list)
    return summary

periods = [(df_momentum.index.min(), df_momentum.index.max()), ('1927-01-01', '1993-12-31'), ('1994-01-01', '2008-12-31'), ('2009-01-01', df_momentum.index.max())]
summary_statistics = calculate_univariate_performance_statistics(df_momentum, 12, periods=periods)
summary_statistics








# 2.2
df_mom = pd.DataFrame(index=df_momentum.index)
df_mom['long-only'] = (df_size_sorts['BIG HiPRIOR'] + df_size_sorts['SMALL HiPRIOR'])/2 - df_rfr['RF']
df_mom['long-and-short'] = df_momentum
df_factors_copy = df_factors.copy().rename(columns={'UMD':'long_and_short'})
df_factors_copy['long_only'] = (df_size_sorts['BIG HiPRIOR'] + df_size_sorts['SMALL HiPRIOR'])/2 - df_rfr['RF']
periods = [(df_momentum.index.min(), df_momentum.index.max())]
summary_statistics = calculate_univariate_performance_statistics(df_mom, 12, periods=periods)
summary_statistics['corr to market'] = [df_factors_copy.corr()['MKT']['long_only'], df_factors_copy.corr()['MKT']['long_and_short']]
summary_statistics['corr to val'] = [df_factors_copy.corr()['HML']['long_only'], df_factors_copy.corr()['HML']['long_and_short']]
summary_statistics








# 2.2.d
(1+df_factors_copy[['long_and_short', 'long_only']].loc['1994-01-01':]).cumprod().plot()


# 2.3.a
df_mom_decile = pd.DataFrame(index = df_momentum.index)
df_mom_decile['momD1'] = df_deciles['Hi PRIOR'] - df_deciles['Lo PRIOR']
df_mom_decile['momD3'] = df_deciles.iloc[:,-3:].mean(axis = 1) - df_deciles.iloc[:,:3].mean(axis = 1)
df_mom_decile['momD5'] = df_deciles.iloc[:,-5:].mean(axis = 1) - df_deciles.iloc[:,:5].mean(axis = 1)
summary_statistics = calculate_univariate_performance_statistics(df_mom_decile, 12, periods=periods)
df_factors_copy = df_factors.copy()
df_factors_copy['momD1'] = df_mom_decile['momD1']
df_factors_copy['momD3'] = df_mom_decile['momD3']
df_factors_copy['momD5'] = df_mom_decile['momD5']
summary_statistics['corr to market'] = [df_factors_copy.corr()['MKT']['momD1'], df_factors_copy.corr()['MKT']['momD3'], df_factors_copy.corr()['MKT']['momD5']]
summary_statistics['corr to val'] = [df_factors_copy.corr()['HML']['momD1'], df_factors_copy.corr()['HML']['momD3'], df_factors_copy.corr()['HML']['momD5']]
summary_statistics











# 2.4.a
df_mom_size = pd.DataFrame(index = df_momentum.index)
df_mom_size['Small Stocks'] = df_size_sorts['SMALL HiPRIOR'] - df_size_sorts['SMALL LoPRIOR']
df_mom_size['Big Stocks'] = df_size_sorts['BIG HiPRIOR'] - df_size_sorts['BIG LoPRIOR']
df_mom_size['All Stocks'] = df_momentum['UMD']
summary_statistics = calculate_univariate_performance_statistics(df_mom_size, 12, periods=periods)
df_factors_copy = df_factors.copy()
df_factors_copy['Small Stocks'] = df_mom_size['Small Stocks']
df_factors_copy['Big Stocks'] = df_mom_size['Big Stocks']
df_factors_copy['All Stocks'] = df_mom_size['All Stocks']
summary_statistics['corr to market'] = [df_factors_copy.corr()['MKT']['Small Stocks'], df_factors_copy.corr()['MKT']['Big Stocks'], df_factors_copy.corr()['MKT']['All Stocks']]
summary_statistics['corr to val'] = [df_factors_copy.corr()['HML']['Small Stocks'], df_factors_copy.corr()['HML']['Big Stocks'], df_factors_copy.corr()['HML']['All Stocks']]
summary_statistics








# 4
df_desc = pd.read_excel('../data/barnstable_analysis_data.xlsx', sheet_name='descriptions')
df_data = pd.read_excel('../data/barnstable_analysis_data.xlsx', sheet_name='data').set_index('date')
df_data.head()


# 4.1.a
def calculate_univariate_performance_statistics(df, annualization_factor=1, periods=None):
    if periods is None:
        periods = [(df.index.min(), df.index.max())]
    
    summary_list = []

    for period in periods:
        start_date, end_date = period
        period_df = df.loc[start_date:end_date]
        
        log_returns = np.log1p(period_df)
        
        rm = period_df['SPX']
        rf = period_df['TB1M']
        rm_rf = rm - rf
        
        log_rm = log_returns['SPX']
        log_rf = log_returns['TB1M']
        log_rm_rf = log_rm - log_rf
        
        summary_df = pd.DataFrame({
            'mean': [rm.mean() * annualization_factor, 
                     rm_rf.mean() * annualization_factor, 
                     rf.mean() * annualization_factor,
                     log_rm.mean() * annualization_factor,
                     log_rm_rf.mean() * annualization_factor,
                     log_rf.mean() * annualization_factor],
            'vol': [rm.std() * (annualization_factor ** 0.5),
                    rm_rf.std() * (annualization_factor ** 0.5),
                    rf.std() * (annualization_factor ** 0.5),
                    log_rm.std() * (annualization_factor ** 0.5),
                    log_rm_rf.std() * (annualization_factor ** 0.5),
                    log_rf.std() * (annualization_factor ** 0.5)]
        }, index=['rm (level)', 'rm - rf (level)', 'rf (level)', 'rm (log)', 'rm - rf (log)', 'rf (log)'])
        
        start_year = pd.to_datetime(start_date).year
        end_year = pd.to_datetime(end_date).year
        summary_df['Period'] = f"{start_year}-{end_year}"
        
        summary_df = summary_df.reset_index().rename(columns={'index': 'Factor'}).set_index(['Period', 'Factor'])
        summary_list.append(summary_df)
    
    summary = pd.concat(summary_list)
    return summary

periods = [('1965','1999'), ('2000', '2024'), ('1926','2024')]
summary_statistics = calculate_univariate_performance_statistics(df_data, annualization_factor=12, periods=periods)
summary_statistics






# 4.2
from scipy.stats import norm

def prob(mu, sigma, h):
    return norm.cdf(np.sqrt(h) * mu / sigma)

mu = summary_statistics.loc[('1965-1999', 'rm - rf (log)'), 'mean']  
sigma = summary_statistics.loc[('1965-1999', 'rm - rf (log)'), 'vol']

print(f'SPX underperforming RF in the next 15 years after 1999: {prob(mu=-mu, sigma=sigma, h=15):.2%}')
print(f'SPX underperforming RF in the next 30 years after 1999: {prob(mu=-mu, sigma=sigma, h=30):.2%}')

h = np.arange(1, 31)
probs = pd.DataFrame([prob(-mu, sigma, x) for x in h], columns=['Probability of Underperformance'], index=h)

probs.plot(title="Probability of SPX Underperforming RF Over Different Horizons (1965-1999)", ylabel="Probability")
plt.xlabel("Investment Horizon (Years)")
plt.show()


# 4.3
periods = [('1965', '2024')]
summary_statistics1 = calculate_univariate_performance_statistics(df_data, annualization_factor=12, periods=periods)
mu_1965_2024 = summary_statistics1.loc[('1965-2024', 'rm - rf (log)'), 'mean']  
sigma_1965_2024 = summary_statistics1.loc[('1965-2024', 'rm - rf (log)'), 'vol']

print(f'SPX underperforming RF in the next 30 years after 2024: {prob(mu=-mu_1965_2024, sigma=sigma_1965_2024, h=30):.2%}')
h = np.arange(1, 31)
probs = pd.DataFrame([prob(-mu_1965_2024, sigma_1965_2024, x) for x in h], columns=['Probability of Underperformance'], index=h)

probs.plot(title="Probability of SPX Underperforming RF Over Different Horizons (1965-2024)", ylabel="Probability")
plt.xlabel("Investment Horizon (Years)")
plt.show()


# 4.4

realized_mean_2000_2024 = summary_statistics.loc[('2000-2024', 'rm (log)'), 'mean']

mu_1965_1999 = summary_statistics.loc[('1965-1999', 'rm (log)'), 'mean']
sigma_1965_1999 = summary_statistics.loc[('1965-1999', 'rm (log)'), 'vol']

horizon = 25
z_score = (realized_mean_2000_2024 - mu_1965_1999) * np.sqrt(horizon) / sigma_1965_1999
probability = norm.cdf(z_score)

print(f"Probability that the 25-year market return (2000-2024) would be smaller than the realized return: {probability:.2%}")

