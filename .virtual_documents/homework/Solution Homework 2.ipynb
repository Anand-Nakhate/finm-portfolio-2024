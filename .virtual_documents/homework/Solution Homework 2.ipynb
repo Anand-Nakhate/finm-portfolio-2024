





























import pandas as pd
import numpy as np
import matplotlib.pyplot as plt
import seaborn as sns
import statsmodels.api as sm
import hw2_helper as hwh

hf_series = pd.read_excel('proshares_analysis_data.xlsx',sheet_name='hedge_fund_series',index_col=0)
merrill_factors = pd.read_excel('proshares_analysis_data.xlsx',sheet_name='merrill_factors',index_col=0)
other_data = pd.read_excel('proshares_analysis_data.xlsx',sheet_name='other_data',index_col=0)


hwh.stats(hf_series)





hwh.stats_tail_risk(hf_series)


(hf_series + 1).cumprod().plot(figsize=(15, 7), title='Hedge Fund Series Gross Returns'); plt.show()





x = sm.add_constant(merrill_factors['SPY US Equity'])

regression_stats = pd.DataFrame(index = ['$B^{SPY}$','Treynor','IR'],columns = hf_series.columns)

for hf in hf_series.columns:
    
    y = hf_series[hf]
    
    model = sm.OLS(y,x).fit()
    
    beta = model.params.iloc[1]
    treynor = 12 * y.mean() / beta
    ir = np.sqrt(12) * model.params.iloc[0] / model.resid.std()
    
    regression_stats[hf] = pd.Series([beta,treynor,ir],index = ['$B^{SPY}$','Treynor','IR'])

regression_stats.round(3)











corr = hf_series.assign(SPY = merrill_factors['SPY US Equity']).corr()
np.fill_diagonal(corr.values,np.nan)
plt.figure(figsize=(15, 10)); sns.heatmap(corr, annot=True); plt.show()





maxpair = corr.stack().idxmax()
maxvalue = corr.stack().max()
minpair = corr.stack().idxmin()
minvalue = corr.stack().min()

print(f'The maximum correlation is between {maxpair[0]} and {maxpair[1]}: {round(maxvalue,4)}.')
print(f'The minimum correlation is between {minpair[0]} and {minpair[1]}: {round(minvalue,4)}.')








y = hf_series[['HFRIFWI Index']]
x = sm.add_constant(merrill_factors)

replication_model = sm.OLS(y,x).fit()

replication_stats = hwh.stats_OLS(replication_model,y,x).round(3)
replication_stats








print(f'R-Squared: {round(replication_model.rsquared,2)}')





print(f'The volatility of the tracking error is {round(replication_model.resid.std()*np.sqrt(12),4)}')





t = 60
n = len(hf_series['HFRIFWI Index'])

data = hf_series[['HFRIFWI Index']].copy()
data['Replication'] = np.nan

for i in range(t, n):
    
    y = hf_series['HFRIFWI Index'].iloc[i - 60:i]
    x = sm.add_constant(merrill_factors).iloc[i - 60:i]
    
    m = sm.OLS(y,x).fit()
    
    oos_val = sm.add_constant(merrill_factors).iloc[i].to_numpy().reshape((7))

    rep_val = m.predict(oos_val)
    
    data['Replication'].iloc[i] = rep_val


ax = data.dropna().plot(figsize=(15, 7)); (1 + data.dropna()).cumprod().plot(figsize=(15, 7)); plt.show()


# We can simplify by doing the following:

x = sm.add_constant(merrill_factors)
y = hf_series['HFRIFWI Index']

from statsmodels.regression.rolling import RollingOLS
rolling = RollingOLS(y,x,window=60).fit()
rolling_betas = rolling.params
replication_rolling = (rolling_betas.shift() * x).dropna().sum(axis=1)


oos_loss = (data.dropna().diff(axis=1)**2)['Replication'].sum()
oos_mean = data.dropna()['HFRIFWI Index'].mean()
oos_loss_null = ((data.dropna()['HFRIFWI Index'] - oos_mean)**2).sum()

oos_r2 = 1 - oos_loss / oos_loss_null

print(f'The OOS R-Squared of the replication is {round(oos_r2,4)}')


data.corr().round(3)











y = hf_series[['HFRIFWI Index']]
x = merrill_factors

replication_model_no_int = sm.OLS(y,x).fit()

# No-intercept model
hwh.stats_OLS(replication_model_no_int,y,x).round(2)








# No-intercept model mean
round(replication_model_no_int.predict(x).mean(),4)


# Intercept model mean (should be equal to the mean of the regressand)
round(replication_model.predict(sm.add_constant(x)).mean(),4)


# Double check
y.mean().round(4)








print('Correlation of no intercept model to HFRIFWI: ', np.corrcoef(y['HFRIFWI Index'], replication_model_no_int.predict(x))[0][1])
print('Correlation of intercept model to HFRIFWI: ', np.corrcoef(y['HFRIFWI Index'], replication_model.predict(sm.add_constant(x)))[0][1])

















from sklearn.linear_model import LinearRegression

# Model Creation
y = hf_series['HFRIFWI Index']
x = merrill_factors

model_nnls = LinearRegression(fit_intercept=True, positive = True).fit(x,y)

# Display Parameters
nnls_stats = pd.DataFrame(data = model_nnls.intercept_,index = ['const'],columns=['HFRIFWI'])
nnls_stats = pd.concat([nnls_stats, pd.DataFrame(data=model_nnls.coef_,index=x.columns,columns=['HFRIFWI'])])
nnls_stats.round(4)


pd.Series(index=x.index, data=model_nnls.predict(x)).plot(figsize=(15, 7), label='NNLS Replication', legend=True); y.plot(legend=True)





y = other_data[['HEFA US Equity']]
x = merrill_factors

hefa_ols_model = sm.OLS(y, sm.add_constant(x), missing='drop').fit()

print(f'R-Squared: {hefa_ols_model.rsquared: .4f}')

# No-intercept model
hwh.stats_OLS(hefa_ols_model,y,x).round(5)





y = other_data[['TRVCI Index']]
x = merrill_factors

trvci_ols_model = sm.OLS(y, sm.add_constant(x), missing='drop').fit()

print(f'R-Squared: {trvci_ols_model.rsquared: .4f}')

# No-intercept model
hwh.stats_OLS(trvci_ols_model, y, sm.add_constant(x)).round(5)





spy_and_tail = pd.concat([other_data[['TAIL US Equity']], merrill_factors['SPY US Equity']], axis=1).dropna()

hwh.stats(spy_and_tail)


hwh.stats_tail_risk(spy_and_tail)


y = other_data[['TAIL US Equity']]
x = merrill_factors

tail_ols_model = sm.OLS(y, x, missing='drop').fit()

print(f'R-Squared: {tail_ols_model.rsquared: .4f}')

# No-intercept model
hwh.stats_OLS(tail_ols_model, y, x).round(5)


spy_and_tail.corr()














spy_and_levered = pd.concat([merrill_factors[['SPY US Equity']], other_data[['UPRO US Equity', 'SPXU US Equity']]], axis=1)

hwh.stats(spy_and_levered)


y = other_data[['UPRO US Equity']]
x = merrill_factors[['SPY US Equity']]

upro_ols_model = sm.OLS(y, x, missing='drop').fit()

print(f'R-Squared: {upro_ols_model.rsquared: .4f}')

# No-intercept model
hwh.stats_OLS(upro_ols_model, y, x).round(5)


y = other_data[['SPXU US Equity']]
x = merrill_factors[['SPY US Equity']]

spxu_ols_model = sm.OLS(y, x, missing='drop').fit()

print(f'R-Squared: {spxu_ols_model.rsquared: .4f}')

# No-intercept model
hwh.stats_OLS(spxu_ols_model, y, x).round(5)


ax = (1 + merrill_factors[['SPY US Equity']]).cumprod().plot(figsize=(15, 7))
(1 + other_data[['UPRO US Equity']]).cumprod().plot(ax=ax)
(1 + other_data[['SPXU US Equity']]).cumprod().plot(ax=ax)






