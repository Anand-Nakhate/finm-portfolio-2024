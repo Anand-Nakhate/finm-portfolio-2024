



































# 1 Modeling Volatility and VaR
# Imports
import pandas as pd 
import numpy as np 
import matplotlib.pyplot as plt
from scipy.stats import norm


# Data
FILEPATH = '../data/spy_data.xlsx'
data = pd.read_excel(FILEPATH, sheet_name='total returns')
data['date'] = pd.to_datetime(data['date'])
data['Excess Returns'] = data['SPY'] - data['^IRX']
data.set_index('date', inplace = True)
data.head()


# 1.1 Historic VaR
VaR = pd.DataFrame()
VaR['Historic VaR'] = (data['Excess Returns'].shift().expanding().quantile(.05))
VaR.loc['2001-01-02':]['Historic VaR'].plot(title='Historic VaR', ylabel='VaR', xlabel='Date')
VaR.loc['2001-01-02':].head()


# Report
violations = (data['Excess Returns'].loc['2001-01-02':] < VaR['Historic VaR'].loc['2001-01-02':])
print(violations.head())
violation_frequency = violations.mean()
expected_frequency = 0.05
print(f"Observed frequency of violations: {violation_frequency:.4f}")
print(f"Expected frequency of violations: {expected_frequency:.4f}")





# 1.2 Volatility
# Report
expanding_series = np.sqrt((data['Excess Returns']**2).expanding().mean().shift())

rolling_window = np.sqrt((data['Excess Returns']**2).rolling(252).mean().shift())

theta = 0.94 
ewma = np.zeros(len(data))
ewma[0] = 0.20 / np.sqrt(252)
for t in range(1, len(data)):
    ewma[t] = np.sqrt(theta * ewma[t-1]**2 + (1 - theta) * data['Excess Returns'].iloc[t-1]**2)


volatility = pd.DataFrame({
    'Expanding Series': expanding_series,
    'Rolling Window': rolling_window,
    'EWMA': ewma}, index=data.index)

volatility.loc['2001-01-02':].plot(title='Volatility Estimate', ylabel='Volatility', xlabel='Date')
plt.show()
volatility.loc['2001-01-02':].head()


z_score = -1.65
VaR['Expanding Volatility VaR'] = z_score * volatility['Expanding Series']
VaR['Rolling Volatility VaR'] = z_score * volatility['Rolling Window']
VaR['EWMA Volatility VaR'] = z_score * volatility['EWMA']
VaR.loc['2001-01-02':].plot(title='Volatility-Based VaR Estimates', ylabel='VaR', xlabel='Date')
plt.show()
VaR.tail()


excess_returns = data['Excess Returns']

violations_expanding = excess_returns.loc['2001-01-02':] < VaR['Expanding Volatility VaR'].loc['2001-01-02':]
violations_rolling = excess_returns.loc['2001-01-02':] < VaR['Rolling Volatility VaR'].loc['2001-01-02':]
violations_ewma = excess_returns.loc['2001-01-02':] < VaR['EWMA Volatility VaR'].loc['2001-01-02':]

freq_expanding = violations_expanding.mean()
freq_rolling = violations_rolling.mean()
freq_ewma = violations_ewma.mean()

print(f"Observed frequency of violations Volatility (Expanding): {freq_expanding:.4f}")
print(f"Observed frequency of violations Volatility (Rolling): {freq_rolling:.4f}")
print(f"Observed frequency of violations Volatility (EWMA): {freq_ewma:.4f}")
print(f"Observed frequency of violations Excess Returns (Historic): {violation_frequency:.4f}")





CVaR = pd.DataFrame()
CVaR['Historic CVaR'] = data['Excess Returns'].expanding().apply(lambda x: x[x < x.quantile(0.05)].mean())

CVaR['Expanding Volatility CVaR'] = data['Excess Returns'].expanding().apply(lambda x: x[x < VaR['Expanding Volatility VaR'].loc[x.index[-1]]].mean())
CVaR['Rolling Volatility CVaR'] = data['Excess Returns'].rolling(252).apply(lambda x: x[x < VaR['Rolling Volatility VaR'].loc[x.index[-1]]].mean())
ewma_cvar = [np.nan]
for t in range(1, len(data)):
    below_var = data['Excess Returns'].iloc[:t][data['Excess Returns'].iloc[:t] < VaR['EWMA Volatility VaR'][t]]
    ewma_cvar.append(below_var.mean() if not below_var.empty else np.nan)
CVaR['EWMA Volatility CVaR'] = pd.Series(ewma_cvar, index=data.index)

CVaR.loc['2001-01-02':].plot(title='CVaR Estimates (q = 0.05)', ylabel='CVaR', xlabel='Date')
plt.show()
CVaR.loc['2001-01-02':].head()


# Violation frequencies for CVaR
violations_expanding_cvar = excess_returns.loc['2001-01-02':] < CVaR['Expanding Volatility CVaR'].loc['2001-01-02':]
violations_rolling_cvar = excess_returns.loc['2001-01-02':] < CVaR['Rolling Volatility CVaR'].loc['2001-01-02':]
violations_ewma_cvar = excess_returns.loc['2001-01-02':] < CVaR['EWMA Volatility CVaR'].loc['2001-01-02':]
violations_historic_cvar = excess_returns.loc['2001-01-02':] < CVaR['Historic CVaR'].loc['2001-01-02':]

# Calculate violation frequencies
freq_expanding_cvar = violations_expanding_cvar.mean()
freq_rolling_cvar = violations_rolling_cvar.mean()
freq_ewma_cvar = violations_ewma_cvar.mean()
freq_historic_cvar = violations_historic_cvar.mean()

# Print the results
print(f"Observed frequency of violations for Expanding Volatility CVaR: {freq_expanding_cvar:.4f}")
print(f"Observed frequency of violations for Rolling Volatility CVaR: {freq_rolling_cvar:.4f}")
print(f"Observed frequency of violations for EWMA Volatility CVaR: {freq_ewma_cvar:.4f}")
print(f"Observed frequency of violations for Historic CVaR: {freq_historic_cvar:.4f}")






# EXTRA: 1.4 GARCH
!pip install arch
from arch import arch_model

GARCH = arch_model(data['Excess Returns'], vol='Garch', p=1, o=0, q=1, dist='Normal')
GARCH_model = GARCH.fit()
GARCH_params = GARCH_model.params


expanding_series = np.sqrt((data['Excess Returns']**2).expanding().mean().shift())
rolling_window = np.sqrt((data['Excess Returns']**2).rolling(252).mean().shift())
ewma = np.sqrt((data['Excess Returns']**2).ewm(252).mean().shift())

vol = pd.DataFrame({'expanding_series': expanding_series, 'rolling_window': rolling_window, 'ewma': ewma})

theta = 0.97
sigma1 = 0.15

avail_dates = vol.dropna().index

garch = pd.Series(0, index=avail_dates, name='GARCH')
garch[0] = sigma1

ewma[0] = sigma1

for i, ind in enumerate(avail_dates[1:], 1):
    garch[i] = np.sqrt(GARCH_params['omega'] \
        + garch[i-1]**2 * GARCH_params['beta[1]'] \
            + data['Excess Returns'].loc[ind]**2 * GARCH_params['alpha[1]'])
    ewma[i] = np.sqrt(ewma[i-1]**2 * theta + (1-theta) * data['Excess Returns'].loc[ind]**2)

vol = pd.concat([vol, garch, ewma], axis=1)
vol.dropna()


VaR = -1.65*vol

VaR.plot(title = 'VaR Estimates', ylabel = '5% VaR', xlabel = 'Date')


VaR_temp = VaR.dropna()
frequency = VaR_temp.apply(lambda x: data['Excess Returns'][VaR_temp.index] < x).mean(numeric_only=True).to_frame('frequency')
frequency.style.format('{:,.2%}')
