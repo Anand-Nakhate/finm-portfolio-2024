








import pandas as pd
import numpy as np
import os
from arch import arch_model
import re
import sys
import matplotlib.pyplot as plt
from scipy.stats import norm
current_dir = os.getcwd()
import seaborn as sns
sns.set_style("whitegrid")
parent_dir = os.path.abspath(os.path.join(current_dir, os.pardir))
grandparent_dir = os.path.abspath(os.path.join(parent_dir, os.pardir))

PLOT_WIDTH, PLOT_HEIGHT = 8, 5
COLORS = ["blue", "red", "orange"]

sys.path.insert(0, parent_dir)
sys.path.insert(0, grandparent_dir)
import cmds.portfolio_management_helper as pmh

spy_returns = pmh.read_excel_default("data/spy_data.xlsx", sheet_name=1)
spy_returns = spy_returns
pmh.calc_cummulative_returns(spy_returns)


spy_returns.tail(5)


spy_excess_returns = (
    spy_returns
    .assign(SPY=lambda df: df["SPY"] - df["^IRX"])
    .drop("^IRX", axis=1)
)
spy_excess_returns.tail(5)








spy_excess_returns_var = spy_excess_returns.copy()
spy_excess_returns_var["SPY Shifted"] = spy_excess_returns_var["SPY"].shift(1)
spy_excess_returns_var





spy_excess_returns_var["SPY Historical VaR 5%"] = (
    spy_excess_returns_var["SPY Shifted"].expanding(min_periods=60).quantile(.05)
)
spy_excess_returns_var = spy_excess_returns_var.loc["2001-01-01":]
spy_excess_returns_var





plt.figure(figsize=(PLOT_WIDTH, PLOT_HEIGHT))
plt.axhline(y=0, linestyle='--', color='black', alpha=0.5)
plt.plot(
    spy_excess_returns_var.dropna().index,
    spy_excess_returns_var["SPY Historical VaR 5%"].dropna(),
    color=COLORS[0]
)
spy_excess_returns_surpass_var = (
    spy_excess_returns_var
    .dropna()
    .loc[lambda df: df["SPY"] < df["SPY Historical VaR 5%"]]
)
plt.plot(
    spy_excess_returns_var.dropna().index,
    spy_excess_returns_var.dropna()["SPY"],
    color=COLORS[2],
    label="SPY Returns",
    alpha=.2
)
plt.plot(
    spy_excess_returns_surpass_var.index,
    spy_excess_returns_surpass_var["SPY"],
    linestyle="",
    marker="o",
    color=COLORS[1],
    label="Returns < VaR 5%",
    markersize=1.5
)
plt.title("Historical VaR of SPY Excess Returns")
plt.xlabel("Date")
plt.ylabel("Excess Returns")
plt.legend()
plt.show()


plt.figure(figsize=(PLOT_WIDTH, PLOT_HEIGHT))
plt.axhline(y=0, linestyle='--', color='black', alpha=0.5)
plt.plot(
    spy_excess_returns_var.dropna().index,
    spy_excess_returns_var["SPY Historical VaR 5%"].dropna(),
    color=COLORS[0]
)
spy_excess_returns_surpass_var = (
    spy_excess_returns_var
    .dropna()
    .loc[lambda df: df["SPY"] < df["SPY Historical VaR 5%"]]
)
plt.plot(
    spy_excess_returns_var.dropna().index,
    spy_excess_returns_var.dropna()["SPY"],
    color=COLORS[2],
    label="SPY Returns",
    alpha=.2
)
plt.plot(
    spy_excess_returns_surpass_var.index,
    spy_excess_returns_surpass_var["SPY"],
    linestyle="",
    marker="o",
    color=COLORS[1],
    label="Returns < VaR 5%",
    markersize=1.5
)
plt.ylim(min(spy_excess_returns_var["SPY"]), .005)
plt.title("Historical VaR of SPY Excess Returns")
plt.xlabel("Date")
plt.ylabel("Excess Returns")
plt.legend()
plt.show()





spy_excess_returns_var_analysis = (
    spy_excess_returns_var
    .dropna()
    .assign(smaller=lambda df: df["SPY"] < df["SPY Historical VaR 5%"])
    .rename({"smaller": "Return < VaR 5%"}, axis=1)
)
spy_excess_returns_var_analysis


spy_excess_returns_var_count = (
    spy_excess_returns_var_analysis
    .groupby("Return < VaR 5%")
    ["Return < VaR 5%"]
    .agg(["count"])
    .assign(percentage=lambda df: df['count'] / df['count'].sum(axis=0))
    .rename(columns=lambda c: c.title())
)
spy_excess_returns_var_count





hit_ratio = spy_excess_returns_var_count.loc[True, 'Percentage']
hit_ratio_error = abs(hit_ratio / .05 - 1)
print(f"Hit Ratio: {hit_ratio:.2%}; Hit Ratio Error: {hit_ratio_error:.2%}")














def var_calculator(excess_returns, var_func, var_name, percentile, limit = True):
    excess_returns = excess_returns.copy()
    excess_returns["SPY Shifted"] = excess_returns["SPY"].shift()
    excess_returns[var_name] = var_func(excess_returns["SPY Shifted"], percentile)
    excess_returns = excess_returns.dropna(axis=0)
    excess_returns = excess_returns.loc["2001-01-01":]

    plt.figure(figsize=(PLOT_WIDTH, PLOT_HEIGHT))
    plt.axhline(y=0, linestyle='--', color='black', alpha=0.5)
    plt.plot(
        excess_returns.dropna().index,
        excess_returns[var_name].dropna(),
        color=COLORS[0],
        label=var_name
    )
    plt.plot(
        excess_returns.dropna().index,
        excess_returns["SPY"].dropna(),
        color=COLORS[2],
        label="SPY Returns",
        alpha=.2
    )
    excess_returns_surpass_var = (
        excess_returns
        .dropna()
        .loc[lambda df: df["SPY"] < df[var_name]]
    )
    plt.plot(
        excess_returns_surpass_var.index,
        excess_returns_surpass_var["SPY"],
        linestyle="",
        marker="o",
        color=COLORS[1],
        label=f"Return < {var_name}",
        markersize=1.5
    )
    if limit:
        plt.ylim(min(excess_returns["SPY"]), .01)
    hit_ratio = len(excess_returns_surpass_var.index) / len(excess_returns.index)
    hit_ratio_error = abs((hit_ratio / percentile) - 1)
    plt.title(f"{var_name} of SPY Excess Returns")
    plt.xlabel(
        f"Hit Ratio: {hit_ratio:.2%}; Hit Ratio Error: {hit_ratio_error:.2%}"
    )
    plt.ylabel("Excess Returns")
    plt.legend()
    plt.show()


def historical_rolling_var(return_series: pd.Series, percentile) -> pd.Series:
    return return_series.rolling(window=60).quantile(percentile)

var_calculator(
    spy_excess_returns, historical_rolling_var, "Historical 60 Rolling VaR 5%", .05
)


def historical_rolling_var(return_series: pd.Series, percentile) -> pd.Series:
    return return_series.rolling(window=40).quantile(percentile)

var_calculator(
    spy_excess_returns, historical_rolling_var, "Historical 40 Rolling VaR 5%", .05
)


def historical_rolling_var(return_series: pd.Series, percentile) -> pd.Series:
    return return_series.rolling(window=100).quantile(percentile)

var_calculator(
    spy_excess_returns, historical_rolling_var, "Historical 100 Rolling VaR 5%", .05
)


(
    pmh.calc_var_cvar_summary(
        spy_excess_returns,
        keep_columns=["Expanding 60 Historical VaR", "Rolling 60 Historical VaR"],
        window=60,
        shift=1,
        z_score=-1.65
    )
    .dropna()
    .plot(title="Expanding and Rolling 60 Historical VaR 5%", xlabel="Date")
)
(
    pmh.calc_var_cvar_summary(
        spy_excess_returns,
        keep_columns=["Expanding 60 Historical VaR", "Rolling 60 Historical VaR"],
        window=60,
        shift=1,
        quantile=.01,
    )
    .dropna()
    .plot(title="Expanding and Rolling 60 Historical VaR 1%", xlabel="Date")
);











def expanding_vol(return_series: pd.Series) -> pd.Series:
    return np.sqrt((return_series ** 2).expanding(252).mean())

expanding_vol(spy_excess_returns["SPY"].shift(1)).plot(title="Expanding Volatility");





def rolling_vol(return_series: pd.Series) -> pd.Series:
    return np.sqrt((return_series ** 2).rolling(252).mean())

rolling_vol(spy_excess_returns["SPY"].shift(1)).plot(title="Rolling Volatility");





def calc_ewma_volatility(excess_returns: pd.Series, theta : float = 0.94, initial_vol : float = .2 / np.sqrt(252)) -> pd.Series:
    var_t0 = initial_vol ** 2
    ewma_var = [var_t0]
    for i in range(len(excess_returns.index)):
        new_ewma_var = ewma_var[-1] * theta + (excess_returns.iloc[i] ** 2) * (1 - theta)
        ewma_var.append(new_ewma_var)
    ewma_var.pop(0) # Remove var_t0
    ewma_vol = [np.sqrt(v) for v in ewma_var]
    return pd.Series(ewma_vol, index=excess_returns.index)


calc_ewma_volatility(spy_excess_returns["SPY"].shift().dropna()).plot(title="EWMA Volatility", xlabel="Date")


(
    pd.concat([
        calc_ewma_volatility(spy_excess_returns["SPY"].shift().dropna(), theta=.20).to_frame("0.20"),
        calc_ewma_volatility(spy_excess_returns["SPY"].shift().dropna(), theta=.65).to_frame("0.65"),
        calc_ewma_volatility(spy_excess_returns["SPY"].shift().dropna(), theta=.94).to_frame("0.94"),
    ], axis=1)
    .plot(title="EWMA Volatility for Different Theta", alpha=.8)
)





THETAS = [.98, .94, .8]

(
    pd.DataFrame(index=list(range(-100, 0)))
    .assign(
        **{f"Theta {t:.2f}": (lambda t=t: lambda df: (t ** (abs(df.index)-1)) * (1 - t))() for t in THETAS},
    )
    .apply(lambda df: df / df.sum(axis=0))
    .plot(title="Theta vs. Lagged Returns Relative Importance", xlabel="Lag", ylabel="Relative Importance")
);


THETAS = [.94, .1]

(
    pd.DataFrame(index=list(range(-100, 0)))
    .assign(
        **{f"Theta {t:.2f}": (lambda t=t: lambda df: (t ** (abs(df.index)-1)) * (1 - t))() for t in THETAS},
    )
    .apply(lambda df: df / df.sum(axis=0))
    .plot(title="Theta vs. Lagged Returns Relative Importance", xlabel="Lag", ylabel="Relative Importance")
);


spy_volatility = pmh.calc_var_cvar_summary(
    spy_excess_returns,
    window=252,
    quantile=.05,
    ewma_theta=.94,
    ewma_initial_vol=.2/np.sqrt(252),
    z_score=-1.65,
    keep_columns=["Volatility"]
)
spy_volatility.plot(title="Volatility of SPY", xlabel="Date", ylabel="Volatility", alpha=.8);





spy_volatility = pmh.calc_var_cvar_summary(
    spy_excess_returns,
    window=252,
    quantile=.05,
    ewma_theta=.94,
    ewma_initial_vol=.2/np.sqrt(252),
    z_score=-1.65,
    keep_columns=["Volatility"],
    drop_columns=["GARCH"]
)
spy_volatility.plot(title="Volatility of SPY (Alternative EMWA Theta)", xlabel="Date", ylabel="Volatility", alpha=.8)


spy_parametric_var = pmh.calc_var_cvar_summary(
    spy_excess_returns,
    window=252,
    quantile=.05,
    ewma_theta=.94,
    ewma_initial_vol=.2/np.sqrt(252),
    z_score=-1.65,
    keep_columns=["Expanding 252 Parametric VaR", "Rolling 252 Parametric VaR", "EWMA 0.94 Parametric VaR"]
)
spy_parametric_var.tail(3)


(
    spy_parametric_var
    .dropna()
    .plot(title="Parametric VaR", xlabel="Date", ylabel="Returns")
)


(
    spy_parametric_var
    .dropna()
    .plot(title="Parametric VaR", xlabel="Date", ylabel="Returns")
)
plt.plot(
    spy_parametric_var
    .dropna()
    .join(spy_excess_returns.apply(lambda df: - np.sqrt(df ** 2)))
    .loc[:, ["SPY"]],
    alpha=.2,
    label="$-\sqrt{r^2}$ of SPY"
)
plt.legend()
plt.show();





pmh.calc_var_cvar_summary(
    spy_excess_returns,
    window=252,
    quantile=.05,
    ewma_theta=.94,
    ewma_initial_vol=.2/np.sqrt(252),
    filter_first_hit_ratio_date="2001-01-01",
    z_score=-1.65,
    return_hit_ratio=True,
    shift=1,
    drop_indexes=["GARCH"]
)


pmh.calc_summary_statistics(
    spy_excess_returns,
    timeframes={
        "2000-2003": ["2000", "2003"],
        "2004-2008": ["2004", "2008"],
        "2009-2012": ["2009", "2012"],
        "2013-2017": ["2013", "2017"],
        "2018-2022": ["2018", "2022"],
    },
    keep_columns=["Annualized Vol", "Annualized Historical VaR"],
    annual_factor=252,
    provided_excess_returns=True
)








def historical_expanding_cvar(return_series: pd.Series, percentile: float = .05) -> pd.Series:
    return return_series.expanding(252).apply(lambda x: x[x < x.quantile(percentile)].mean())

def historical_rolling_cvar(return_series: pd.Series, percentile: float = .05) -> pd.Series:
    return return_series.rolling(252).apply(lambda x: x[x < x.quantile(percentile)].mean())

spy_cvar_example = pd.concat([
    historical_expanding_cvar(spy_excess_returns["SPY"].shift()).to_frame("Expanding CVaR"),
    historical_rolling_cvar(spy_excess_returns["SPY"].shift()).to_frame("Rolling CVaR")
], axis=1)
spy_cvar_example.tail(5)


(
    spy_cvar_example
    .dropna()
    .loc["2001-01-01":]
    .plot(title="Historical CVaR Expanding and Parametric", xlabel="Date", ylabel="Returns")
);





spy_var_cvar_stats = pmh.calc_var_cvar_summary(
    spy_excess_returns,
    window=252,
    drop_columns=["GARCH"],
    z_score=-1.65
)
spy_cvar = (
    spy_var_cvar_stats
    .loc[:, lambda df: df.columns[df.columns.map(lambda x: bool(re.search("CVaR", x)))]]
     .loc["2001-01-01":]
)
spy_cvar.tail()


(
    spy_cvar
    .plot(title="CVaR", xlabel="Date", ylabel="Returns", figsize=(10, 6))
)


cvar_types = [
    'Expanding 252 Historical',
    'Rolling 252 Historical',
    'Expanding 252 Parametric',
    'Rolling 252 Parametric',
    'EWMA 0.94 Parametric'
]
for cvar_type in cvar_types:
    (
        spy_var_cvar_stats
        .loc[:, lambda df: df.columns[df.columns.map(lambda x: bool(re.search(cvar_type, x)))]]
        .loc[:, lambda df: df.columns[df.columns.map(lambda x: bool(re.search("VaR|CVaR", x)))]]
        .loc["2001-01-01":]
        .plot(title=f"{cvar_type} VaR and CVaR", xlabel="Date", ylabel="Returns", figsize=(8, 5))
    )








def calc_garch_volatility(excess_returs: pd.Series, p: int = 1, q: int = 1):
    model = arch_model(excess_returs, vol='Garch', p=p, q=q)
    fitted_model = model.fit(disp='off')
    fitted_values = fitted_model.conditional_volatility
    return pd.Series(fitted_values, index=excess_returs.index)


calc_garch_volatility(spy_excess_returns["SPY"].shift().dropna())


(
    calc_garch_volatility(spy_excess_returns["SPY"].shift().dropna())
    .map(lambda x: x * np.sqrt(252))
    .to_frame("GARCH Volatility")
    .plot(title="GARCH(1, 1) Annualized Volatility")
)


def calc_garch_var(
        excess_returs: pd.Series,
        p: int = 1,
        q: int = 1,
        quantile: float = .05,
        z_score: float = None
    ):
    fitted_values = calc_garch_volatility(excess_returs, p, q)
    if z_score is None:
        z_score = norm.ppf(quantile)
    return -abs(fitted_values * z_score)


(
    calc_garch_var(spy_excess_returns["SPY"].shift().dropna())
    .to_frame("GARCH VaR")
    .plot(title="GARCH(1, 1) VaR", xlabel="Date")
);


spx_garch_var_cvar = pmh.calc_var_cvar_summary(
    spy_excess_returns,
    keep_columns=["GARCH"],
    window=60,
    z_score=-1.65
)
spx_garch_var_cvar


(
    spx_garch_var_cvar
    .drop("GARCH(1, 1) Volatility", axis=1)
    .plot(title="GARCH(1, 1) VaR and CVaR", xlabel="Date")
);


spx_var = pmh.calc_var_cvar_summary(
    spy_excess_returns,
    keep_columns=["VaR"],
    drop_columns=["CVaR"],
    window=252,
    z_score=-1.65
)
(
    spx_var
    .plot(title="GARCH and Other VaR", xlabel="Date")
)


pmh.calc_var_cvar_summary(
    spy_excess_returns,
    return_hit_ratio=True,
    filter_first_hit_ratio_date="2001-01-01",
    window=252,
    z_score=-1.65
)
