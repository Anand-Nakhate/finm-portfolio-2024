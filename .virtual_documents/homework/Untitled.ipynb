import pandas as pd
import numpy as np
import seaborn as sns



df_desc = pd.read_excel('../data/proshares_analysis_data.xlsx', sheet_name='descriptions')
df_hedge_fund = pd.read_excel('../data/proshares_analysis_data.xlsx', sheet_name='hedge_fund_series').rename(columns={'Unnamed: 0':'Date'}).set_index('Date')
df_merrill_factors = pd.read_excel('../data/proshares_analysis_data.xlsx', sheet_name='merrill_factors').rename(columns={'Unnamed: 0':'Date'}).set_index('Date')
df_other = pd.read_excel('../data/proshares_analysis_data.xlsx', sheet_name='other_data')


# 2
hf_return_symmary = pd.DataFrame(index=df_hedge_fund.columns)
# 2.1
hf_return_symmary['mean'] = df_hedge_fund.mean() * 12
hf_return_symmary['volatility'] = df_hedge_fund.std() * (12 ** 0.5)
hf_return_symmary['sharpe_ratio'] = hf_return_symmary['mean'] / hf_return_symmary['volatility']
hf_return_symmary['Max'] = df_hedge_fund.max()
hf_return_symmary['Min'] = df_hedge_fund.min()

hf_return_symmary


# 2.2
hf_risk_summary = pd.DataFrame(index=df_hedge_fund.columns)
hf_risk_summary['Skewness'] = df_hedge_fund.skew()
hf_risk_summary['Excess Kurtosis'] = df_hedge_fund.kurt()-3
hf_risk_summary['VaR(.05)'] = df_hedge_fund.quantile(0.05, axis=0)
hf_risk_summary['CVaR(.05)'] = df_hedge_fund[df_hedge_fund.le(df_hedge_fund.quantile(0.05, axis=0))].mean()
hf_risk_summary['Max'] = df_hedge_fund.max()
hf_risk_summary['Min'] = df_hedge_fund.min()

cum_returns = (1+df_hedge_fund).cumprod()
rolling_max = cum_returns.cummax()
drawdown = (cum_returns - rolling_max)/cum_max
hf_risk_summary['Max Drawdown'] = drawdown.min()
hf_risk_summary['Bottom'] = drawdown.idxmin()

for col in drawdown:
    hf_risk_summary.loc[col, 'Peak'] = (rolling_max.loc[:drawdown.idxmin()[col], col]).idxmax()
    recovery = (drawdown.loc[drawdown.idxmin()[col]:,col])
    try:
        hf_risk_summary.loc[col,'Recovery'] = pd.to_datetime(recovery[recovery >= 0].index[0])
    except:
        hf_risk_summary.loc[col,'Recovery'] = pd.to_datetime(None)
    try:
        hf_risk_summary['Duration'] = (hf_risk_summary['Recovery'] - hf_risk_summary['Peak'])
    except:
        hf_risk_summary['Duration'] = None
hf_risk_summary
hf_risk_summary





# 3
def get_regression_statistics(X, Y):
    df = Y.join(X, how='inner', lsuffix='y')
    Y = df[Y.columns]
    X = df[X.columns]
    model = LinearRegression().fit(X, Y)
    


corrmat = df_hedge_fund.corr()
corrmat[corrmat==1] = None
sns.heatmap(corrmat,annot=True,fmt='.0%')

corr_rank = corrmat.unstack().sort_values().dropna()
pair_max = corr_rank.index[-1]
pair_min = corr_rank.index[0]

print(f'MIN Correlation pair is {pair_min}')
print(f'MAX Correlation pair is {pair_max}')



