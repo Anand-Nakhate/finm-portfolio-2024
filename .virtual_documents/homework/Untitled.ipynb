























import pandas as pd
import numpy as np
from tabulate import tabulate
import seaborn as sns
import matplotlib.pyplot as plt
import statsmodels.api as sm

import warnings
warnings.filterwarnings('ignore')


df_rfr = pd.read_excel('../data/gmo_data.xlsx', sheet_name='risk-free rate').set_index('date')/12
df_ltcm_returns = pd.read_excel('../data/ltcm_exhibits_data.xlsx', sheet_name='Exhibit 2', skiprows=2, index_col=0, parse_dates=[0]).iloc[:-4, :]
df_ltcm_returns.index.name = 'Date'
df_ltcm_returns.index = pd.to_datetime(df_ltcm_returns.index) + pd.tseries.offsets.MonthEnd(0)
df_ltcm_returns = df_ltcm_returns[['Net Monthly Performanceb', 'Gross Monthly Performancea']].dropna().rename(columns={'Net Monthly Performanceb': 'LTCM Net', 'Gross Monthly Performancea': 'LTCM Gross'})
df_spy = pd.read_excel('../data/gmo_data.xlsx', sheet_name='total returns').set_index('date')[['SPY']]
df = df_ltcm_returns.join(df_rfr, how='inner').join(df_spy, how='inner')
df.loc[:, ['LTCM Net', 'LTCM Gross', 'SPY']] = df.loc[:, ['LTCM Net', 'LTCM Gross', 'SPY']].subtract(df['TBill 3M'], axis=0)


df.head()


# 2.1
def calculate_univariate_performance_statistics(df, annualization_factor=1, quantile=0.05, periods=None):
    if periods is None:
        periods = [(df.index.min(), df.index.max())]
    
    summary_list = []

    for period in periods:
        start_date, end_date = period
        period_df = df.loc[start_date:end_date]
        
        summary_df = pd.DataFrame(index=period_df.columns)
        summary_df['Mean'] = period_df.mean() * annualization_factor
        summary_df['Volatility'] = period_df.std() * (annualization_factor ** 0.5)
        summary_df['Sharpe_ratio'] = summary_df['Mean'] / summary_df['Volatility']
        summary_df['Skweness'] = period_df.skew() 
        summary_df['Volatility'] = period_df.kurtosis()
        summary_df[f'VaR({quantile})'] = period_df.quantile(quantile, axis=0)
        
        start_year = pd.to_datetime(start_date).year
        end_year = pd.to_datetime(end_date).year
        summary_df['Period'] = f"{start_year}-{end_year}"
        
        summary_df = summary_df.reset_index().rename(columns={'index': 'Factor'}).set_index(['Period', 'Factor'])
        summary_list.append(summary_df)
    
    summary = pd.concat(summary_list)
    return summary

summary_statistics = calculate_univariate_performance_statistics(df, 12)
summary_statistics.T





# 2.2.a
def calculate_univariate_regression(df_endo, df_exo, annualization=1):
    alphas, r_squared = [], []
    betas_dict = {factor: [] for factor in df_exo.columns} 

    for col in df_endo.columns:
        y = df_endo[col]
        X = sm.add_constant(df_exo)
        model = sm.OLS(y, X, missing='drop').fit()
        
        alpha = model.params['const'] * annualization
        
        for factor in df_exo.columns:
            betas_dict[factor].append(model.params.get(factor, np.nan))
        
        alphas.append(alpha)
        r_squared.append(model.rsquared)

    results_df = pd.DataFrame({
        'Alpha': alphas,
        'R-Squared': r_squared,
    }, index=df_endo.columns)

    for factor, beta_values in betas_dict.items():
        results_df[f'Beta_{factor}'] = beta_values
    
    return results_df


# 2.2.a
calculate_univariate_regression(df[['LTCM Net']], df[['SPY']]).T








# 2.3.a
df_spy_2 = (df[['SPY']]**2).rename(columns={'SPY':'SPY^2'})
calculate_univariate_regression(df[['LTCM Net']], df[['SPY']].join(df_spy_2)).T

                                











# 2.4.a
k1 = 0.03
k2 = -0.03
df['u'] = np.maximum(df['SPY'] - k1, 0)
df['d'] = np.maximum(k2 - df['SPY'], 0)

calculate_univariate_regression(df[['LTCM Net']], df[['SPY', 'u', 'd']].join(df_spy_2)).T












df_rfrs = pd.read_excel('../data/fx_rf_data.xlsx', sheet_name='risk-free rates').set_index('date')
df_rfrs_levels = pd.DataFrame(index=df_rfrs.index)
for col in df_rfrs.columns:
    df_rfrs_levels['log_' + col] = np.log(1+df_rfrs[col])

df_exchange_rates = pd.read_excel('../data/fx_rf_data.xlsx', sheet_name='exchange rates').set_index('date')
df_exchange_levels = pd.DataFrame(index=df_exchange_rates.index)
for col in df_exchange_rates.columns:
    df_exchange_levels['log_' + col] = np.log(1+df_exchange_rates[col])


df_rfrs_levels.head()


df_exchange_levels.head()


holdings = []
for col in df_exchange_levels.columns:
    df_holding_excess = (df_exchange_levels[col] - df_exchange_levels[col].shift(1) + df_rfrs_levels[col].shift(1) - df_rfrs_levels['log_USD'].shift(1)).to_frame().rename(columns={0:col[4:]})
    summary_statistics = calculate_univariate_performance_statistics(df_holding_excess)
    holdings.append(summary_statistics)
df_holdings = holdings[0].T
for i in range(1, len(holdings)):
    df_holdings = df_holdings.join(holdings[i].T)
df_holdings














from tabulate import tabulate

results = []
for col in df_exchange_levels.columns:
    df_endo = (df_exchange_levels[col].diff()).to_frame().rename(columns={0:col[4:]})
    df_exo = (df_rfrs_levels['log_USD'] - df_rfrs_levels[col]).shift(1).to_frame().rename(columns={0:col[4:]})
    results.append(calculate_univariate_regression(df_endo, df_exo))
for result in results:
    print(tabulate(result.T, headers=result.T.columns, tablefmt="heavy_grid"))












alpha_list = []
beta_list = []
currency_list = []

for df in results:
    currency = df.index[0].split('_')[-1]
    alpha = df.loc[df.index[0], 'Alpha']
    beta_col = f'Beta_{currency}'
    beta = df.loc[df.index[0], beta_col]
    currency_list.append(currency)
    alpha_list.append(alpha)
    beta_list.append(beta)
fx_hldg_reg_summary = pd.DataFrame({
    'Alpha': alpha_list,
    'Beta': beta_list
}, index=currency_list)


fx_prem_lst = []
for currency in fx_hldg_reg_summary.index:
    interest_rate_diff = (df_rfrs_levels['log_USD'].shift(1) - df_rfrs_levels[f'log_{currency}'].shift(1))
    alpha = fx_hldg_reg_summary.loc[currency, 'Alpha']
    beta = fx_hldg_reg_summary.loc[currency, 'Beta']
    expected_fx_premium = alpha + (beta - 1) * interest_rate_diff
    expected_fx_premium = expected_fx_premium.dropna()
    positive_premium = (expected_fx_premium > 0).sum()
    total_months = expected_fx_premium.shape[0]
    frequency_positive = (positive_premium / total_months) * 100  # Percentage
    fx_prem_lst.append({
        'Currency': currency,
        'Months - Positive Premium': positive_premium,
        'Total Months': total_months,
        'Frequency(%)-Positive Premium': frequency_positive
    })
fx_premium = pd.DataFrame(fx_prem_lst).set_index('Currency')
fx_premium




