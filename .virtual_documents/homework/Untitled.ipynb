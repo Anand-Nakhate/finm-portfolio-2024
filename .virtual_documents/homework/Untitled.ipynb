import pandas as pd
import numpy as np
import ../midterm1_helper as mh
import matplotlib.pyplot as plt
import re




