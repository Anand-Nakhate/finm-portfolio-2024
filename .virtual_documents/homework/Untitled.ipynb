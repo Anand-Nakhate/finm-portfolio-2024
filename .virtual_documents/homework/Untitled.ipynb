import pandas as pd
import numpy as np
from tabulate import tabulate
import matplotlib.pyplot as plt
import seaborn as sns


df_desc = pd.read_excel('../data/multi_asset_etf_data.xlsx', sheet_name='descriptions')
df_prices = pd.read_excel('../data/multi_asset_etf_data.xlsx', sheet_name='prices')
df_returns = pd.read_excel('../data/multi_asset_etf_data.xlsx', sheet_name='total returns').drop(columns=['Date'])
df_excess_returns = pd.read_excel('../data/multi_asset_etf_data.xlsx', sheet_name='excess returns').drop(columns=['Date'])
rfr = df_returns.loc[:,['SHV']]


df_excess_returns.head(2)


# 2.1 Summary Statistics
summary_statistics = pd.DataFrame(index=df_excess_returns.columns)

summary_statistics['mean'] = df_excess_returns.mean() * 12
summary_statistics['volatility'] = df_excess_returns.std() * (12 ** 0.5)
summary_statistics['sharpe_ratio'] = summary_statistics['mean'] / summary_statistics['volatility']

max_sharpe = summary_statistics['sharpe_ratio'].max()
min_sharpe = summary_statistics['sharpe_ratio'].min()

print(tabulate(summary_statistics, headers=summary_statistics.columns, tablefmt="heavy_grid"))
print(f"ETF with Max Sharpe Ratio: {summary_statistics[summary_statistics['sharpe_ratio'] == max_sharpe]['sharpe_ratio']}")
print(f"ETF with Min Sharpe Ratio: {summary_statistics[summary_statistics['sharpe_ratio'] == min_sharpe]['sharpe_ratio']}")


#2.2 Descriptive Analysis
fig, ax = plt.subplots(figsize=(10,10))
correlation_matrix = df_returns.corr()
sns.heatmap(correlation_matrix, 
        xticklabels=correlation_matrix.columns,
        yticklabels=correlation_matrix.columns, annot=True)

corrs = correlation_matrix.unstack().sort_values().to_frame('Corr')
corrs = corrs[corrs['Corr']!=1]
corrs_max = corrs.index[-1]
corrs_min = corrs.index[0]

print(f'Max Correlation pair is {corrs_max}')
print(f'Min Correlation pair is {corrs_min}')

# TIPS
tips = summary_statistics[summary_statistics.index.isin(['TIP', 'BWX', 'IEF'])]
print(tabulate(tips, headers=tips.columns, tablefmt="heavy_grid"))


# 2.3 The MV Frontier
#ωt ≡ (1/(1′Σ^−1μ))Σ^−1μ
mu = df_returns.mean()*12
cov_matrix = df_returns.cov()*12
inv_cov_matrix = np.linalg.inv(cov_matrix)
ones = np.ones(len(mu))
scaling_factor = 1/(ones.T @ inv_cov_matrix @ mu)
tangency = scaling_factor * (inv_cov_matrix @ mu)
tangency_df = pd.DataFrame({
    'Asset': df_returns.columns,  
    'weights': tangency
})
tangency_df.set_index('Asset', inplace=True)
print(tabulate(tangency_df, headers=tangency_df.columns, tablefmt="heavy_grid"))


common_assets = summary_statistics.index.intersection(tangency_df['Asset'])
summary_statistics_filtered = summary_statistics.loc[common_assets]
tangency_df_filtered = tangency_df[tangency_df['Asset'].isin(common_assets)]
summary_statistics_filtered['sharpe_ranking'] = summary_statistics_filtered['sharpe_ratio'].rank(ascending=False)
tangency_df_filtered['tangency_ranking'] = tangency_df_filtered['weights'].rank(ascending=False)
ranking_df = pd.DataFrame({
    'Asset': summary_statistics_filtered.index,  
    'Sharpe_Ranking': summary_statistics_filtered['sharpe_ranking'],
    'Tangency_Ranking': tangency_df_filtered['tangency_ranking'].values 
})
print(tabulate(ranking_df, headers='keys', tablefmt='heavy_grid', showindex=False))


mean_tangency = tangency.T @ mu
vol_tangency = np.sqrt(tangency.T @ cov_matrix @ tangency)
rfr_mean = rfr['SHV'].mean() * 12 
sharpe_ratio_tangency = (mean_tangency - rfr_mean) / vol_tangency
results = [
    ["Mean Return of Tangency Portfolio", mean_tangency],
    ["Volatility of Tangency Portfolio", vol_tangency],
    ["Sharpe Ratio of Tangency Portfolio", sharpe_ratio_tangency]
]
print(tabulate(results, headers=["", "Value"], tablefmt="heavy_grid", floatfmt=".4f"))


assets_excluding_TIPS = df_returns.drop(columns=['TIP'])  
mu_excluding_TIPS = assets_excluding_TIPS.mean() * 12 
cov_matrix_excluding_TIPS = assets_excluding_TIPS.cov() * 12  

inv_cov_matrix_excluding_TIPS = np.linalg.inv(cov_matrix_excluding_TIPS)
tangency_numerator_excluding_TIPS = inv_cov_matrix_excluding_TIPS @ mu_excluding_TIPS
tangency_denominator_excluding_TIPS = np.ones(len(mu_excluding_TIPS)).T @ tangency_numerator_excluding_TIPS
tangency_weights_excluding_TIPS = tangency_numerator_excluding_TIPS / tangency_denominator_excluding_TIPS

mean_tangency_excluding_TIPS = tangency_weights_excluding_TIPS.T @ mu_excluding_TIPS
vol_tangency_excluding_TIPS = np.sqrt(tangency_weights_excluding_TIPS.T @ cov_matrix_excluding_TIPS @ tangency_weights_excluding_TIPS)
sharpe_ratio_tangency_excluding_TIPS = (mean_tangency_excluding_TIPS - rfr_mean) / vol_tangency_excluding_TIPS

mu_adjusted_TIPS = mu.copy()
mu_adjusted_TIPS['TIP'] += 0.0012  

tangency_numerator_adjusted_TIPS = inv_cov_matrix @ mu_adjusted_TIPS
tangency_denominator_adjusted_TIPS = np.ones(len(mu_adjusted_TIPS)).T @ tangency_numerator_adjusted_TIPS
tangency_weights_adjusted_TIPS = tangency_numerator_adjusted_TIPS / tangency_denominator_adjusted_TIPS

mean_tangency_adjusted_TIPS = tangency_weights_adjusted_TIPS.T @ mu_adjusted_TIPS
vol_tangency_adjusted_TIPS = np.sqrt(tangency_weights_adjusted_TIPS.T @ cov_matrix @ tangency_weights_adjusted_TIPS)
sharpe_ratio_tangency_adjusted_TIPS = (mean_tangency_adjusted_TIPS - rfr_mean) / vol_tangency_adjusted_TIPS

results = [
    ["Original (with TIPS)", mean_tangency, vol_tangency, sharpe_ratio_tangency],
    ["Excluding TIPS", mean_tangency_excluding_TIPS, vol_tangency_excluding_TIPS, sharpe_ratio_tangency_excluding_TIPS],
    ["Adjusted TIPS", mean_tangency_adjusted_TIPS, vol_tangency_adjusted_TIPS, sharpe_ratio_tangency_adjusted_TIPS]
]

print(tabulate(results, headers=["Portfolio", "Mean Return", "Volatility", "Sharpe Ratio"], tablefmt="heavy_grid", floatfmt=".4f"))


target_mean = .01
allocations = pd.DataFrame(index = df_excess_returns.columns, columns = ['tangency', 'EW', 'RP', 'REG'])

mu = df_excess_returns.mean()*12
cov_matrix = df_excess_returns.cov()*12
inv_cov_matrix = np.linalg.inv(cov_matrix)
ones = np.ones(len(mu))
scaling_factor = 1/(ones.T @ inv_cov_matrix @ mu)
tangency = scaling_factor * (inv_cov_matrix @ mu)
allocations['tangency'] = tangency

allocations['EW'] = 1/len(df_excess_returns.columns)

allocations['RP'] = (1/(1/df_excess_returns.var()).sum())*1/df_excess_returns.var()

diag_cov = np.diag(np.diag(cov_matrix))
reg_cov = (cov_matrix + diag_cov)/2
inv_reg_cov = np.linalg.inv(reg_cov)
scaling_factor_reg = 1/(ones.T@inv_reg_cov@ mu)
reg_weights = scaling_factor_reg * (inv_reg_cov@ mu)
allocations['REG'] = reg_weights

allocations *= target_mean / (df_excess_returns.mean()@allocations)
allocations


performance = pd.DataFrame(columns=['Mean Return', 'Volatility', 'Sharpe Ratio'], index=['tangency', 'EW', 'RP', 'REG'])

for portfolio in ['tangency', 'EW', 'RP', 'REG']:
    weights = allocations[portfolio].values
    mean_return = np.dot(weights, mu) * 12
    volatility = np.sqrt(weights.T @ cov_matrix @ weights) * (12**0.5)
    sharpe_ratio = (mean_return) / volatility  
    performance.loc[portfolio, 'Mean Return'] = mean_return
    performance.loc[portfolio, 'Volatility'] = volatility
    performance.loc[portfolio, 'Sharpe Ratio'] = sharpe_ratio

print(tabulate(performance, headers='keys', tablefmt='heavy_grid', floatfmt=".4f"))









