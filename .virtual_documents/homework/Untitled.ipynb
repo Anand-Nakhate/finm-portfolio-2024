import pandas as pd
import numpy as np
from tabulate import tabulate
import seaborn as sns
import matplotlib.pyplot as plt
import statsmodels.api as sm


df_desc = pd.read_excel('../data/momentum_data.xlsx', sheet_name='descriptions')
df_factors = pd.read_excel('../data/momentum_data.xlsx', sheet_name='factors (excess returns)').set_index('Date')
df_momentum = pd.read_excel('../data/momentum_data.xlsx', sheet_name='momentum (excess returns)').set_index('Date')
df_deciles = pd.read_excel('../data/momentum_data.xlsx', sheet_name='deciles (total returns)').set_index('Date')
df_size_sorts = pd.read_excel('../data/momentum_data.xlsx', sheet_name='size_sorts (total returns)').set_index('Date')
df_rfr = pd.read_excel('../data/momentum_data.xlsx', sheet_name='risk-free rate').set_index('Date')



