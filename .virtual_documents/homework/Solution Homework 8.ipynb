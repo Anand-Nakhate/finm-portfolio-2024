








import pandas as pd
import numpy as np
import matplotlib.pyplot as plt
import seaborn as sns
import statsmodels.api as sm
import sys

sys.path.append("../cmds/")
import TA_utils as ta


plt.style.use("ggplot")

# Read ltcm_exhibits_data.xlsx and get sheet Exhibit 2
ltcm = pd.read_excel(
    "../data/ltcm_exhibits_data.xlsx",
    sheet_name="Exhibit 2",
    skiprows=2,
    index_col=0,
    parse_dates=[0],
).iloc[:-4, :]
ltcm.index.name = "Date"

# Get SPY returns from returns (total) in gmo_analysis_data.xlsx
spy = pd.read_excel(
    "../data/gmo_analysis_data.xlsx",
    sheet_name="total returns",
    index_col=0,
    parse_dates=[0],
)[["SPY"]]
us3m = (
    pd.read_excel(
        "../data/gmo_analysis_data.xlsx",
        sheet_name="risk-free rate",
        index_col=0,
        parse_dates=[0],
    )[["TBill 3M"]]
    / 12
)

# Make index a dateindex not a timestamp for ltcm
ltcm.index = pd.to_datetime(
    ltcm.index, format="%Y-%m-%d"
) + pd.tseries.offsets.MonthEnd(0)

ltcm = ltcm[["Net Monthly Performanceb", "Gross Monthly Performancea"]].dropna()
ltcm = ltcm.rename(
    columns={
        "Net Monthly Performanceb": "LTCM Net",
        "Gross Monthly Performancea": "LTCM Gross",
    }
)

# Join on month and year of the index
df = ltcm.join(spy, how="inner").join(us3m, how="inner")

# Convert to EXCESS returns
df.loc[:, ["LTCM Net", "LTCM Gross", "SPY"]] = df.loc[
    :, ["LTCM Net", "LTCM Gross", "SPY"]
].subtract(df["TBill 3M"], axis=0)

ta.calc_performance_metrics(df[["LTCM Net", "LTCM Gross", "SPY"]]).T








ta.calc_iterative_regression(
    df[["LTCM Net", "LTCM Gross"]], df[["SPY"]], one_to_many=True
).T





df["SPY_Squared"] = df["SPY"] ** 2
df["SPY_Put"] = np.maximum(-0.03 - df["SPY"], 0)
df["SPY_Call"] = np.maximum(df["SPY"] - 0.03, 0)

ta.calc_iterative_regression(
    df[["LTCM Net", "LTCM Gross"]], df[["SPY", "SPY_Squared"]], one_to_many=True
).T








ta.calc_iterative_regression(
    df[["LTCM Net", "LTCM Gross"]], df[["SPY", "SPY_Put", "SPY_Call"]], one_to_many=True
).T








risk_free_rates = pd.read_excel(
    "../data/fx_rf_data.xlsx",
    sheet_name="risk-free rates",
    index_col=0,
    parse_dates=[0],
)
exchange_rates = pd.read_excel(
    "../data/fx_rf_data.xlsx", sheet_name="exchange rates", index_col=0, parse_dates=[0]
)

risk_free_rates = risk_free_rates / 252
risk_free_rates = np.log(1 + risk_free_rates)
exchange_rates = np.log(exchange_rates)





# Get the log return relative to USD, defined as
# ret = spot_{t+1} - spot_{t} + rf_{foreign,t,t+1} - rf_{USD,t,t+1}

rets = pd.DataFrame(data=0, index=exchange_rates.index, columns=exchange_rates.columns)
for col in exchange_rates.columns:
    rets[col] = (
        exchange_rates[col].shift(-1) # Gets spot_{t+1}
        - exchange_rates[col]         # Gets spot_{t}
        + risk_free_rates[col]        # Risk free rate at time t -> t+1
        - risk_free_rates["USD"]      # Local risk free rate at time t -> t+1
    )

rets = rets.dropna()

ta.calc_performance_metrics(rets, adj=252)[
    ["Annualized Return", "Annualized Volatility", "Annualized Sharpe Ratio"]
].T





fx_hldg_reg = {"Alpha": [], "Beta": [], "R-Squared": []}

for col in exchange_rates.columns:
    # y = fx_{t+1} - fx_{t}
    y = exchange_rates.shift(-1)[col] - exchange_rates[col]

    # X = rf_{USD, t, t+1} - rf_{foreign, t, t+1}
    X = risk_free_rates["USD"] - risk_free_rates[col]

    summ = ta.calc_univariate_regression(y, X, intercept=True, adj=252)
    fx_hldg_reg["Alpha"].append(summ.loc[col, "Alpha"])
    fx_hldg_reg["Beta"].append(summ.loc[col, "Beta"])
    fx_hldg_reg["R-Squared"].append(summ.loc[col, "R-Squared"])

fx_hldg_reg_summary = pd.DataFrame(fx_hldg_reg, index=exchange_rates.columns).T
fx_hldg_reg_summary





fx_prem_df = pd.DataFrame(
    data=0, index=exchange_rates.index, columns=exchange_rates.columns
)

for col in exchange_rates.columns:
    # Get expected value as :
    # alpha + (beta - 1) * (rf_{USD, t, t+1} - rf_{foreign, t, t+1})
    expected_value = (1 / 252) * fx_hldg_reg_summary.loc[
        "Alpha", col
    ] + (fx_hldg_reg_summary.loc["Beta", col] - 1) * (
        risk_free_rates["USD"] - risk_free_rates[col]
    )
    fx_prem_df[col] = expected_value

fx_prem_df = fx_prem_df.dropna()

# Calculate how often each is > 0
(
    ((fx_prem_df > 0).sum() / len(fx_prem_df)).to_frame("Predicted > 0") * 100
).style.format("{:.2f}%")



