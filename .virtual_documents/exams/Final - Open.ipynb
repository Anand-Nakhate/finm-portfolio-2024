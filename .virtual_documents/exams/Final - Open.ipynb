




















import pandas as pd
import numpy as np
from tabulate import tabulate
import seaborn as sns
import matplotlib.pyplot as plt
import statsmodels.api as sm

import warnings
warnings.filterwarnings('ignore')











df_asset_returns = pd.read_excel('../data/final_exam_data.xlsx', sheet_name='Asset Returns').set_index('Date')
df_asset_returns.head()


df_factor_returns = pd.read_excel('../data/final_exam_data.xlsx', sheet_name='Factor Returns').set_index('Date')
df_factor_returns.head()


df_asset_betas = pd.read_excel('../data/final_exam_data.xlsx', sheet_name='Asset Betas')
df_asset_betas.head()


# Note: Since the given models has no intercept, I am running an OLS regression without intercept.
df_asset_betas = df_asset_betas.set_index('Ticker')
df_asset_returns = df_asset_returns[df_asset_betas.index]

betas_2d = df_asset_betas['betas'].values.reshape(-1, 1)

lambda_values = []

for date, row in df_asset_returns.iterrows():
    y = row.values  
    X = betas_2d     
    
    model = sm.OLS(y, X)
    results = model.fit()
    
    lambda_t = results.params[0]
    lambda_values.append(lambda_t)

lambda_series = pd.Series(lambda_values, index=df_asset_returns.index)

last_3_values = lambda_series.iloc[-3:]
annual_factor = 252
annualized_mean = lambda_series.mean() * annual_factor
annualized_vol = lambda_series.std() * np.sqrt(annual_factor)

print("Last 3 λ values:")
print(last_3_values)
print("Annualized mean of λ:", annualized_mean)
print("Annualized volatility of λ:", annualized_vol)





factor_returns = df_factor_returns['factor']

lambda_cum = lambda_series.cumsum()
factor_cum = factor_returns.cumsum()

plt.figure(figsize=(10,6))
plt.plot(lambda_cum, label='Cumulative λ_t')
plt.plot(factor_cum, label='Cumulative f_t')
plt.title('Cumulative Excess Returns of λ and f')
plt.xlabel('Date')
plt.ylabel('Cumulative Returns')
plt.legend()
plt.tight_layout()
plt.show()

correlation = lambda_series.corr(factor_returns)
print("Correlation between λ_t and f_t:", correlation)

lambda_autocorr = lambda_series.autocorr(lag=1)
factor_autocorr = factor_returns.autocorr(lag=1)

print("Serial Correlation of λ_t:", lambda_autocorr)
print("Serial Correlation  of f_t:", factor_autocorr)














mean_asset_returns = df_asset_returns.mean()
mean_factor = df_factor_returns['factor'].mean()  

betas = df_asset_betas['betas']  

X = sm.add_constant(betas.values)  
y = mean_asset_returns.values

model = sm.OLS(y, X)
results = model.fit()

intercept = results.params[0]
slope = results.params[1]
r_squared = results.rsquared

print("Intercept (η):", intercept)
print("Slope coefficient (should approximate E[f]):", slope)
print("Mean factor return (E[f]):", mean_factor)
print("R-squared:", r_squared)
# print(results.summary())

















df_rfrs = pd.read_excel('../data/fx_rf_data.xlsx', sheet_name='risk-free rates').set_index('date')
df_rfrs.head()


df_exchange_rates = pd.read_excel('../data/fx_rf_data.xlsx', sheet_name='exchange rates').set_index('date')
df_exchange_rates.head()








df_rfrs_daily = df_rfrs / 252.0
df_exchange_rates['USD'] = 1.0
all_currencies = df_exchange_rates.columns.tolist()
df_exchange_rates_shifted = df_exchange_rates.shift(-1)
excess_returns = pd.DataFrame(index=df_rfrs.index, columns=all_currencies, dtype=float)

for c in all_currencies:
    excess_returns[c] = ((df_exchange_rates_shifted[c] / df_exchange_rates[c]) * (1 + df_rfrs_daily[c])) - (1 + df_rfrs_daily['USD'])

excess_returns = excess_returns.iloc[:-1]

excess_returns = excess_returns.loc['2018-01-01':'2024-08-31']

for c in all_currencies:
    print(f"{c} Excess Returns (First 3):")
    print(excess_returns[[c]].head(3))
    print(f"{c} Excess Returns (Last 3):")
    print(excess_returns[[c]].tail(3))
    print("--------------------------------")



# GPT Prompt: Share the formula to calculate the arithmetic excess return





import pandas as pd
import numpy as np


daily_mean = excess_returns.mean()
annualized_mean = daily_mean * 252

daily_vol = excess_returns.std()
annualized_vol = daily_vol * np.sqrt(252)

skewness = excess_returns.skew()

excess_kurtosis = excess_returns.kurt()  

cumulative_returns = (1 + excess_returns).cumprod()
running_max = cumulative_returns.cummax()
drawdowns = (cumulative_returns - running_max) / running_max
max_drawdown = drawdowns.min()  # the most negative value

correlation_matrix = excess_returns.corr()

# Print all the results
print("Annualized Mean:")
print(annualized_mean)
print("\nAnnualized Volatility:")
print(annualized_vol)
print("\nSkewness:")
print(skewness)
print("\nExcess Kurtosis:")
print(excess_kurtosis)
print("\nMax Drawdown:")
print(max_drawdown)
print("\nCorrelation Matrix:")
print(correlation_matrix)





last_2017_date = df_rfrs.loc[:'2017-12-31'].index.max()
rates_on_last_2017_date = df_rfrs.loc[last_2017_date]

usd_rate_2017 = rates_on_last_2017_date['USD']
foreign_currencies = [c for c in df_rfrs.columns if c != 'USD']

carry_diffs_2017 = rates_on_last_2017_date[foreign_currencies] - usd_rate_2017

highest_carry_currency_2017 = carry_diffs_2017.idxmax()
highest_carry_value_2017 = carry_diffs_2017.max()

print(f"As of Dec 2017, the currency with the most carry is {highest_carry_currency_2017}, "
      f"with a differential of {highest_carry_value_2017:.6f}.")












Z = excess_returns.mean(axis=1) 

results = pd.DataFrame(columns=['Annualized_Alpha', 'Beta', 'R_squared'])

for currency in excess_returns.columns:
    y = excess_returns[[currency]]
    X = sm.add_constant(Z)
    model = sm.OLS(y, X, missing='drop').fit()
    
    alpha = model.params['const']
    beta = model.params[0]
    
    annualized_alpha = alpha * 252
    r_squared = model.rsquared

    results.loc[currency] = [annualized_alpha, beta, r_squared]
results























excess_returns_non_usd = excess_returns.drop(columns='USD', errors='ignore')
mu = excess_returns_non_usd.mean()
Sigma = excess_returns_non_usd.cov()
Sigma_inv = np.linalg.inv(Sigma.values)

ones = np.ones(len(mu))
num = Sigma_inv @ mu.values
den = ones @ num
w_tangency = num / den

tangency_weights = pd.Series(w_tangency, index=mu.index)
print("Tangency Weights:")
print(tangency_weights)

tangency_returns = excess_returns_non_usd @ tangency_weights

daily_mean = tangency_returns.mean()
annualized_mean = daily_mean * 252

daily_vol = tangency_returns.std()
annualized_vol = daily_vol * np.sqrt(252)

skewness = tangency_returns.skew()
excess_kurtosis = tangency_returns.kurt()

cumulative = (1 + tangency_returns).cumprod()
running_max = cumulative.cummax()
drawdowns = (cumulative - running_max) / running_max
max_drawdown = drawdowns.min()
print("\nTangency Portfolio Performance Metrics (2018–2024):")
print("Annualized Mean:", annualized_mean)
print("Annualized Volatility:", annualized_vol)
print("Skewness:", skewness)
print("Excess Kurtosis:", excess_kurtosis)
print("Max Drawdown:", max_drawdown)





start_date = '2018-01-01'
end_date = '2024-08-31'

df_rfrs_filtered = df_rfrs.loc[start_date:end_date]
df_ex_filtered = df_exchange_rates.loc[start_date:end_date]

df_rfrs_daily = df_rfrs_filtered / 252.0

df_ex_shifted = df_ex_filtered.shift(-1)

SY_excess_returns = ((df_ex_filtered['JPY'] * (1 + df_rfrs_daily['USD']) 
                     - (1 + df_rfrs_daily['JPY']) * df_ex_shifted['JPY']) 
                     / df_ex_filtered['JPY']) - 1

SY_excess_returns = SY_excess_returns.iloc[:-1]

print("Short-Yen Excess Returns (First 3):")
print(SY_excess_returns.head(3))
print("\nShort-Yen Excess Returns (Last 3):")
print(SY_excess_returns.tail(3))





daily_mean = SY_excess_returns.mean()
annualized_mean = daily_mean * 252

daily_vol = SY_excess_returns.std()
annualized_vol = daily_vol * np.sqrt(252)

skewness = SY_excess_returns.skew()
excess_kurtosis = SY_excess_returns.kurt()

cumulative_returns = (1 + SY_excess_returns).cumprod()
running_max = cumulative_returns.cummax()
drawdowns = (cumulative_returns - running_max) / running_max
max_drawdown = drawdowns.min()

min_return_date = SY_excess_returns.idxmin()
max_return_date = SY_excess_returns.idxmax()

print("Short-Yen Trade Performance Metrics (Jan 2018 - Aug 2024):")
print("Annualized Mean:", annualized_mean)
print("Annualized Volatility:", annualized_vol)
print("Skewness:", skewness)
print("Excess Kurtosis:", excess_kurtosis)
print("Max Drawdown:", max_drawdown)
print(f"\nDate of Minimum Return: {min_return_date}, Value: {SY_excess_returns.min()}")
print(f"Date of Maximum Return: {max_return_date}, Value: {SY_excess_returns.max()}")



